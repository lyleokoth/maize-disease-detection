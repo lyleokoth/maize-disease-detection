{
 "cells": [
  {
   "cell_type": "code",
   "execution_count": 1,
   "metadata": {},
   "outputs": [],
   "source": [
    "import numpy as np\n",
    "import cv2\n",
    "import matplotlib.pyplot as plt\n",
    "%matplotlib inline"
   ]
  },
  {
   "cell_type": "code",
   "execution_count": null,
   "metadata": {},
   "outputs": [],
   "source": [
    "Signs and Symptoms of the different cassava diseases\n",
    "\n",
    "We are dealing with four distinct diseases, cassava bacterial blight, cassava mosaic \n",
    "disease, cgm and cbsd \n",
    "\n",
    "source\n",
    "http://www.plantvillagepsu.edu/topics/cassava-manioc/infos"
   ]
  },
  {
   "cell_type": "code",
   "execution_count": null,
   "metadata": {},
   "outputs": [],
   "source": [
    "cassava bacterial blight\n",
    "Symptoms\n",
    "\n",
    "At first, angular water-soaked spots occur on the leaves which are restricted by the veins;\n",
    "the spots are more cearly seen on the lower surface. The spots expand rapidly, join \n",
    "together, especially along the margins of the leaves, and turn brown with yellow borders.\n",
    "Droplets of creamy-white ooze occur at the center of the spots; later, they turn yellow. \n",
    "The bacteria travel in the vascular system from the leaf blades to the leaf stalks and from\n",
    "here to the stems.\n",
    "\n",
    "Detection\n",
    "1. Look to see if leaves are drying and dying early\n",
    "2. Look for angular spots on the leaves\n",
    "3. Look for dark brown to black streaks on the green part of the stem, and for the presence\n",
    "    of a sticky liquid."
   ]
  },
  {
   "cell_type": "code",
   "execution_count": null,
   "metadata": {},
   "outputs": [],
   "source": [
    "cassava brown streak disease\n",
    "Symptoms\n",
    "\n",
    "Detection\n",
    "1. Chlorosys of the leaf, leaving large yellow patches."
   ]
  },
  {
   "cell_type": "code",
   "execution_count": null,
   "metadata": {},
   "outputs": [],
   "source": [
    "Cassava Green Mite\n",
    "Symptoms\n",
    "\n",
    "Yellow stippin leaves; chlorotic spots on leaves; chlorosis of entire leaves; if \n",
    "infestation is very high then leaves may be stunted and deformed; terminal leaves may die\n",
    "and drop from plant; pest responsible is a tiny green mite\n",
    "\n",
    "1. Chlorois(yellowing of leaves)\n",
    "2. Leaves become shrivelled, mottled in serious cases\n",
    "3. Check for presnce of mites on the underside of leaves\n",
    "4. Yellow speckles evenly distributed on young leaves usually the top 1/3 of the plant"
   ]
  }
 ],
 "metadata": {
  "kernelspec": {
   "display_name": "Python 3",
   "language": "python",
   "name": "python3"
  },
  "language_info": {
   "codemirror_mode": {
    "name": "ipython",
    "version": 3
   },
   "file_extension": ".py",
   "mimetype": "text/x-python",
   "name": "python",
   "nbconvert_exporter": "python",
   "pygments_lexer": "ipython3",
   "version": "3.7.6"
  }
 },
 "nbformat": 4,
 "nbformat_minor": 2
}
