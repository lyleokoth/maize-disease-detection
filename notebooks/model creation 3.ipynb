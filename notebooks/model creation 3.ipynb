{
 "cells": [
  {
   "cell_type": "code",
   "execution_count": 1,
   "metadata": {},
   "outputs": [],
   "source": [
    "from sklearn.ensemble import RandomForestClassifier\n",
    "from sklearn.linear_model import LogisticRegression\n",
    "from sklearn.naive_bayes import BernoulliNB\n",
    "from sklearn.neighbors import KNeighborsClassifier\n",
    "from sklearn.neural_network import MLPClassifier\n",
    "from sklearn.svm import LinearSVC, SVC\n",
    "from sklearn.tree import DecisionTreeClassifier\n",
    "from sklearn.metrics import accuracy_score, auc, classification_report, confusion_matrix, f1_score\n",
    "from sklearn.preprocessing import StandardScaler\n",
    "from sklearn.model_selection import train_test_split\n",
    "from sklearn.preprocessing import LabelEncoder\n",
    "\n",
    "from sklearn.feature_selection import RFECV\n",
    "from sklearn.model_selection import KFold\n",
    "from sklearn.model_selection import cross_val_score, cross_val_predict \n",
    "from sklearn.model_selection import GridSearchCV, RandomizedSearchCV"
   ]
  },
  {
   "cell_type": "code",
   "execution_count": 2,
   "metadata": {},
   "outputs": [],
   "source": [
    "#for array manipulations\n",
    "import numpy as np\n",
    "import pandas as pd\n",
    "#for image processing\n",
    "import cv2 \n",
    "#for displaying images\n",
    "import matplotlib.pyplot as plt\n",
    "#to display images in this notebook, not in a separate window\n",
    "%matplotlib inline\n",
    "#to access system resources such as directories\n",
    "import os\n",
    "#This wilallow us to get the training time of each model\n",
    "import time"
   ]
  },
  {
   "cell_type": "code",
   "execution_count": 3,
   "metadata": {},
   "outputs": [
    {
     "data": {
      "text/plain": [
       "'C:\\\\Users\\\\USER\\\\Documents\\\\GitHub\\\\maize-disease-detection\\\\notebooks'"
      ]
     },
     "execution_count": 3,
     "metadata": {},
     "output_type": "execute_result"
    }
   ],
   "source": [
    "os.getcwd()"
   ]
  },
  {
   "cell_type": "code",
   "execution_count": 4,
   "metadata": {},
   "outputs": [],
   "source": [
    "#set our base directory. This should point to the location of the plant-diseases folder\n",
    "base_dir = 'C:\\\\Users\\\\USER\\\\Documents\\\\GitHub\\\\maize-disease-detection'\n",
    "data_folder = os.path.join(base_dir, 'data')\n",
    "maize_data_folder = os.path.join(data_folder, 'maize')"
   ]
  },
  {
   "cell_type": "code",
   "execution_count": 5,
   "metadata": {},
   "outputs": [],
   "source": [
    "#This function loads 32 images of a particular disease\n",
    "def get_32(disease):\n",
    "    '''\n",
    "    disease:\n",
    "        A string that could be common_rust, healthy, leaf_spot, nothern_leaf_blight\n",
    "    ........\n",
    "    disease_images:\n",
    "        A list of images for the selected disease\n",
    "    '''\n",
    "    #this list will contain the 20 images returned\n",
    "    disease_images = []\n",
    "    #path to the images\n",
    "    disease_images_path = os.path.join(maize_data_folder, disease)\n",
    "    for image_path in os.listdir(disease_images_path):\n",
    "        image_path = os.path.join(disease_images_path, image_path)\n",
    "        image = cv2.imread(image_path, cv2.IMREAD_COLOR)\n",
    "        image = cv2.cvtColor(image,cv2.COLOR_BGR2RGB)\n",
    "        disease_images.append(image)\n",
    "    return disease_images\n",
    "\n",
    "#This function will help us plot 10 images\n",
    "def plot_images(images, title):\n",
    "    '''\n",
    "    images: List\n",
    "        List of images\n",
    "    title: String\n",
    "        Title for each image i.e name of disease\n",
    "    '''\n",
    "    plt.figure(figsize=(15,6))\n",
    "    for i in range(10):\n",
    "        plt.subplot(2,5, i+1)\n",
    "        plt.imshow(images[i])\n",
    "        plt.title(title)\n",
    "        plt.xticks([])\n",
    "        plt.yticks([])\n",
    "    plt.show()\n",
    "    \n",
    "#This function generates ORB features\n",
    "def extract_features_orb(image, vector_size=32):\n",
    "    try:\n",
    "        feature_generator = cv2.ORB_create()\n",
    "        orb_keypoints = feature_generator.detect(image)\n",
    "        orb_keypoints = orb_keypoints[:32]\n",
    "        orb_keypoints, orb_descriptors = feature_generator.compute(image, orb_keypoints)\n",
    "        orb_descriptors = orb_descriptors.flatten()\n",
    "        #The descriptor vector size is 128\n",
    "        needed_size = (vector_size*128)\n",
    "        if orb_descriptors.size < needed_size:\n",
    "            #If we have less than 32 keypoints, add zeros to the end of our vector\n",
    "            orb_descriptors = np.concatenate([orb_descriptors, np.zeros(needed_size - orb_descriptors.size)])\n",
    "    except cv2.error as e:\n",
    "        print(f'Error: {e}')\n",
    "        return None\n",
    "    return orb_descriptors\n",
    "\n",
    "#This function generates KAZE features\n",
    "def extract_features_kaze(image, vector_size=32):\n",
    "    try:\n",
    "        feature_generator = cv2.KAZE_create()\n",
    "        kaze_keypoints = feature_generator.detect(image)\n",
    "        kaze_keypoints = kaze_keypoints[:32]\n",
    "        kaze_keypoints, kaze_descriptors = feature_generator.compute(image, kaze_keypoints)\n",
    "        kaze_descriptors = kaze_descriptors.flatten()\n",
    "        #The descriptor vector size is 128\n",
    "        needed_size = (vector_size*128)\n",
    "        if kaze_descriptors.size < needed_size:\n",
    "            #If we have less than 32 keypoints, add zeros to the end of our vector\n",
    "            kaze_descriptors = np.concatenate([kaze_descriptors, np.zeros(needed_size - kaze_descriptors.size)])\n",
    "    except cv2.error as e:\n",
    "        print(f'Error: {e}')\n",
    "        return None\n",
    "    return kaze_descriptors\n",
    "\n",
    "def extract_features_hog(image, feature_size=4096):\n",
    "    hog = cv2.HOGDescriptor()\n",
    "    features = hog.compute(image)\n",
    "    required_features = features[:feature_size].ravel()\n",
    "    return required_features\n",
    "\n",
    "#Let us extraxt KAZE features\n",
    "def extract_features(algorithm=0):\n",
    "    '''\n",
    "    Algorithm:\n",
    "        1 for ORB\n",
    "        0 for KAZE\n",
    "        2 for HOG\n",
    "    '''\n",
    "    #Now let us perform these steps for all the 32 images loaded\n",
    "    #This will contain all our images\n",
    "    all_images = []\n",
    "    #This will contain all our labels\n",
    "    all_labels = []\n",
    "    labels = ['common_rust', 'healthy', 'leaf_spot', 'nothern_leaf_blight']\n",
    "    for i, image_folder in enumerate([common_rust_images, healthy_images, leaf_spot_images, nothern_leaf_blight_images]):\n",
    "        for image in image_folder:\n",
    "            all_images.append(image)\n",
    "            all_labels.append(labels[i])\n",
    "    features, labels = [], []\n",
    "    for i, image in enumerate(all_images):\n",
    "        image_features = []\n",
    "        try:\n",
    "            if algorithm == 1:\n",
    "                image_features = extract_features_orb(image)\n",
    "            elif algorithm == 0:\n",
    "                image_features = extract_features_kaze(image)\n",
    "            else:\n",
    "                image_features = extract_features_hog(image)\n",
    "            image_label = all_labels[i]\n",
    "            features.append(image_features)\n",
    "            labels.append(image_label)\n",
    "        except AttributeError as e:\n",
    "            print(e)\n",
    "    features = np.array(features)\n",
    "    labels = np.array(labels)\n",
    "    features = StandardScaler().fit_transform(features)\n",
    "    labels = LabelEncoder().fit_transform(labels)\n",
    "    X_train, X_test, y_train, y_test = train_test_split(features, labels, test_size=0.3)\n",
    "    \n",
    "    return X_train, X_test, y_train, y_test\n",
    "\n",
    "#Let us extraxt KAZE features\n",
    "def extract_features2(algorithm=0):\n",
    "    '''\n",
    "    Algorithm:\n",
    "        1 for ORB\n",
    "        0 for KAZE\n",
    "        2 for HOG\n",
    "    '''\n",
    "    #Now let us perform these steps for all the 32 images loaded\n",
    "    #This will contain all our images\n",
    "    all_images = []\n",
    "    #This will contain all our labels\n",
    "    all_labels = []\n",
    "    labels = ['common_rust', 'healthy', 'leaf_spot', 'nothern_leaf_blight']\n",
    "    for i, image_folder in enumerate([common_rust_images, healthy_images, leaf_spot_images, nothern_leaf_blight_images]):\n",
    "        for image in image_folder:\n",
    "            all_images.append(image)\n",
    "            all_labels.append(labels[i])\n",
    "    features, labels = [], []\n",
    "    for i, image in enumerate(all_images):\n",
    "        image_features = []\n",
    "        try:\n",
    "            if algorithm == 1:\n",
    "                image_features = extract_features_orb(image)\n",
    "            elif algorithm == 0:\n",
    "                image_features = extract_features_kaze(image)\n",
    "            else:\n",
    "                image_features = extract_features_hog(image)\n",
    "            image_label = all_labels[i]\n",
    "            features.append(image_features)\n",
    "            labels.append(image_label)\n",
    "        except AttributeError as e:\n",
    "            print(e)\n",
    "    features = np.array(features)\n",
    "    labels = np.array(labels)\n",
    "    features = StandardScaler().fit_transform(features)\n",
    "    labels = LabelEncoder().fit_transform(labels)\n",
    "    \n",
    "    return features, labels\n",
    "\n",
    "#This method gives us a rough idea about the accuracy of the base models and their raining times\n",
    "def train_base_models(X_train, y_train, X_test, y_test):\n",
    "    '''\n",
    "    '''\n",
    "    model_accuracy = []\n",
    "    train_time = []\n",
    "    model_names = []\n",
    "    for i, classifier in enumerate(models):\n",
    "        try:\n",
    "            #Let us train the model and get the training time\n",
    "            start_time = time.time()\n",
    "            classifier.fit(X_train, y_train)\n",
    "            stop_time = time.time()\n",
    "            train_time.append(stop_time - start_time)\n",
    "            predictions = classifier.predict(X_test)\n",
    "            accuracy = accuracy_score(y_test, predictions)\n",
    "            model_accuracy.append(round(accuracy, 3))\n",
    "            model_names.append(names[i])\n",
    "            print(f'{names[i]}: {round(accuracy, 3)}')\n",
    "        except Exception as e:\n",
    "            print(f'Could not train {names[i]} because of {e}')\n",
    "    df = pd.DataFrame({'Model':model_names, 'Accuracy':model_accuracy, 'Train Time':train_time})\n",
    "    df = df.sort_values(by=['Accuracy'], ascending=False)\n",
    "    return df\n",
    "\n",
    "#This method gives us a rough idea about the accuracy of the base models and their raining times\n",
    "def train_base_models2(features, labels):\n",
    "    '''\n",
    "    '''\n",
    "    #We use cross-validation\n",
    "    model_accuracy = []\n",
    "    train_time = []\n",
    "    model_names = []\n",
    "    \n",
    "    for i, classifier in enumerate(models):\n",
    "        try:\n",
    "            #Let us train the model and get the training time\n",
    "            start_time = time.time()\n",
    "            scores = cross_val_score(classifier, features, labels, scoring='accuracy', cv=10)\n",
    "            stop_time = time.time()\n",
    "            train_time.append(stop_time - start_time)\n",
    "            model_accuracy.append(round(np.mean(scores), 3))\n",
    "            model_names.append(names[i])\n",
    "            print(f'{names[i]}: {round(np.mean(scores), 3)}')\n",
    "        except Exception as e:\n",
    "            print(f'Could not train {names[i]} because of {e}')\n",
    "    df = pd.DataFrame({'Model':model_names, 'Accuracy':model_accuracy, 'Train Time':train_time})\n",
    "    df = df.sort_values(by=['Accuracy'], ascending=False)\n",
    "    return df\n",
    "\n",
    "#This function returns the model perfomance on kaze data\n",
    "def kaze_results(algorithm=0):\n",
    "    models_names = []\n",
    "    model_perfomance = []\n",
    "    train_time = []\n",
    "    for i, model in enumerate(kaze_models):\n",
    "        start = time.time()\n",
    "        scores = cross_val_score(model, X,y, scoring='accuracy', cv=10)\n",
    "        stop = time.time()\n",
    "        models_names.append(model_names[i])\n",
    "        model_perfomance.append(round(scores.mean(), 2))\n",
    "        train_time.append((stop - start)/10)\n",
    "    df = pd.DataFrame({'Model Name':models_names, 'Model Accuracy':model_perfomance, 'Training time':train_time})\n",
    "    df = df.sort_values(by=['Model Accuracy'], ascending=False)\n",
    "    return df\n",
    "\n",
    "#This function returns the model perfomance on hog data\n",
    "def hog_results(X,y):\n",
    "    models_names = []\n",
    "    model_perfomance = []\n",
    "    train_time = []\n",
    "    for i, model in enumerate(hog_models):\n",
    "        start = time.time()\n",
    "        scores = cross_val_score(model, X, y, scoring='accuracy', cv=10)\n",
    "        stop = time.time()\n",
    "        models_names.append(model_names[i])\n",
    "        model_perfomance.append(round(scores.mean(), 2))\n",
    "        train_time.append((stop - start)/10)\n",
    "    df = pd.DataFrame({'Model Name':models_names, 'Model Accuracy':model_perfomance, 'Training Time':train_time})\n",
    "    df = df.sort_values(by=['Model Accuracy', 'Training Time'], ascending=False)\n",
    "    return df"
   ]
  },
  {
   "cell_type": "code",
   "execution_count": 6,
   "metadata": {},
   "outputs": [],
   "source": [
    "common_rust_images = get_32('common_rust')\n",
    "healthy_images = get_32('healthy')\n",
    "leaf_spot_images = get_32('leaf_spot')\n",
    "nothern_leaf_blight_images = get_32('nothern_leaf_blight')"
   ]
  },
  {
   "cell_type": "code",
   "execution_count": 7,
   "metadata": {},
   "outputs": [],
   "source": [
    "hog_random_forest = RandomForestClassifier(bootstrap=False, ccp_alpha=0.0, class_weight=None,\n",
    "                       criterion='entropy', max_depth=None, max_features=100,\n",
    "                       max_leaf_nodes=None, max_samples=None,\n",
    "                       min_impurity_decrease=0.0, min_impurity_split=None,\n",
    "                       min_samples_leaf=1, min_samples_split=2,\n",
    "                       min_weight_fraction_leaf=0.0, n_estimators=300,\n",
    "                       n_jobs=None, oob_score=False, random_state=None,\n",
    "                       verbose=0, warm_start=False)\n",
    "hog_logistic_regression = LogisticRegression(C=0.5, class_weight=None, dual=False, fit_intercept=True,\n",
    "                   intercept_scaling=1, l1_ratio=None, max_iter=200,\n",
    "                   multi_class='auto', n_jobs=None, penalty='l2',\n",
    "                   random_state=None, solver='lbfgs', tol=0.1, verbose=0,\n",
    "                   warm_start=False)\n",
    "hog_knearest_neighbors = KNeighborsClassifier(algorithm='auto', leaf_size=30, metric='minkowski',\n",
    "                     metric_params=None, n_jobs=None, n_neighbors=2, p=1,\n",
    "                     weights='distance')\n",
    "hog_linear_svc = LinearSVC(C=0.0001, class_weight=None, dual=True, fit_intercept=True,\n",
    "          intercept_scaling=1, loss='squared_hinge', max_iter=1000,\n",
    "          multi_class='ovr', penalty='l2', random_state=None, tol=0.01,\n",
    "          verbose=0)\n",
    "hog_svc = SVC(C=0.1, break_ties=False, cache_size=200, class_weight=None, coef0=0.0,\n",
    "    decision_function_shape='ovr', degree=3, gamma='scale', kernel='linear',\n",
    "    max_iter=-1, probability=False, random_state=None, shrinking=True, tol=0.1,\n",
    "    verbose=False)\n",
    "hog_models = [\n",
    "    hog_random_forest,\n",
    "    hog_logistic_regression,\n",
    "    hog_knearest_neighbors,\n",
    "    hog_linear_svc,\n",
    "    hog_svc\n",
    "]\n",
    "model_names = [\n",
    "    'Random Forest',\n",
    "    'Logistic Regression',\n",
    "    'K-Nearest Neighbor',\n",
    "    'Linear SVC',\n",
    "    'Support Vector Classifier'\n",
    "]"
   ]
  },
  {
   "cell_type": "code",
   "execution_count": 8,
   "metadata": {},
   "outputs": [],
   "source": [
    "X, y = extract_features2(algorithm=2)"
   ]
  },
  {
   "cell_type": "code",
   "execution_count": 9,
   "metadata": {},
   "outputs": [
    {
     "data": {
      "text/plain": [
       "((128, 4096), (128,))"
      ]
     },
     "execution_count": 9,
     "metadata": {},
     "output_type": "execute_result"
    }
   ],
   "source": [
    "X.shape, y.shape"
   ]
  },
  {
   "cell_type": "code",
   "execution_count": 11,
   "metadata": {},
   "outputs": [],
   "source": [
    "kfold = KFold(n_splits=10)"
   ]
  },
  {
   "cell_type": "code",
   "execution_count": 13,
   "metadata": {},
   "outputs": [
    {
     "data": {
      "text/plain": [
       "RFECV(cv=KFold(n_splits=10, random_state=None, shuffle=False),\n",
       "      estimator=LogisticRegression(C=0.5, class_weight=None, dual=False,\n",
       "                                   fit_intercept=True, intercept_scaling=1,\n",
       "                                   l1_ratio=None, max_iter=200,\n",
       "                                   multi_class='auto', n_jobs=None,\n",
       "                                   penalty='l2', random_state=None,\n",
       "                                   solver='lbfgs', tol=0.1, verbose=0,\n",
       "                                   warm_start=False),\n",
       "      min_features_to_select=1, n_jobs=None, scoring='accuracy', step=1,\n",
       "      verbose=0)"
      ]
     },
     "execution_count": 13,
     "metadata": {},
     "output_type": "execute_result"
    }
   ],
   "source": [
    "lr_rfecv = RFECV(estimator=hog_logistic_regression, step=1, cv=kfold, scoring='accuracy')\n",
    "lr_rfecv.fit(X,y)"
   ]
  },
  {
   "cell_type": "code",
   "execution_count": 14,
   "metadata": {},
   "outputs": [
    {
     "data": {
      "text/plain": [
       "array([0.25384615, 0.37692308, 0.37820513, ..., 0.61346154, 0.62115385,\n",
       "       0.61346154])"
      ]
     },
     "execution_count": 14,
     "metadata": {},
     "output_type": "execute_result"
    }
   ],
   "source": [
    "lr_rfecv.grid_scores_"
   ]
  },
  {
   "cell_type": "code",
   "execution_count": 15,
   "metadata": {},
   "outputs": [
    {
     "data": {
      "text/plain": [
       "array([ 651,    1,    1, ..., 1317,  835, 1064])"
      ]
     },
     "execution_count": 15,
     "metadata": {},
     "output_type": "execute_result"
    }
   ],
   "source": [
    "lr_rfecv.ranking_"
   ]
  },
  {
   "cell_type": "code",
   "execution_count": 16,
   "metadata": {},
   "outputs": [
    {
     "data": {
      "text/plain": [
       "array([False,  True,  True, ..., False, False, False])"
      ]
     },
     "execution_count": 16,
     "metadata": {},
     "output_type": "execute_result"
    }
   ],
   "source": [
    "lr_rfecv.support_"
   ]
  },
  {
   "cell_type": "code",
   "execution_count": 17,
   "metadata": {},
   "outputs": [
    {
     "data": {
      "image/png": "[encoded data removed]",
      "text/plain": [
       "<Figure size 432x288 with 1 Axes>"
      ]
     },
     "metadata": {
      "needs_background": "light"
     },
     "output_type": "display_data"
    }
   ],
   "source": [
    "plt.figure()\n",
    "plt.title('Feature Importance')\n",
    "plt.xlabel('Number of Features')\n",
    "plt.ylabel('Number of correct predictions')\n",
    "plt.plot(range(1, len(lr_rfecv.grid_scores_)+1), lr_rfecv.grid_scores_)\n",
    "plt.show()"
   ]
  },
  {
   "cell_type": "code",
   "execution_count": 18,
   "metadata": {},
   "outputs": [
    {
     "data": {
      "text/plain": [
       "False"
      ]
     },
     "execution_count": 18,
     "metadata": {},
     "output_type": "execute_result"
    }
   ],
   "source": [
    "lr_rfecv.support_[0]"
   ]
  },
  {
   "cell_type": "code",
   "execution_count": 34,
   "metadata": {},
   "outputs": [],
   "source": [
    "lr_feature_importance = lr_rfecv.support_\n",
    "lr_new_features = []\n",
    "\n",
    "for i,feature in enumerate(lr_feature_importance):\n",
    "    if feature:\n",
    "        lr_new_features.append(i)"
   ]
  },
  {
   "cell_type": "code",
   "execution_count": 35,
   "metadata": {},
   "outputs": [
    {
     "data": {
      "text/plain": [
       "767"
      ]
     },
     "execution_count": 35,
     "metadata": {},
     "output_type": "execute_result"
    }
   ],
   "source": [
    "#The number of columns that act as usefule features\n",
    "len(lr_new_features)"
   ]
  },
  {
   "cell_type": "code",
   "execution_count": 36,
   "metadata": {},
   "outputs": [
    {
     "data": {
      "text/plain": [
       "[1, 2, 3, 5, 6, 10, 11, 12, 14, 15]"
      ]
     },
     "execution_count": 36,
     "metadata": {},
     "output_type": "execute_result"
    }
   ],
   "source": [
    "#These are the columns chosen\n",
    "lr_new_features[:10]"
   ]
  },
  {
   "cell_type": "code",
   "execution_count": 37,
   "metadata": {},
   "outputs": [
    {
     "data": {
      "text/plain": [
       "((128, 767), (128,))"
      ]
     },
     "execution_count": 37,
     "metadata": {},
     "output_type": "execute_result"
    }
   ],
   "source": [
    "lr_features = X[:,lr_new_features]\n",
    "lr_features.shape, y.shape"
   ]
  },
  {
   "cell_type": "code",
   "execution_count": 32,
   "metadata": {},
   "outputs": [
    {
     "data": {
      "text/plain": [
       "array([1.        , 1.        , 1.        , 1.        , 1.        ,\n",
       "       1.        , 1.        , 1.        , 0.83333333, 1.        ])"
      ]
     },
     "execution_count": 32,
     "metadata": {},
     "output_type": "execute_result"
    }
   ],
   "source": [
    "logistic_regression = hog_models[1]\n",
    "scores = cross_val_score(logistic_regression, lr_features, y, scoring='accuracy', cv=10)\n",
    "scores"
   ]
  },
  {
   "cell_type": "code",
   "execution_count": 38,
   "metadata": {},
   "outputs": [
    {
     "data": {
      "text/plain": [
       "0.9833333333333334"
      ]
     },
     "execution_count": 38,
     "metadata": {},
     "output_type": "execute_result"
    }
   ],
   "source": [
    "scores.mean()"
   ]
  },
  {
   "cell_type": "code",
   "execution_count": 19,
   "metadata": {},
   "outputs": [
    {
     "data": {
      "text/plain": [
       "RFECV(cv=KFold(n_splits=10, random_state=None, shuffle=False),\n",
       "      estimator=LinearSVC(C=0.0001, class_weight=None, dual=True,\n",
       "                          fit_intercept=True, intercept_scaling=1,\n",
       "                          loss='squared_hinge', max_iter=1000,\n",
       "                          multi_class='ovr', penalty='l2', random_state=None,\n",
       "                          tol=0.01, verbose=0),\n",
       "      min_features_to_select=1, n_jobs=None, scoring='accuracy', step=1,\n",
       "      verbose=0)"
      ]
     },
     "execution_count": 19,
     "metadata": {},
     "output_type": "execute_result"
    }
   ],
   "source": [
    "knn_rfecv = RFECV(estimator=hog_linear_svc, step=1, cv=kfold, scoring='accuracy')\n",
    "knn_rfecv.fit(X,y)"
   ]
  },
  {
   "cell_type": "code",
   "execution_count": 39,
   "metadata": {},
   "outputs": [
    {
     "data": {
      "text/plain": [
       "array([0.06923077, 0.13076923, 0.14615385, ..., 0.64807692, 0.64807692,\n",
       "       0.64807692])"
      ]
     },
     "execution_count": 39,
     "metadata": {},
     "output_type": "execute_result"
    }
   ],
   "source": [
    "knn_rfecv.grid_scores_"
   ]
  },
  {
   "cell_type": "code",
   "execution_count": 40,
   "metadata": {},
   "outputs": [
    {
     "data": {
      "text/plain": [
       "array([  1,   1,   1, ..., 362, 876,   1])"
      ]
     },
     "execution_count": 40,
     "metadata": {},
     "output_type": "execute_result"
    }
   ],
   "source": [
    "knn_rfecv.ranking_"
   ]
  },
  {
   "cell_type": "code",
   "execution_count": 41,
   "metadata": {},
   "outputs": [
    {
     "data": {
      "text/plain": [
       "array([ True,  True,  True, ..., False, False,  True])"
      ]
     },
     "execution_count": 41,
     "metadata": {},
     "output_type": "execute_result"
    }
   ],
   "source": [
    "knn_rfecv.support_"
   ]
  },
  {
   "cell_type": "code",
   "execution_count": 42,
   "metadata": {},
   "outputs": [
    {
     "data": {
      "image/png": "[encoded data removed]",
      "text/plain": [
       "<Figure size 432x288 with 1 Axes>"
      ]
     },
     "metadata": {
      "needs_background": "light"
     },
     "output_type": "display_data"
    }
   ],
   "source": [
    "plt.figure()\n",
    "plt.title('Feature Importance')\n",
    "plt.xlabel('Number of Features')\n",
    "plt.ylabel('Number of correct predictions')\n",
    "plt.plot(range(1, len(knn_rfecv.grid_scores_)+1), knn_rfecv.grid_scores_)\n",
    "plt.show()"
   ]
  },
  {
   "cell_type": "code",
   "execution_count": 43,
   "metadata": {},
   "outputs": [],
   "source": [
    "knn_feature_importance = knn_rfecv.support_\n",
    "knn_new_features = []\n",
    "\n",
    "for i,feature in enumerate(knn_feature_importance):\n",
    "    if feature:\n",
    "        knn_new_features.append(i)\n",
    "knn_features = X[:,knn_new_features]\n",
    "knn_features.shape, y.shape"
   ]
  },
  {
   "cell_type": "code",
   "execution_count": 48,
   "metadata": {},
   "outputs": [
    {
     "data": {
      "text/plain": [
       "array([0.76923077, 0.61538462, 0.76923077, 0.69230769, 0.84615385,\n",
       "       0.69230769, 0.61538462, 0.76923077, 0.75      , 0.83333333])"
      ]
     },
     "execution_count": 48,
     "metadata": {},
     "output_type": "execute_result"
    }
   ],
   "source": [
    "scores = cross_val_score(hog_knearest_neighbors, knn_features, y, scoring='accuracy', cv=10)\n",
    "scores"
   ]
  },
  {
   "cell_type": "code",
   "execution_count": 49,
   "metadata": {},
   "outputs": [
    {
     "data": {
      "text/plain": [
       "0.7352564102564102"
      ]
     },
     "execution_count": 49,
     "metadata": {},
     "output_type": "execute_result"
    }
   ],
   "source": [
    "scores.mean()"
   ]
  },
  {
   "cell_type": "code",
   "execution_count": 20,
   "metadata": {},
   "outputs": [
    {
     "data": {
      "text/plain": [
       "RFECV(cv=KFold(n_splits=10, random_state=None, shuffle=False),\n",
       "      estimator=SVC(C=0.1, break_ties=False, cache_size=200, class_weight=None,\n",
       "                    coef0=0.0, decision_function_shape='ovr', degree=3,\n",
       "                    gamma='scale', kernel='linear', max_iter=-1,\n",
       "                    probability=False, random_state=None, shrinking=True,\n",
       "                    tol=0.1, verbose=False),\n",
       "      min_features_to_select=1, n_jobs=None, scoring='accuracy', step=1,\n",
       "      verbose=0)"
      ]
     },
     "execution_count": 20,
     "metadata": {},
     "output_type": "execute_result"
    }
   ],
   "source": [
    "svc_rfecv = RFECV(estimator=hog_svc, step=1, cv=kfold, scoring='accuracy')\n",
    "svc_rfecv.fit(X,y)"
   ]
  },
  {
   "cell_type": "code",
   "execution_count": 50,
   "metadata": {},
   "outputs": [
    {
     "data": {
      "text/plain": [
       "array([0.04615385, 0.12307692, 0.18461538, ..., 0.58397436, 0.59230769,\n",
       "       0.59230769])"
      ]
     },
     "execution_count": 50,
     "metadata": {},
     "output_type": "execute_result"
    }
   ],
   "source": [
    "svc_rfecv.grid_scores_"
   ]
  },
  {
   "cell_type": "code",
   "execution_count": 51,
   "metadata": {},
   "outputs": [
    {
     "data": {
      "text/plain": [
       "array([ 504,  592,    1, ..., 1752, 1427,  202])"
      ]
     },
     "execution_count": 51,
     "metadata": {},
     "output_type": "execute_result"
    }
   ],
   "source": [
    "svc_rfecv.ranking_"
   ]
  },
  {
   "cell_type": "code",
   "execution_count": 52,
   "metadata": {},
   "outputs": [
    {
     "data": {
      "text/plain": [
       "array([False, False,  True, ..., False, False, False])"
      ]
     },
     "execution_count": 52,
     "metadata": {},
     "output_type": "execute_result"
    }
   ],
   "source": [
    "svc_rfecv.support_"
   ]
  },
  {
   "cell_type": "code",
   "execution_count": 53,
   "metadata": {},
   "outputs": [
    {
     "data": {
      "image/png": "[encoded data removed]",
      "text/plain": [
       "<Figure size 432x288 with 1 Axes>"
      ]
     },
     "metadata": {
      "needs_background": "light"
     },
     "output_type": "display_data"
    }
   ],
   "source": [
    "plt.figure()\n",
    "plt.title('Feature Importance')\n",
    "plt.xlabel('Number of Features')\n",
    "plt.ylabel('Number of correct predictions')\n",
    "plt.plot(range(1, len(svc_rfecv.grid_scores_)+1), svc_rfecv.grid_scores_)\n",
    "plt.show()"
   ]
  },
  {
   "cell_type": "code",
   "execution_count": 54,
   "metadata": {},
   "outputs": [
    {
     "data": {
      "text/plain": [
       "((128, 839), (128,))"
      ]
     },
     "execution_count": 54,
     "metadata": {},
     "output_type": "execute_result"
    }
   ],
   "source": [
    "svc_feature_importance = svc_rfecv.support_\n",
    "svc_new_features = []\n",
    "\n",
    "for i,feature in enumerate(svc_feature_importance):\n",
    "    if feature:\n",
    "        svc_new_features.append(i)\n",
    "svc_features = X[:,svc_new_features]\n",
    "svc_features.shape, y.shape"
   ]
  },
  {
   "cell_type": "code",
   "execution_count": 55,
   "metadata": {},
   "outputs": [
    {
     "data": {
      "text/plain": [
       "array([1.        , 1.        , 1.        , 1.        , 1.        ,\n",
       "       1.        , 1.        , 1.        , 0.83333333, 1.        ])"
      ]
     },
     "execution_count": 55,
     "metadata": {},
     "output_type": "execute_result"
    }
   ],
   "source": [
    "scores = cross_val_score(hog_svc, svc_features, y, scoring='accuracy', cv=10)\n",
    "scores"
   ]
  },
  {
   "cell_type": "code",
   "execution_count": 56,
   "metadata": {},
   "outputs": [
    {
     "data": {
      "text/plain": [
       "0.9833333333333334"
      ]
     },
     "execution_count": 56,
     "metadata": {},
     "output_type": "execute_result"
    }
   ],
   "source": [
    "scores.mean()"
   ]
  },
  {
   "cell_type": "code",
   "execution_count": 60,
   "metadata": {},
   "outputs": [],
   "source": [
    "def train_model(model, features, labels):\n",
    "    start = time.time()\n",
    "    scores = cross_val_score(model, features, labels, scoring='accuracy', cv=10)\n",
    "    stop = time.time()\n",
    "    t = (stop - start)/10\n",
    "    return round(scores.mean(), 2), round(t, 4)"
   ]
  },
  {
   "cell_type": "code",
   "execution_count": 59,
   "metadata": {},
   "outputs": [
    {
     "data": {
      "text/plain": [
       "(0.73, 4.106458592414856)"
      ]
     },
     "execution_count": 59,
     "metadata": {},
     "output_type": "execute_result"
    }
   ],
   "source": [
    "rf_accuracy, rf_train_time = train_model(hog_random_forest, X, y)\n",
    "rf_accuracy, rf_train_time"
   ]
  },
  {
   "cell_type": "code",
   "execution_count": 61,
   "metadata": {},
   "outputs": [
    {
     "data": {
      "text/plain": [
       "(0.98, 0.0146)"
      ]
     },
     "execution_count": 61,
     "metadata": {},
     "output_type": "execute_result"
    }
   ],
   "source": [
    "lr_accuracy, lr_train_time = train_model(hog_logistic_regression, lr_features, y)\n",
    "lr_accuracy, lr_train_time"
   ]
  },
  {
   "cell_type": "code",
   "execution_count": 62,
   "metadata": {},
   "outputs": [
    {
     "data": {
      "text/plain": [
       "(0.74, 0.0282)"
      ]
     },
     "execution_count": 62,
     "metadata": {},
     "output_type": "execute_result"
    }
   ],
   "source": [
    "knn_accuracy, knn_train_time = train_model(hog_knearest_neighbors, knn_features, y)\n",
    "knn_accuracy, knn_train_time"
   ]
  },
  {
   "cell_type": "code",
   "execution_count": 63,
   "metadata": {},
   "outputs": [
    {
     "data": {
      "text/plain": [
       "(0.7, 0.0657)"
      ]
     },
     "execution_count": 63,
     "metadata": {},
     "output_type": "execute_result"
    }
   ],
   "source": [
    "linear_svc_accuracy, linear_svc_train_time = train_model(hog_linear_svc, X, y)\n",
    "linear_svc_accuracy, linear_svc_train_time"
   ]
  },
  {
   "cell_type": "code",
   "execution_count": 64,
   "metadata": {},
   "outputs": [
    {
     "data": {
      "text/plain": [
       "(0.98, 0.0162)"
      ]
     },
     "execution_count": 64,
     "metadata": {},
     "output_type": "execute_result"
    }
   ],
   "source": [
    "svc_accuracy, svc_train_time = train_model(hog_svc, svc_features, y)\n",
    "svc_accuracy, svc_train_time"
   ]
  },
  {
   "cell_type": "code",
   "execution_count": 65,
   "metadata": {},
   "outputs": [
    {
     "data": {
      "text/html": [
       "<div>\n",
       "<style scoped>\n",
       "    .dataframe tbody tr th:only-of-type {\n",
       "        vertical-align: middle;\n",
       "    }\n",
       "\n",
       "    .dataframe tbody tr th {\n",
       "        vertical-align: top;\n",
       "    }\n",
       "\n",
       "    .dataframe thead th {\n",
       "        text-align: right;\n",
       "    }\n",
       "</style>\n",
       "<table border=\"1\" class=\"dataframe\">\n",
       "  <thead>\n",
       "    <tr style=\"text-align: right;\">\n",
       "      <th></th>\n",
       "      <th>Model Name</th>\n",
       "      <th>Model Accuracy</th>\n",
       "      <th>Training Time</th>\n",
       "    </tr>\n",
       "  </thead>\n",
       "  <tbody>\n",
       "    <tr>\n",
       "      <th>4</th>\n",
       "      <td>Support Vector Classifier</td>\n",
       "      <td>0.98</td>\n",
       "      <td>0.016200</td>\n",
       "    </tr>\n",
       "    <tr>\n",
       "      <th>1</th>\n",
       "      <td>Logistic Regression</td>\n",
       "      <td>0.98</td>\n",
       "      <td>0.014600</td>\n",
       "    </tr>\n",
       "    <tr>\n",
       "      <th>2</th>\n",
       "      <td>K-Nearest Neighbor</td>\n",
       "      <td>0.74</td>\n",
       "      <td>0.028200</td>\n",
       "    </tr>\n",
       "    <tr>\n",
       "      <th>0</th>\n",
       "      <td>Random Forest</td>\n",
       "      <td>0.73</td>\n",
       "      <td>4.106459</td>\n",
       "    </tr>\n",
       "    <tr>\n",
       "      <th>3</th>\n",
       "      <td>Linear SVC</td>\n",
       "      <td>0.70</td>\n",
       "      <td>0.065700</td>\n",
       "    </tr>\n",
       "  </tbody>\n",
       "</table>\n",
       "</div>"
      ],
      "text/plain": [
       "                  Model Name  Model Accuracy  Training Time\n",
       "4  Support Vector Classifier            0.98       0.016200\n",
       "1        Logistic Regression            0.98       0.014600\n",
       "2         K-Nearest Neighbor            0.74       0.028200\n",
       "0              Random Forest            0.73       4.106459\n",
       "3                 Linear SVC            0.70       0.065700"
      ]
     },
     "execution_count": 65,
     "metadata": {},
     "output_type": "execute_result"
    }
   ],
   "source": [
    "results = {\n",
    "    'Model Name':model_names,\n",
    "    'Model Accuracy':[rf_accuracy, lr_accuracy, knn_accuracy, linear_svc_accuracy, svc_accuracy],\n",
    "    'Training Time':[rf_train_time, lr_train_time, knn_train_time, linear_svc_train_time, svc_train_time]\n",
    "}\n",
    "df = pd.DataFrame(results)\n",
    "df = df.sort_values(by=['Model Accuracy', 'Training Time'], ascending=False)\n",
    "df"
   ]
  },
  {
   "cell_type": "code",
   "execution_count": null,
   "metadata": {},
   "outputs": [],
   "source": [
    "#These are our five best models. Next, we look at the errors each makes then ensemble them"
   ]
  }
 ],
 "metadata": {
  "kernelspec": {
   "display_name": "Python 3",
   "language": "python",
   "name": "python3"
  },
  "language_info": {
   "codemirror_mode": {
    "name": "ipython",
    "version": 3
   },
   "file_extension": ".py",
   "mimetype": "text/x-python",
   "name": "python",
   "nbconvert_exporter": "python",
   "pygments_lexer": "ipython3",
   "version": "3.7.6"
  }
 },
 "nbformat": 4,
 "nbformat_minor": 4
}
