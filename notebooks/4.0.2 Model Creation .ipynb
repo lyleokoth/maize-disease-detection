{
 "cells": [
  {
   "cell_type": "code",
   "execution_count": null,
   "metadata": {},
   "outputs": [],
   "source": [
    "'''\n",
    "In this notebook, we train the five chosen models.\n",
    "We then carry out feature selection for each of the five models.\n",
    "'''"
   ]
  },
  {
   "cell_type": "code",
   "execution_count": 1,
   "metadata": {},
   "outputs": [],
   "source": [
    "from sklearn.ensemble import RandomForestClassifier\n",
    "from sklearn.linear_model import LogisticRegression\n",
    "from sklearn.naive_bayes import BernoulliNB\n",
    "from sklearn.neighbors import KNeighborsClassifier\n",
    "from sklearn.neural_network import MLPClassifier\n",
    "from sklearn.svm import LinearSVC, SVC\n",
    "from sklearn.tree import DecisionTreeClassifier\n",
    "from sklearn.metrics import accuracy_score, auc, classification_report, confusion_matrix, f1_score\n",
    "from sklearn.preprocessing import StandardScaler\n",
    "from sklearn.model_selection import train_test_split\n",
    "from sklearn.preprocessing import LabelEncoder\n",
    "\n",
    "from sklearn.feature_selection import RFECV\n",
    "from sklearn.model_selection import KFold\n",
    "from sklearn.model_selection import cross_val_score, cross_val_predict \n",
    "from sklearn.model_selection import GridSearchCV, RandomizedSearchCV"
   ]
  },
  {
   "cell_type": "code",
   "execution_count": 2,
   "metadata": {},
   "outputs": [],
   "source": [
    "#for array manipulations\n",
    "import numpy as np\n",
    "import pandas as pd\n",
    "#for image processing\n",
    "import cv2 \n",
    "#for displaying images\n",
    "import matplotlib.pyplot as plt\n",
    "#to display images in this notebook, not in a separate window\n",
    "%matplotlib inline\n",
    "#to access system resources such as directories\n",
    "import os\n",
    "#This wilallow us to get the training time of each model\n",
    "import time"
   ]
  },
  {
   "cell_type": "code",
   "execution_count": 3,
   "metadata": {},
   "outputs": [
    {
     "data": {
      "text/plain": [
       "'C:\\\\Users\\\\USER\\\\Documents\\\\GitHub\\\\maize-disease-detection\\\\notebooks'"
      ]
     },
     "execution_count": 3,
     "metadata": {},
     "output_type": "execute_result"
    }
   ],
   "source": [
    "os.getcwd()"
   ]
  },
  {
   "cell_type": "code",
   "execution_count": 40,
   "metadata": {},
   "outputs": [],
   "source": [
    "#set our base directory. This should point to the location of the plant-diseases folder\n",
    "base_dir = 'C:\\\\Users\\\\USER\\\\Documents\\\\GitHub\\\\maize-disease-detection'\n",
    "data_folder = os.path.join(base_dir, 'data')\n",
    "maize_data_folder = os.path.join(data_folder, 'maize')\n",
    "models_dir = os.path.join(base_dir,'models')"
   ]
  },
  {
   "cell_type": "code",
   "execution_count": 5,
   "metadata": {},
   "outputs": [],
   "source": [
    "#This function loads 32 images of a particular disease\n",
    "def get_32(disease):\n",
    "    '''\n",
    "    This method loads 32 images for the given disease\n",
    "    input\n",
    "    -----\n",
    "        disease: string\n",
    "            A string that could be common_rust, healthy, leaf_spot, nothern_leaf_blight\n",
    "    output: \n",
    "    ------\n",
    "        disease_images: list\n",
    "            A list of 32 images for the selected disease\n",
    "    '''\n",
    "    #this list will contain the 20 images returned\n",
    "    disease_images = []\n",
    "    #path to the images\n",
    "    disease_images_path = os.path.join(maize_data_folder, disease)\n",
    "    for image_path in os.listdir(disease_images_path):\n",
    "        image_path = os.path.join(disease_images_path, image_path)\n",
    "        image = cv2.imread(image_path, cv2.IMREAD_COLOR)\n",
    "        image = cv2.cvtColor(image,cv2.COLOR_BGR2RGB)\n",
    "        disease_images.append(image)\n",
    "    return disease_images\n",
    "\n",
    "#This function will help us plot 10 images\n",
    "def plot_images(images, title):\n",
    "    '''\n",
    "    This function plots ten images\n",
    "    input\n",
    "    -----\n",
    "        images: list\n",
    "            List containing images\n",
    "        title: string\n",
    "            Title for each image i.e name of disease\n",
    "    output\n",
    "    ------\n",
    "        None\n",
    "    '''\n",
    "    plt.figure(figsize=(15,6))\n",
    "    for i in range(10):\n",
    "        plt.subplot(2,5, i+1)\n",
    "        plt.imshow(images[i])\n",
    "        plt.title(title)\n",
    "        plt.xticks([])\n",
    "        plt.yticks([])\n",
    "    plt.show()\n",
    "    \n",
    "#This function generates ORB features\n",
    "def extract_features_orb(image, vector_size=32):\n",
    "    '''\n",
    "    This function generates features for a single image using the ORB algorithm\n",
    "    input\n",
    "    -----\n",
    "        image: array\n",
    "            An RGB image\n",
    "        vector_size: int\n",
    "            The number of keypoints to use in feature generation\n",
    "    output\n",
    "    ------\n",
    "        orb_descriptors: list\n",
    "            A 4096 length list of integer features\n",
    "    '''\n",
    "    try:\n",
    "        feature_generator = cv2.ORB_create()\n",
    "        orb_keypoints = feature_generator.detect(image)\n",
    "        orb_keypoints = orb_keypoints[:32]\n",
    "        orb_keypoints, orb_descriptors = feature_generator.compute(image, orb_keypoints)\n",
    "        orb_descriptors = orb_descriptors.flatten()\n",
    "        #The descriptor vector size is 128\n",
    "        needed_size = (vector_size*128)\n",
    "        if orb_descriptors.size < needed_size:\n",
    "            #If we have less than 32 keypoints, add zeros to the end of our vector\n",
    "            orb_descriptors = np.concatenate([orb_descriptors, np.zeros(needed_size - orb_descriptors.size)])\n",
    "    except cv2.error as e:\n",
    "        print(f'Error: {e}')\n",
    "        return None\n",
    "    return orb_descriptors\n",
    "\n",
    "#This function generates KAZE features\n",
    "def extract_features_kaze(image, vector_size=32):\n",
    "    '''\n",
    "    This function generates features for a single image using the KAZE algorithm\n",
    "    input\n",
    "    -----\n",
    "        image: array\n",
    "            An RGB image\n",
    "        vector_size: int\n",
    "            The number of keypoints to use in feature generation\n",
    "    output\n",
    "    ------\n",
    "        kaze_descriptors: list\n",
    "            A 4096 length list of integer features\n",
    "    '''\n",
    "    try:\n",
    "        feature_generator = cv2.KAZE_create()\n",
    "        kaze_keypoints = feature_generator.detect(image)\n",
    "        kaze_keypoints = kaze_keypoints[:32]\n",
    "        kaze_keypoints, kaze_descriptors = feature_generator.compute(image, kaze_keypoints)\n",
    "        kaze_descriptors = kaze_descriptors.flatten()\n",
    "        #The descriptor vector size is 128\n",
    "        needed_size = (vector_size*128)\n",
    "        if kaze_descriptors.size < needed_size:\n",
    "            #If we have less than 32 keypoints, add zeros to the end of our vector\n",
    "            kaze_descriptors = np.concatenate([kaze_descriptors, np.zeros(needed_size - kaze_descriptors.size)])\n",
    "    except cv2.error as e:\n",
    "        print(f'Error: {e}')\n",
    "        return None\n",
    "    return kaze_descriptors\n",
    "\n",
    "def extract_features_hog(image, feature_size=4096):\n",
    "    '''\n",
    "    This function generates features for a single image using the ORB algorithm\n",
    "    input\n",
    "    -----\n",
    "        image: array\n",
    "            An RGB image\n",
    "        vector_size: int\n",
    "            The number of keypoints to use in feature generation\n",
    "    output\n",
    "    ------\n",
    "        required_features: list\n",
    "            A 4096 length list of integer features\n",
    "    '''\n",
    "    hog = cv2.HOGDescriptor()\n",
    "    features = hog.compute(image)\n",
    "    required_features = features[:feature_size].ravel()\n",
    "    return required_features\n",
    "\n",
    "#This function extracts features for the loaded images, generting our dataset\n",
    "def extract_features(algorithm=0):\n",
    "    '''\n",
    "    This function loops through the loaded images and generates features for each image in each category\n",
    "    input\n",
    "    -----\n",
    "        algorithm: int\n",
    "            The int decides the algorithm to be used in feature extraction:\n",
    "                1 for ORB\n",
    "                0 for KAZE\n",
    "                2 for HOG\n",
    "    output\n",
    "    ------\n",
    "        X_train: array\n",
    "            An array containing the features for each image used during training ( no. of train images x 4096 features)\n",
    "        X_train: array\n",
    "            An array containing the features for each image used during testing ( no. of test images x 4096 features)\n",
    "        y_train: array\n",
    "            An array containing the labels for each image in the training dataset \n",
    "        y_test: array\n",
    "            An array containing the labels for each image in the test dataset \n",
    "    '''\n",
    "    #Now let us perform these steps for all the 32 images loaded\n",
    "    #This will contain all our images\n",
    "    all_images = []\n",
    "    #This will contain all our labels\n",
    "    all_labels = []\n",
    "    labels = ['common_rust', 'healthy', 'leaf_spot', 'nothern_leaf_blight']\n",
    "    for i, image_folder in enumerate([common_rust_images, healthy_images, leaf_spot_images, nothern_leaf_blight_images]):\n",
    "        for image in image_folder:\n",
    "            all_images.append(image)\n",
    "            all_labels.append(labels[i])\n",
    "    features, labels = [], []\n",
    "    for i, image in enumerate(all_images):\n",
    "        image_features = []\n",
    "        try:\n",
    "            if algorithm == 1:\n",
    "                image_features = extract_features_orb(image)\n",
    "            elif algorithm == 0:\n",
    "                image_features = extract_features_kaze(image)\n",
    "            else:\n",
    "                image_features = extract_features_hog(image)\n",
    "            image_label = all_labels[i]\n",
    "            features.append(image_features)\n",
    "            labels.append(image_label)\n",
    "        except AttributeError as e:\n",
    "            print(e)\n",
    "    features = np.array(features)\n",
    "    labels = np.array(labels)\n",
    "    features = StandardScaler().fit_transform(features)\n",
    "    labels = LabelEncoder().fit_transform(labels)\n",
    "    X_train, X_test, y_train, y_test = train_test_split(features, labels, test_size=0.3)\n",
    "    \n",
    "    return X_train, X_test, y_train, y_test\n",
    "\n",
    "#This function generates our dataset, but does not divide it into a training and a test set\n",
    "def extract_features2(algorithm=0):\n",
    "    '''\n",
    "    This function loops through the loaded images and generates features for each image in each category\n",
    "    input\n",
    "    -----\n",
    "        algorithm: int\n",
    "            The int decides the algorithm to be used in feature extraction:\n",
    "                1 for ORB\n",
    "                0 for KAZE\n",
    "                2 for HOG\n",
    "    output\n",
    "    ------\n",
    "        features: array\n",
    "            An array containing the features for each image used during training \n",
    "        labels: array\n",
    "            An array containing the labels for each image in the dataset \n",
    "    '''\n",
    "    #Now let us perform these steps for all the 32 images loaded\n",
    "    #This will contain all our images\n",
    "    all_images = []\n",
    "    #This will contain all our labels\n",
    "    all_labels = []\n",
    "    labels = ['common_rust', 'healthy', 'leaf_spot', 'nothern_leaf_blight']\n",
    "    for i, image_folder in enumerate([common_rust_images, healthy_images, leaf_spot_images, nothern_leaf_blight_images]):\n",
    "        for image in image_folder:\n",
    "            all_images.append(image)\n",
    "            all_labels.append(labels[i])\n",
    "    features, labels = [], []\n",
    "    for i, image in enumerate(all_images):\n",
    "        image_features = []\n",
    "        try:\n",
    "            if algorithm == 1:\n",
    "                image_features = extract_features_orb(image)\n",
    "            elif algorithm == 0:\n",
    "                image_features = extract_features_kaze(image)\n",
    "            else:\n",
    "                image_features = extract_features_hog(image)\n",
    "            image_label = all_labels[i]\n",
    "            features.append(image_features)\n",
    "            labels.append(image_label)\n",
    "        except AttributeError as e:\n",
    "            print(e)\n",
    "    features = np.array(features)\n",
    "    labels = np.array(labels)\n",
    "    features = StandardScaler().fit_transform(features)\n",
    "    labels = LabelEncoder().fit_transform(labels)\n",
    "    \n",
    "    return features, labels\n",
    "\n",
    "#This method gives us a rough idea about the accuracy of the base models and their raining times\n",
    "def train_base_models(X_train, y_train, X_test, y_test):\n",
    "    '''\n",
    "    This functin trains models from various categories to give us a rough idea abou their perfomance on our dataset\n",
    "    input\n",
    "    -----\n",
    "        X_train: array\n",
    "            An array containing the features for each image used during training ( no. of train images x 4096 features)\n",
    "        X_train: array\n",
    "            An array containing the features for each image used during testing ( no. of test images x 4096 features)\n",
    "        y_train: array\n",
    "            An array containing the labels for each image in the training dataset \n",
    "        y_test: array\n",
    "            An array containing the labels for each image in the test dataset \n",
    "    output\n",
    "    ------\n",
    "        df: DataFrame\n",
    "            A DataFrame showing the model name, accuracy and train time\n",
    "    '''\n",
    "    model_accuracy = []\n",
    "    train_time = []\n",
    "    model_names = []\n",
    "    for i, classifier in enumerate(models):\n",
    "        try:\n",
    "            #Let us train the model and get the training time\n",
    "            start_time = time.time()\n",
    "            classifier.fit(X_train, y_train)\n",
    "            stop_time = time.time()\n",
    "            train_time.append(stop_time - start_time)\n",
    "            predictions = classifier.predict(X_test)\n",
    "            accuracy = accuracy_score(y_test, predictions)\n",
    "            model_accuracy.append(round(accuracy, 3))\n",
    "            model_names.append(names[i])\n",
    "            print(f'{names[i]}: {round(accuracy, 3)}')\n",
    "        except Exception as e:\n",
    "            print(f'Could not train {names[i]} because of {e}')\n",
    "    df = pd.DataFrame({'Model':model_names, 'Accuracy':model_accuracy, 'Train Time':train_time})\n",
    "    df = df.sort_values(by=['Accuracy'], ascending=False)\n",
    "    return df\n",
    "\n",
    "#This method gives us a rough idea about the accuracy of the base models and their training times, but uses crossvalidation\n",
    "def train_base_models2(features, labels):\n",
    "    '''\n",
    "    This method trains the models using cross-validation to give us an idea about how well the various models perform\n",
    "    on our dataset\n",
    "    input\n",
    "    -----\n",
    "        features: array\n",
    "            An array containing the features for each image used during training \n",
    "        labels: array\n",
    "            An array containing the labels for each image in the dataset \n",
    "    output\n",
    "    ------\n",
    "        df: DataFrame\n",
    "            A DataFrame showing the model name, accuracy and train time\n",
    "    '''\n",
    "    #We use cross-validation\n",
    "    model_accuracy = []\n",
    "    train_time = []\n",
    "    model_names = []\n",
    "    \n",
    "    for i, classifier in enumerate(models):\n",
    "        try:\n",
    "            #Let us train the model and get the training time\n",
    "            start_time = time.time()\n",
    "            scores = cross_val_score(classifier, features, labels, scoring='accuracy', cv=10)\n",
    "            stop_time = time.time()\n",
    "            train_time.append(stop_time - start_time)\n",
    "            model_accuracy.append(round(np.mean(scores), 3))\n",
    "            model_names.append(names[i])\n",
    "            print(f'{names[i]}: {round(np.mean(scores), 3)}')\n",
    "        except Exception as e:\n",
    "            print(f'Could not train {names[i]} because of {e}')\n",
    "    df = pd.DataFrame({'Model':model_names, 'Accuracy':model_accuracy, 'Train Time':train_time})\n",
    "    df = df.sort_values(by=['Accuracy'], ascending=False)\n",
    "    return df\n",
    "\n",
    "#This function returns the model perfomance on kaze data\n",
    "def kaze_results(algorithm=0):\n",
    "    '''\n",
    "    This function trains the models on the features generated using the KAZE algorithm and gives us a rough idea\n",
    "    about \n",
    "    '''\n",
    "    models_names = []\n",
    "    model_perfomance = []\n",
    "    train_time = []\n",
    "    for i, model in enumerate(kaze_models):\n",
    "        start = time.time()\n",
    "        scores = cross_val_score(model, X,y, scoring='accuracy', cv=10)\n",
    "        stop = time.time()\n",
    "        models_names.append(model_names[i])\n",
    "        model_perfomance.append(round(scores.mean(), 2))\n",
    "        train_time.append((stop - start)/10)\n",
    "    df = pd.DataFrame({'Model Name':models_names, 'Model Accuracy':model_perfomance, 'Training time':train_time})\n",
    "    df = df.sort_values(by=['Model Accuracy'], ascending=False)\n",
    "    return df\n",
    "\n",
    "#This function returns the model perfomance on hog data\n",
    "def hog_results(X,y):\n",
    "    models_names = []\n",
    "    model_perfomance = []\n",
    "    train_time = []\n",
    "    for i, model in enumerate(hog_models):\n",
    "        start = time.time()\n",
    "        scores = cross_val_score(model, X, y, scoring='accuracy', cv=10)\n",
    "        stop = time.time()\n",
    "        models_names.append(model_names[i])\n",
    "        model_perfomance.append(round(scores.mean(), 2))\n",
    "        train_time.append((stop - start)/10)\n",
    "    df = pd.DataFrame({'Model Name':models_names, 'Model Accuracy':model_perfomance, 'Training Time':train_time})\n",
    "    df = df.sort_values(by=['Model Accuracy', 'Training Time'], ascending=False)\n",
    "    return df"
   ]
  },
  {
   "cell_type": "code",
   "execution_count": 6,
   "metadata": {},
   "outputs": [],
   "source": [
    "common_rust_images = get_32('common_rust')\n",
    "healthy_images = get_32('healthy')\n",
    "leaf_spot_images = get_32('leaf_spot')\n",
    "nothern_leaf_blight_images = get_32('nothern_leaf_blight')"
   ]
  },
  {
   "cell_type": "code",
   "execution_count": 7,
   "metadata": {},
   "outputs": [],
   "source": [
    "hog_random_forest = RandomForestClassifier(bootstrap=False, ccp_alpha=0.0, class_weight=None,\n",
    "                       criterion='entropy', max_depth=None, max_features=100,\n",
    "                       max_leaf_nodes=None, max_samples=None,\n",
    "                       min_impurity_decrease=0.0, min_impurity_split=None,\n",
    "                       min_samples_leaf=1, min_samples_split=2,\n",
    "                       min_weight_fraction_leaf=0.0, n_estimators=300,\n",
    "                       n_jobs=None, oob_score=False, random_state=None,\n",
    "                       verbose=0, warm_start=False)\n",
    "hog_logistic_regression = LogisticRegression(C=0.5, class_weight=None, dual=False, fit_intercept=True,\n",
    "                   intercept_scaling=1, l1_ratio=None, max_iter=200,\n",
    "                   multi_class='auto', n_jobs=None, penalty='l2',\n",
    "                   random_state=None, solver='lbfgs', tol=0.1, verbose=0,\n",
    "                   warm_start=False)\n",
    "hog_knearest_neighbors = KNeighborsClassifier(algorithm='auto', leaf_size=30, metric='minkowski',\n",
    "                     metric_params=None, n_jobs=None, n_neighbors=2, p=1,\n",
    "                     weights='distance')\n",
    "hog_linear_svc = LinearSVC(C=0.0001, class_weight=None, dual=True, fit_intercept=True,\n",
    "          intercept_scaling=1, loss='squared_hinge', max_iter=1000,\n",
    "          multi_class='ovr', penalty='l2', random_state=None, tol=0.01,\n",
    "          verbose=0)\n",
    "hog_svc = SVC(C=0.1, break_ties=False, cache_size=200, class_weight=None, coef0=0.0,\n",
    "    decision_function_shape='ovr', degree=3, gamma='scale', kernel='linear',\n",
    "    max_iter=-1, probability=False, random_state=None, shrinking=True, tol=0.1,\n",
    "    verbose=False)\n",
    "hog_models = [\n",
    "    hog_random_forest,\n",
    "    hog_logistic_regression,\n",
    "    hog_knearest_neighbors,\n",
    "    hog_linear_svc,\n",
    "    hog_svc\n",
    "]\n",
    "model_names = [\n",
    "    'Random Forest',\n",
    "    'Logistic Regression',\n",
    "    'K-Nearest Neighbor',\n",
    "    'Linear SVC',\n",
    "    'Support Vector Classifier'\n",
    "]"
   ]
  },
  {
   "cell_type": "code",
   "execution_count": 8,
   "metadata": {},
   "outputs": [],
   "source": [
    "X, y = extract_features2(algorithm=2)"
   ]
  },
  {
   "cell_type": "code",
   "execution_count": 9,
   "metadata": {},
   "outputs": [
    {
     "data": {
      "text/plain": [
       "((128, 4096), (128,))"
      ]
     },
     "execution_count": 9,
     "metadata": {},
     "output_type": "execute_result"
    }
   ],
   "source": [
    "X.shape, y.shape"
   ]
  },
  {
   "cell_type": "code",
   "execution_count": 10,
   "metadata": {},
   "outputs": [],
   "source": [
    "kfold = KFold(n_splits=10)"
   ]
  },
  {
   "cell_type": "code",
   "execution_count": 52,
   "metadata": {},
   "outputs": [
    {
     "ename": "ValueError",
     "evalue": "max_features must be in (0, n_features]",
     "output_type": "error",
     "traceback": [
      "\u001b[1;31m---------------------------------------------------------------------------\u001b[0m",
      "\u001b[1;31mValueError\u001b[0m                                Traceback (most recent call last)",
      "\u001b[1;32m<ipython-input-52-b17e0793e06d>\u001b[0m in \u001b[0;36m<module>\u001b[1;34m\u001b[0m\n\u001b[0;32m      1\u001b[0m \u001b[0mrf_rfecv\u001b[0m \u001b[1;33m=\u001b[0m \u001b[0mRFECV\u001b[0m\u001b[1;33m(\u001b[0m\u001b[0mestimator\u001b[0m\u001b[1;33m=\u001b[0m\u001b[0mhog_random_forest\u001b[0m\u001b[1;33m,\u001b[0m \u001b[0mstep\u001b[0m\u001b[1;33m=\u001b[0m\u001b[1;36m1\u001b[0m\u001b[1;33m,\u001b[0m \u001b[0mcv\u001b[0m\u001b[1;33m=\u001b[0m\u001b[0mkfold\u001b[0m\u001b[1;33m,\u001b[0m \u001b[0mscoring\u001b[0m\u001b[1;33m=\u001b[0m\u001b[1;34m'accuracy'\u001b[0m\u001b[1;33m)\u001b[0m\u001b[1;33m\u001b[0m\u001b[1;33m\u001b[0m\u001b[0m\n\u001b[1;32m----> 2\u001b[1;33m \u001b[0mrf_rfecv\u001b[0m\u001b[1;33m.\u001b[0m\u001b[0mfit\u001b[0m\u001b[1;33m(\u001b[0m\u001b[0mX\u001b[0m\u001b[1;33m,\u001b[0m\u001b[0my\u001b[0m\u001b[1;33m)\u001b[0m\u001b[1;33m\u001b[0m\u001b[1;33m\u001b[0m\u001b[0m\n\u001b[0m",
      "\u001b[1;32m~\\.conda\\envs\\computervision\\lib\\site-packages\\sklearn\\feature_selection\\_rfe.py\u001b[0m in \u001b[0;36mfit\u001b[1;34m(self, X, y, groups)\u001b[0m\n\u001b[0;32m    531\u001b[0m         scores = parallel(\n\u001b[0;32m    532\u001b[0m             \u001b[0mfunc\u001b[0m\u001b[1;33m(\u001b[0m\u001b[0mrfe\u001b[0m\u001b[1;33m,\u001b[0m \u001b[0mself\u001b[0m\u001b[1;33m.\u001b[0m\u001b[0mestimator\u001b[0m\u001b[1;33m,\u001b[0m \u001b[0mX\u001b[0m\u001b[1;33m,\u001b[0m \u001b[0my\u001b[0m\u001b[1;33m,\u001b[0m \u001b[0mtrain\u001b[0m\u001b[1;33m,\u001b[0m \u001b[0mtest\u001b[0m\u001b[1;33m,\u001b[0m \u001b[0mscorer\u001b[0m\u001b[1;33m)\u001b[0m\u001b[1;33m\u001b[0m\u001b[1;33m\u001b[0m\u001b[0m\n\u001b[1;32m--> 533\u001b[1;33m             for train, test in cv.split(X, y, groups))\n\u001b[0m\u001b[0;32m    534\u001b[0m \u001b[1;33m\u001b[0m\u001b[0m\n\u001b[0;32m    535\u001b[0m         \u001b[0mscores\u001b[0m \u001b[1;33m=\u001b[0m \u001b[0mnp\u001b[0m\u001b[1;33m.\u001b[0m\u001b[0msum\u001b[0m\u001b[1;33m(\u001b[0m\u001b[0mscores\u001b[0m\u001b[1;33m,\u001b[0m \u001b[0maxis\u001b[0m\u001b[1;33m=\u001b[0m\u001b[1;36m0\u001b[0m\u001b[1;33m)\u001b[0m\u001b[1;33m\u001b[0m\u001b[1;33m\u001b[0m\u001b[0m\n",
      "\u001b[1;32m~\\.conda\\envs\\computervision\\lib\\site-packages\\sklearn\\feature_selection\\_rfe.py\u001b[0m in \u001b[0;36m<genexpr>\u001b[1;34m(.0)\u001b[0m\n\u001b[0;32m    531\u001b[0m         scores = parallel(\n\u001b[0;32m    532\u001b[0m             \u001b[0mfunc\u001b[0m\u001b[1;33m(\u001b[0m\u001b[0mrfe\u001b[0m\u001b[1;33m,\u001b[0m \u001b[0mself\u001b[0m\u001b[1;33m.\u001b[0m\u001b[0mestimator\u001b[0m\u001b[1;33m,\u001b[0m \u001b[0mX\u001b[0m\u001b[1;33m,\u001b[0m \u001b[0my\u001b[0m\u001b[1;33m,\u001b[0m \u001b[0mtrain\u001b[0m\u001b[1;33m,\u001b[0m \u001b[0mtest\u001b[0m\u001b[1;33m,\u001b[0m \u001b[0mscorer\u001b[0m\u001b[1;33m)\u001b[0m\u001b[1;33m\u001b[0m\u001b[1;33m\u001b[0m\u001b[0m\n\u001b[1;32m--> 533\u001b[1;33m             for train, test in cv.split(X, y, groups))\n\u001b[0m\u001b[0;32m    534\u001b[0m \u001b[1;33m\u001b[0m\u001b[0m\n\u001b[0;32m    535\u001b[0m         \u001b[0mscores\u001b[0m \u001b[1;33m=\u001b[0m \u001b[0mnp\u001b[0m\u001b[1;33m.\u001b[0m\u001b[0msum\u001b[0m\u001b[1;33m(\u001b[0m\u001b[0mscores\u001b[0m\u001b[1;33m,\u001b[0m \u001b[0maxis\u001b[0m\u001b[1;33m=\u001b[0m\u001b[1;36m0\u001b[0m\u001b[1;33m)\u001b[0m\u001b[1;33m\u001b[0m\u001b[1;33m\u001b[0m\u001b[0m\n",
      "\u001b[1;32m~\\.conda\\envs\\computervision\\lib\\site-packages\\sklearn\\feature_selection\\_rfe.py\u001b[0m in \u001b[0;36m_rfe_single_fit\u001b[1;34m(rfe, estimator, X, y, train, test, scorer)\u001b[0m\n\u001b[0;32m     31\u001b[0m     \u001b[0mX_test\u001b[0m\u001b[1;33m,\u001b[0m \u001b[0my_test\u001b[0m \u001b[1;33m=\u001b[0m \u001b[0m_safe_split\u001b[0m\u001b[1;33m(\u001b[0m\u001b[0mestimator\u001b[0m\u001b[1;33m,\u001b[0m \u001b[0mX\u001b[0m\u001b[1;33m,\u001b[0m \u001b[0my\u001b[0m\u001b[1;33m,\u001b[0m \u001b[0mtest\u001b[0m\u001b[1;33m,\u001b[0m \u001b[0mtrain\u001b[0m\u001b[1;33m)\u001b[0m\u001b[1;33m\u001b[0m\u001b[1;33m\u001b[0m\u001b[0m\n\u001b[0;32m     32\u001b[0m     return rfe._fit(\n\u001b[1;32m---> 33\u001b[1;33m         \u001b[0mX_train\u001b[0m\u001b[1;33m,\u001b[0m \u001b[0my_train\u001b[0m\u001b[1;33m,\u001b[0m \u001b[1;32mlambda\u001b[0m \u001b[0mestimator\u001b[0m\u001b[1;33m,\u001b[0m \u001b[0mfeatures\u001b[0m\u001b[1;33m:\u001b[0m\u001b[1;33m\u001b[0m\u001b[1;33m\u001b[0m\u001b[0m\n\u001b[0m\u001b[0;32m     34\u001b[0m         _score(estimator, X_test[:, features], y_test, scorer)).scores_\n\u001b[0;32m     35\u001b[0m \u001b[1;33m\u001b[0m\u001b[0m\n",
      "\u001b[1;32m~\\.conda\\envs\\computervision\\lib\\site-packages\\sklearn\\feature_selection\\_rfe.py\u001b[0m in \u001b[0;36m_fit\u001b[1;34m(self, X, y, step_score)\u001b[0m\n\u001b[0;32m    188\u001b[0m                 \u001b[0mprint\u001b[0m\u001b[1;33m(\u001b[0m\u001b[1;34m\"Fitting estimator with %d features.\"\u001b[0m \u001b[1;33m%\u001b[0m \u001b[0mnp\u001b[0m\u001b[1;33m.\u001b[0m\u001b[0msum\u001b[0m\u001b[1;33m(\u001b[0m\u001b[0msupport_\u001b[0m\u001b[1;33m)\u001b[0m\u001b[1;33m)\u001b[0m\u001b[1;33m\u001b[0m\u001b[1;33m\u001b[0m\u001b[0m\n\u001b[0;32m    189\u001b[0m \u001b[1;33m\u001b[0m\u001b[0m\n\u001b[1;32m--> 190\u001b[1;33m             \u001b[0mestimator\u001b[0m\u001b[1;33m.\u001b[0m\u001b[0mfit\u001b[0m\u001b[1;33m(\u001b[0m\u001b[0mX\u001b[0m\u001b[1;33m[\u001b[0m\u001b[1;33m:\u001b[0m\u001b[1;33m,\u001b[0m \u001b[0mfeatures\u001b[0m\u001b[1;33m]\u001b[0m\u001b[1;33m,\u001b[0m \u001b[0my\u001b[0m\u001b[1;33m)\u001b[0m\u001b[1;33m\u001b[0m\u001b[1;33m\u001b[0m\u001b[0m\n\u001b[0m\u001b[0;32m    191\u001b[0m \u001b[1;33m\u001b[0m\u001b[0m\n\u001b[0;32m    192\u001b[0m             \u001b[1;31m# Get coefs\u001b[0m\u001b[1;33m\u001b[0m\u001b[1;33m\u001b[0m\u001b[1;33m\u001b[0m\u001b[0m\n",
      "\u001b[1;32m~\\.conda\\envs\\computervision\\lib\\site-packages\\sklearn\\ensemble\\_forest.py\u001b[0m in \u001b[0;36mfit\u001b[1;34m(self, X, y, sample_weight)\u001b[0m\n\u001b[0;32m    381\u001b[0m                     \u001b[0mverbose\u001b[0m\u001b[1;33m=\u001b[0m\u001b[0mself\u001b[0m\u001b[1;33m.\u001b[0m\u001b[0mverbose\u001b[0m\u001b[1;33m,\u001b[0m \u001b[0mclass_weight\u001b[0m\u001b[1;33m=\u001b[0m\u001b[0mself\u001b[0m\u001b[1;33m.\u001b[0m\u001b[0mclass_weight\u001b[0m\u001b[1;33m,\u001b[0m\u001b[1;33m\u001b[0m\u001b[1;33m\u001b[0m\u001b[0m\n\u001b[0;32m    382\u001b[0m                     n_samples_bootstrap=n_samples_bootstrap)\n\u001b[1;32m--> 383\u001b[1;33m                 for i, t in enumerate(trees))\n\u001b[0m\u001b[0;32m    384\u001b[0m \u001b[1;33m\u001b[0m\u001b[0m\n\u001b[0;32m    385\u001b[0m             \u001b[1;31m# Collect newly grown trees\u001b[0m\u001b[1;33m\u001b[0m\u001b[1;33m\u001b[0m\u001b[1;33m\u001b[0m\u001b[0m\n",
      "\u001b[1;32m~\\.conda\\envs\\computervision\\lib\\site-packages\\joblib\\parallel.py\u001b[0m in \u001b[0;36m__call__\u001b[1;34m(self, iterable)\u001b[0m\n\u001b[0;32m   1002\u001b[0m             \u001b[1;31m# remaining jobs.\u001b[0m\u001b[1;33m\u001b[0m\u001b[1;33m\u001b[0m\u001b[1;33m\u001b[0m\u001b[0m\n\u001b[0;32m   1003\u001b[0m             \u001b[0mself\u001b[0m\u001b[1;33m.\u001b[0m\u001b[0m_iterating\u001b[0m \u001b[1;33m=\u001b[0m \u001b[1;32mFalse\u001b[0m\u001b[1;33m\u001b[0m\u001b[1;33m\u001b[0m\u001b[0m\n\u001b[1;32m-> 1004\u001b[1;33m             \u001b[1;32mif\u001b[0m \u001b[0mself\u001b[0m\u001b[1;33m.\u001b[0m\u001b[0mdispatch_one_batch\u001b[0m\u001b[1;33m(\u001b[0m\u001b[0miterator\u001b[0m\u001b[1;33m)\u001b[0m\u001b[1;33m:\u001b[0m\u001b[1;33m\u001b[0m\u001b[1;33m\u001b[0m\u001b[0m\n\u001b[0m\u001b[0;32m   1005\u001b[0m                 \u001b[0mself\u001b[0m\u001b[1;33m.\u001b[0m\u001b[0m_iterating\u001b[0m \u001b[1;33m=\u001b[0m \u001b[0mself\u001b[0m\u001b[1;33m.\u001b[0m\u001b[0m_original_iterator\u001b[0m \u001b[1;32mis\u001b[0m \u001b[1;32mnot\u001b[0m \u001b[1;32mNone\u001b[0m\u001b[1;33m\u001b[0m\u001b[1;33m\u001b[0m\u001b[0m\n\u001b[0;32m   1006\u001b[0m \u001b[1;33m\u001b[0m\u001b[0m\n",
      "\u001b[1;32m~\\.conda\\envs\\computervision\\lib\\site-packages\\joblib\\parallel.py\u001b[0m in \u001b[0;36mdispatch_one_batch\u001b[1;34m(self, iterator)\u001b[0m\n\u001b[0;32m    833\u001b[0m                 \u001b[1;32mreturn\u001b[0m \u001b[1;32mFalse\u001b[0m\u001b[1;33m\u001b[0m\u001b[1;33m\u001b[0m\u001b[0m\n\u001b[0;32m    834\u001b[0m             \u001b[1;32melse\u001b[0m\u001b[1;33m:\u001b[0m\u001b[1;33m\u001b[0m\u001b[1;33m\u001b[0m\u001b[0m\n\u001b[1;32m--> 835\u001b[1;33m                 \u001b[0mself\u001b[0m\u001b[1;33m.\u001b[0m\u001b[0m_dispatch\u001b[0m\u001b[1;33m(\u001b[0m\u001b[0mtasks\u001b[0m\u001b[1;33m)\u001b[0m\u001b[1;33m\u001b[0m\u001b[1;33m\u001b[0m\u001b[0m\n\u001b[0m\u001b[0;32m    836\u001b[0m                 \u001b[1;32mreturn\u001b[0m \u001b[1;32mTrue\u001b[0m\u001b[1;33m\u001b[0m\u001b[1;33m\u001b[0m\u001b[0m\n\u001b[0;32m    837\u001b[0m \u001b[1;33m\u001b[0m\u001b[0m\n",
      "\u001b[1;32m~\\.conda\\envs\\computervision\\lib\\site-packages\\joblib\\parallel.py\u001b[0m in \u001b[0;36m_dispatch\u001b[1;34m(self, batch)\u001b[0m\n\u001b[0;32m    752\u001b[0m         \u001b[1;32mwith\u001b[0m \u001b[0mself\u001b[0m\u001b[1;33m.\u001b[0m\u001b[0m_lock\u001b[0m\u001b[1;33m:\u001b[0m\u001b[1;33m\u001b[0m\u001b[1;33m\u001b[0m\u001b[0m\n\u001b[0;32m    753\u001b[0m             \u001b[0mjob_idx\u001b[0m \u001b[1;33m=\u001b[0m \u001b[0mlen\u001b[0m\u001b[1;33m(\u001b[0m\u001b[0mself\u001b[0m\u001b[1;33m.\u001b[0m\u001b[0m_jobs\u001b[0m\u001b[1;33m)\u001b[0m\u001b[1;33m\u001b[0m\u001b[1;33m\u001b[0m\u001b[0m\n\u001b[1;32m--> 754\u001b[1;33m             \u001b[0mjob\u001b[0m \u001b[1;33m=\u001b[0m \u001b[0mself\u001b[0m\u001b[1;33m.\u001b[0m\u001b[0m_backend\u001b[0m\u001b[1;33m.\u001b[0m\u001b[0mapply_async\u001b[0m\u001b[1;33m(\u001b[0m\u001b[0mbatch\u001b[0m\u001b[1;33m,\u001b[0m \u001b[0mcallback\u001b[0m\u001b[1;33m=\u001b[0m\u001b[0mcb\u001b[0m\u001b[1;33m)\u001b[0m\u001b[1;33m\u001b[0m\u001b[1;33m\u001b[0m\u001b[0m\n\u001b[0m\u001b[0;32m    755\u001b[0m             \u001b[1;31m# A job can complete so quickly than its callback is\u001b[0m\u001b[1;33m\u001b[0m\u001b[1;33m\u001b[0m\u001b[1;33m\u001b[0m\u001b[0m\n\u001b[0;32m    756\u001b[0m             \u001b[1;31m# called before we get here, causing self._jobs to\u001b[0m\u001b[1;33m\u001b[0m\u001b[1;33m\u001b[0m\u001b[1;33m\u001b[0m\u001b[0m\n",
      "\u001b[1;32m~\\.conda\\envs\\computervision\\lib\\site-packages\\joblib\\_parallel_backends.py\u001b[0m in \u001b[0;36mapply_async\u001b[1;34m(self, func, callback)\u001b[0m\n\u001b[0;32m    207\u001b[0m     \u001b[1;32mdef\u001b[0m \u001b[0mapply_async\u001b[0m\u001b[1;33m(\u001b[0m\u001b[0mself\u001b[0m\u001b[1;33m,\u001b[0m \u001b[0mfunc\u001b[0m\u001b[1;33m,\u001b[0m \u001b[0mcallback\u001b[0m\u001b[1;33m=\u001b[0m\u001b[1;32mNone\u001b[0m\u001b[1;33m)\u001b[0m\u001b[1;33m:\u001b[0m\u001b[1;33m\u001b[0m\u001b[1;33m\u001b[0m\u001b[0m\n\u001b[0;32m    208\u001b[0m         \u001b[1;34m\"\"\"Schedule a func to be run\"\"\"\u001b[0m\u001b[1;33m\u001b[0m\u001b[1;33m\u001b[0m\u001b[0m\n\u001b[1;32m--> 209\u001b[1;33m         \u001b[0mresult\u001b[0m \u001b[1;33m=\u001b[0m \u001b[0mImmediateResult\u001b[0m\u001b[1;33m(\u001b[0m\u001b[0mfunc\u001b[0m\u001b[1;33m)\u001b[0m\u001b[1;33m\u001b[0m\u001b[1;33m\u001b[0m\u001b[0m\n\u001b[0m\u001b[0;32m    210\u001b[0m         \u001b[1;32mif\u001b[0m \u001b[0mcallback\u001b[0m\u001b[1;33m:\u001b[0m\u001b[1;33m\u001b[0m\u001b[1;33m\u001b[0m\u001b[0m\n\u001b[0;32m    211\u001b[0m             \u001b[0mcallback\u001b[0m\u001b[1;33m(\u001b[0m\u001b[0mresult\u001b[0m\u001b[1;33m)\u001b[0m\u001b[1;33m\u001b[0m\u001b[1;33m\u001b[0m\u001b[0m\n",
      "\u001b[1;32m~\\.conda\\envs\\computervision\\lib\\site-packages\\joblib\\_parallel_backends.py\u001b[0m in \u001b[0;36m__init__\u001b[1;34m(self, batch)\u001b[0m\n\u001b[0;32m    588\u001b[0m         \u001b[1;31m# Don't delay the application, to avoid keeping the input\u001b[0m\u001b[1;33m\u001b[0m\u001b[1;33m\u001b[0m\u001b[1;33m\u001b[0m\u001b[0m\n\u001b[0;32m    589\u001b[0m         \u001b[1;31m# arguments in memory\u001b[0m\u001b[1;33m\u001b[0m\u001b[1;33m\u001b[0m\u001b[1;33m\u001b[0m\u001b[0m\n\u001b[1;32m--> 590\u001b[1;33m         \u001b[0mself\u001b[0m\u001b[1;33m.\u001b[0m\u001b[0mresults\u001b[0m \u001b[1;33m=\u001b[0m \u001b[0mbatch\u001b[0m\u001b[1;33m(\u001b[0m\u001b[1;33m)\u001b[0m\u001b[1;33m\u001b[0m\u001b[1;33m\u001b[0m\u001b[0m\n\u001b[0m\u001b[0;32m    591\u001b[0m \u001b[1;33m\u001b[0m\u001b[0m\n\u001b[0;32m    592\u001b[0m     \u001b[1;32mdef\u001b[0m \u001b[0mget\u001b[0m\u001b[1;33m(\u001b[0m\u001b[0mself\u001b[0m\u001b[1;33m)\u001b[0m\u001b[1;33m:\u001b[0m\u001b[1;33m\u001b[0m\u001b[1;33m\u001b[0m\u001b[0m\n",
      "\u001b[1;32m~\\.conda\\envs\\computervision\\lib\\site-packages\\joblib\\parallel.py\u001b[0m in \u001b[0;36m__call__\u001b[1;34m(self)\u001b[0m\n\u001b[0;32m    254\u001b[0m         \u001b[1;32mwith\u001b[0m \u001b[0mparallel_backend\u001b[0m\u001b[1;33m(\u001b[0m\u001b[0mself\u001b[0m\u001b[1;33m.\u001b[0m\u001b[0m_backend\u001b[0m\u001b[1;33m,\u001b[0m \u001b[0mn_jobs\u001b[0m\u001b[1;33m=\u001b[0m\u001b[0mself\u001b[0m\u001b[1;33m.\u001b[0m\u001b[0m_n_jobs\u001b[0m\u001b[1;33m)\u001b[0m\u001b[1;33m:\u001b[0m\u001b[1;33m\u001b[0m\u001b[1;33m\u001b[0m\u001b[0m\n\u001b[0;32m    255\u001b[0m             return [func(*args, **kwargs)\n\u001b[1;32m--> 256\u001b[1;33m                     for func, args, kwargs in self.items]\n\u001b[0m\u001b[0;32m    257\u001b[0m \u001b[1;33m\u001b[0m\u001b[0m\n\u001b[0;32m    258\u001b[0m     \u001b[1;32mdef\u001b[0m \u001b[0m__len__\u001b[0m\u001b[1;33m(\u001b[0m\u001b[0mself\u001b[0m\u001b[1;33m)\u001b[0m\u001b[1;33m:\u001b[0m\u001b[1;33m\u001b[0m\u001b[1;33m\u001b[0m\u001b[0m\n",
      "\u001b[1;32m~\\.conda\\envs\\computervision\\lib\\site-packages\\joblib\\parallel.py\u001b[0m in \u001b[0;36m<listcomp>\u001b[1;34m(.0)\u001b[0m\n\u001b[0;32m    254\u001b[0m         \u001b[1;32mwith\u001b[0m \u001b[0mparallel_backend\u001b[0m\u001b[1;33m(\u001b[0m\u001b[0mself\u001b[0m\u001b[1;33m.\u001b[0m\u001b[0m_backend\u001b[0m\u001b[1;33m,\u001b[0m \u001b[0mn_jobs\u001b[0m\u001b[1;33m=\u001b[0m\u001b[0mself\u001b[0m\u001b[1;33m.\u001b[0m\u001b[0m_n_jobs\u001b[0m\u001b[1;33m)\u001b[0m\u001b[1;33m:\u001b[0m\u001b[1;33m\u001b[0m\u001b[1;33m\u001b[0m\u001b[0m\n\u001b[0;32m    255\u001b[0m             return [func(*args, **kwargs)\n\u001b[1;32m--> 256\u001b[1;33m                     for func, args, kwargs in self.items]\n\u001b[0m\u001b[0;32m    257\u001b[0m \u001b[1;33m\u001b[0m\u001b[0m\n\u001b[0;32m    258\u001b[0m     \u001b[1;32mdef\u001b[0m \u001b[0m__len__\u001b[0m\u001b[1;33m(\u001b[0m\u001b[0mself\u001b[0m\u001b[1;33m)\u001b[0m\u001b[1;33m:\u001b[0m\u001b[1;33m\u001b[0m\u001b[1;33m\u001b[0m\u001b[0m\n",
      "\u001b[1;32m~\\.conda\\envs\\computervision\\lib\\site-packages\\sklearn\\ensemble\\_forest.py\u001b[0m in \u001b[0;36m_parallel_build_trees\u001b[1;34m(tree, forest, X, y, sample_weight, tree_idx, n_trees, verbose, class_weight, n_samples_bootstrap)\u001b[0m\n\u001b[0;32m    165\u001b[0m         \u001b[0mtree\u001b[0m\u001b[1;33m.\u001b[0m\u001b[0mfit\u001b[0m\u001b[1;33m(\u001b[0m\u001b[0mX\u001b[0m\u001b[1;33m,\u001b[0m \u001b[0my\u001b[0m\u001b[1;33m,\u001b[0m \u001b[0msample_weight\u001b[0m\u001b[1;33m=\u001b[0m\u001b[0mcurr_sample_weight\u001b[0m\u001b[1;33m,\u001b[0m \u001b[0mcheck_input\u001b[0m\u001b[1;33m=\u001b[0m\u001b[1;32mFalse\u001b[0m\u001b[1;33m)\u001b[0m\u001b[1;33m\u001b[0m\u001b[1;33m\u001b[0m\u001b[0m\n\u001b[0;32m    166\u001b[0m     \u001b[1;32melse\u001b[0m\u001b[1;33m:\u001b[0m\u001b[1;33m\u001b[0m\u001b[1;33m\u001b[0m\u001b[0m\n\u001b[1;32m--> 167\u001b[1;33m         \u001b[0mtree\u001b[0m\u001b[1;33m.\u001b[0m\u001b[0mfit\u001b[0m\u001b[1;33m(\u001b[0m\u001b[0mX\u001b[0m\u001b[1;33m,\u001b[0m \u001b[0my\u001b[0m\u001b[1;33m,\u001b[0m \u001b[0msample_weight\u001b[0m\u001b[1;33m=\u001b[0m\u001b[0msample_weight\u001b[0m\u001b[1;33m,\u001b[0m \u001b[0mcheck_input\u001b[0m\u001b[1;33m=\u001b[0m\u001b[1;32mFalse\u001b[0m\u001b[1;33m)\u001b[0m\u001b[1;33m\u001b[0m\u001b[1;33m\u001b[0m\u001b[0m\n\u001b[0m\u001b[0;32m    168\u001b[0m \u001b[1;33m\u001b[0m\u001b[0m\n\u001b[0;32m    169\u001b[0m     \u001b[1;32mreturn\u001b[0m \u001b[0mtree\u001b[0m\u001b[1;33m\u001b[0m\u001b[1;33m\u001b[0m\u001b[0m\n",
      "\u001b[1;32m~\\.conda\\envs\\computervision\\lib\\site-packages\\sklearn\\tree\\_classes.py\u001b[0m in \u001b[0;36mfit\u001b[1;34m(self, X, y, sample_weight, check_input, X_idx_sorted)\u001b[0m\n\u001b[0;32m    875\u001b[0m             \u001b[0msample_weight\u001b[0m\u001b[1;33m=\u001b[0m\u001b[0msample_weight\u001b[0m\u001b[1;33m,\u001b[0m\u001b[1;33m\u001b[0m\u001b[1;33m\u001b[0m\u001b[0m\n\u001b[0;32m    876\u001b[0m             \u001b[0mcheck_input\u001b[0m\u001b[1;33m=\u001b[0m\u001b[0mcheck_input\u001b[0m\u001b[1;33m,\u001b[0m\u001b[1;33m\u001b[0m\u001b[1;33m\u001b[0m\u001b[0m\n\u001b[1;32m--> 877\u001b[1;33m             X_idx_sorted=X_idx_sorted)\n\u001b[0m\u001b[0;32m    878\u001b[0m         \u001b[1;32mreturn\u001b[0m \u001b[0mself\u001b[0m\u001b[1;33m\u001b[0m\u001b[1;33m\u001b[0m\u001b[0m\n\u001b[0;32m    879\u001b[0m \u001b[1;33m\u001b[0m\u001b[0m\n",
      "\u001b[1;32m~\\.conda\\envs\\computervision\\lib\\site-packages\\sklearn\\tree\\_classes.py\u001b[0m in \u001b[0;36mfit\u001b[1;34m(self, X, y, sample_weight, check_input, X_idx_sorted)\u001b[0m\n\u001b[0;32m    269\u001b[0m             \u001b[1;32mraise\u001b[0m \u001b[0mValueError\u001b[0m\u001b[1;33m(\u001b[0m\u001b[1;34m\"max_depth must be greater than zero. \"\u001b[0m\u001b[1;33m)\u001b[0m\u001b[1;33m\u001b[0m\u001b[1;33m\u001b[0m\u001b[0m\n\u001b[0;32m    270\u001b[0m         \u001b[1;32mif\u001b[0m \u001b[1;32mnot\u001b[0m \u001b[1;33m(\u001b[0m\u001b[1;36m0\u001b[0m \u001b[1;33m<\u001b[0m \u001b[0mmax_features\u001b[0m \u001b[1;33m<=\u001b[0m \u001b[0mself\u001b[0m\u001b[1;33m.\u001b[0m\u001b[0mn_features_\u001b[0m\u001b[1;33m)\u001b[0m\u001b[1;33m:\u001b[0m\u001b[1;33m\u001b[0m\u001b[1;33m\u001b[0m\u001b[0m\n\u001b[1;32m--> 271\u001b[1;33m             \u001b[1;32mraise\u001b[0m \u001b[0mValueError\u001b[0m\u001b[1;33m(\u001b[0m\u001b[1;34m\"max_features must be in (0, n_features]\"\u001b[0m\u001b[1;33m)\u001b[0m\u001b[1;33m\u001b[0m\u001b[1;33m\u001b[0m\u001b[0m\n\u001b[0m\u001b[0;32m    272\u001b[0m         \u001b[1;32mif\u001b[0m \u001b[1;32mnot\u001b[0m \u001b[0misinstance\u001b[0m\u001b[1;33m(\u001b[0m\u001b[0mmax_leaf_nodes\u001b[0m\u001b[1;33m,\u001b[0m \u001b[0mnumbers\u001b[0m\u001b[1;33m.\u001b[0m\u001b[0mIntegral\u001b[0m\u001b[1;33m)\u001b[0m\u001b[1;33m:\u001b[0m\u001b[1;33m\u001b[0m\u001b[1;33m\u001b[0m\u001b[0m\n\u001b[0;32m    273\u001b[0m             raise ValueError(\"max_leaf_nodes must be integral number but was \"\n",
      "\u001b[1;31mValueError\u001b[0m: max_features must be in (0, n_features]"
     ]
    }
   ],
   "source": [
    "rf_rfecv = RFECV(estimator=hog_random_forest, step=1, cv=kfold, scoring='accuracy')\n",
    "rf_rfecv.fit(X,y)"
   ]
  },
  {
   "cell_type": "code",
   "execution_count": null,
   "metadata": {},
   "outputs": [],
   "source": [
    "rf_rfecv.grid_scores_"
   ]
  },
  {
   "cell_type": "code",
   "execution_count": null,
   "metadata": {},
   "outputs": [],
   "source": [
    "rf_rfecv.ranking_"
   ]
  },
  {
   "cell_type": "code",
   "execution_count": null,
   "metadata": {},
   "outputs": [],
   "source": [
    "rf_rfecv.support_"
   ]
  },
  {
   "cell_type": "code",
   "execution_count": null,
   "metadata": {},
   "outputs": [],
   "source": [
    "rf_support = os.path.join(models_dir, 'rf_support.npy')\n",
    "np.save(rf_support, rf_rfecv.support_)"
   ]
  },
  {
   "cell_type": "code",
   "execution_count": null,
   "metadata": {},
   "outputs": [],
   "source": [
    "plt.figure()\n",
    "plt.title('Feature Importance')\n",
    "plt.xlabel('Number of Features')\n",
    "plt.ylabel('Number of correct predictions')\n",
    "plt.plot(range(1, len(rf_rfecv.grid_scores_)+1), rf_rfecv.grid_scores_)\n",
    "plt.show()"
   ]
  },
  {
   "cell_type": "code",
   "execution_count": null,
   "metadata": {},
   "outputs": [],
   "source": [
    "rf_rfecv.support_[0]"
   ]
  },
  {
   "cell_type": "code",
   "execution_count": null,
   "metadata": {},
   "outputs": [],
   "source": [
    "rf_feature_importance = rf_rfecv.support_\n",
    "rf_new_features = []\n",
    "\n",
    "for i,feature in enumerate(rf_feature_importance):\n",
    "    if feature:\n",
    "        rf_new_features.append(i)"
   ]
  },
  {
   "cell_type": "code",
   "execution_count": null,
   "metadata": {},
   "outputs": [],
   "source": [
    "#The number of columns that act as usefule features\n",
    "len(rf_new_features)"
   ]
  },
  {
   "cell_type": "code",
   "execution_count": null,
   "metadata": {},
   "outputs": [],
   "source": [
    "#These are the columns chosen\n",
    "rf_new_features[:10]"
   ]
  },
  {
   "cell_type": "code",
   "execution_count": null,
   "metadata": {},
   "outputs": [],
   "source": [
    "rf_features = X[:,rf_new_features]\n",
    "rf_features.shape, y.shape"
   ]
  },
  {
   "cell_type": "code",
   "execution_count": null,
   "metadata": {},
   "outputs": [],
   "source": [
    "scores = cross_val_score(hog_random_forest, rf_features, y, scoring='accuracy', cv=10)\n",
    "scores"
   ]
  },
  {
   "cell_type": "code",
   "execution_count": null,
   "metadata": {},
   "outputs": [],
   "source": [
    "scores.mean()"
   ]
  },
  {
   "cell_type": "code",
   "execution_count": 14,
   "metadata": {},
   "outputs": [
    {
     "data": {
      "text/plain": [
       "RFECV(cv=KFold(n_splits=10, random_state=None, shuffle=False),\n",
       "      estimator=LogisticRegression(C=0.5, class_weight=None, dual=False,\n",
       "                                   fit_intercept=True, intercept_scaling=1,\n",
       "                                   l1_ratio=None, max_iter=200,\n",
       "                                   multi_class='auto', n_jobs=None,\n",
       "                                   penalty='l2', random_state=None,\n",
       "                                   solver='lbfgs', tol=0.1, verbose=0,\n",
       "                                   warm_start=False),\n",
       "      min_features_to_select=1, n_jobs=None, scoring='accuracy', step=100,\n",
       "      verbose=0)"
      ]
     },
     "execution_count": 14,
     "metadata": {},
     "output_type": "execute_result"
    }
   ],
   "source": [
    "lr_rfecv = RFECV(estimator=hog_logistic_regression, step=10, cv=kfold, scoring='accuracy')\n",
    "lr_rfecv.fit(X,y)"
   ]
  },
  {
   "cell_type": "code",
   "execution_count": 24,
   "metadata": {},
   "outputs": [
    {
     "data": {
      "text/plain": [
       "array([0.10769231, 0.61987179, 0.60576923, 0.59102564, 0.59807692,\n",
       "       0.5974359 , 0.62948718, 0.62179487, 0.62948718, 0.62115385,\n",
       "       0.62179487, 0.61346154, 0.59807692, 0.60576923, 0.59807692,\n",
       "       0.59807692, 0.59871795, 0.59871795, 0.59871795, 0.59807692,\n",
       "       0.58974359, 0.58974359, 0.58205128, 0.57435897, 0.59038462,\n",
       "       0.55897436, 0.575     , 0.59807692, 0.575     , 0.575     ,\n",
       "       0.575     , 0.56666667, 0.59038462, 0.60641026, 0.59871795,\n",
       "       0.5974359 , 0.59807692, 0.58974359, 0.59807692, 0.59807692,\n",
       "       0.60576923, 0.61346154])"
      ]
     },
     "execution_count": 24,
     "metadata": {},
     "output_type": "execute_result"
    }
   ],
   "source": [
    "lr_rfecv.grid_scores_"
   ]
  },
  {
   "cell_type": "code",
   "execution_count": 25,
   "metadata": {},
   "outputs": [
    {
     "data": {
      "text/plain": [
       "array([ 7,  1,  1, ..., 14,  9, 12])"
      ]
     },
     "execution_count": 25,
     "metadata": {},
     "output_type": "execute_result"
    }
   ],
   "source": [
    "lr_rfecv.ranking_"
   ]
  },
  {
   "cell_type": "code",
   "execution_count": 26,
   "metadata": {},
   "outputs": [
    {
     "data": {
      "text/plain": [
       "array([False,  True,  True, ..., False, False, False])"
      ]
     },
     "execution_count": 26,
     "metadata": {},
     "output_type": "execute_result"
    }
   ],
   "source": [
    "lr_rfecv.support_"
   ]
  },
  {
   "cell_type": "code",
   "execution_count": 50,
   "metadata": {},
   "outputs": [],
   "source": [
    "lr_support = os.path.join(models_dir, 'lr_support.npy')\n",
    "np.save(lr_support, lr_rfecv.support_)"
   ]
  },
  {
   "cell_type": "code",
   "execution_count": 27,
   "metadata": {},
   "outputs": [
    {
     "data": {
      "image/png": "[encoded data removed]",
      "text/plain": [
       "<Figure size 432x288 with 1 Axes>"
      ]
     },
     "metadata": {
      "needs_background": "light"
     },
     "output_type": "display_data"
    }
   ],
   "source": [
    "plt.figure()\n",
    "plt.title('Feature Importance')\n",
    "plt.xlabel('Number of Features')\n",
    "plt.ylabel('Number of correct predictions')\n",
    "plt.plot(range(1, len(lr_rfecv.grid_scores_)+1), lr_rfecv.grid_scores_)\n",
    "plt.show()"
   ]
  },
  {
   "cell_type": "code",
   "execution_count": 28,
   "metadata": {},
   "outputs": [
    {
     "data": {
      "text/plain": [
       "((128, 796), (128,))"
      ]
     },
     "execution_count": 28,
     "metadata": {},
     "output_type": "execute_result"
    }
   ],
   "source": [
    "lr_feature_importance = lr_rfecv.support_\n",
    "lr_new_features = []\n",
    "\n",
    "for i,feature in enumerate(lr_feature_importance):\n",
    "    if feature:\n",
    "        lr_new_features.append(i)\n",
    "lr_features = X[:,lr_new_features]\n",
    "lr_features.shape, y.shape"
   ]
  },
  {
   "cell_type": "code",
   "execution_count": 29,
   "metadata": {},
   "outputs": [
    {
     "data": {
      "text/plain": [
       "array([1.        , 1.        , 1.        , 1.        , 1.        ,\n",
       "       1.        , 1.        , 1.        , 0.83333333, 1.        ])"
      ]
     },
     "execution_count": 29,
     "metadata": {},
     "output_type": "execute_result"
    }
   ],
   "source": [
    "scores = cross_val_score(hog_logistic_regression,lr_features, y, scoring='accuracy', cv=10)\n",
    "scores"
   ]
  },
  {
   "cell_type": "code",
   "execution_count": 30,
   "metadata": {},
   "outputs": [
    {
     "data": {
      "text/plain": [
       "0.9833333333333334"
      ]
     },
     "execution_count": 30,
     "metadata": {},
     "output_type": "execute_result"
    }
   ],
   "source": [
    "scores.mean()"
   ]
  },
  {
   "cell_type": "code",
   "execution_count": 31,
   "metadata": {},
   "outputs": [
    {
     "data": {
      "text/plain": [
       "RFECV(cv=KFold(n_splits=10, random_state=None, shuffle=False),\n",
       "      estimator=LinearSVC(C=0.0001, class_weight=None, dual=True,\n",
       "                          fit_intercept=True, intercept_scaling=1,\n",
       "                          loss='squared_hinge', max_iter=1000,\n",
       "                          multi_class='ovr', penalty='l2', random_state=None,\n",
       "                          tol=0.01, verbose=0),\n",
       "      min_features_to_select=1, n_jobs=None, scoring='accuracy', step=10,\n",
       "      verbose=0)"
      ]
     },
     "execution_count": 31,
     "metadata": {},
     "output_type": "execute_result"
    }
   ],
   "source": [
    "linear_svc_rfecv = RFECV(estimator=hog_linear_svc, step=10, cv=kfold, scoring='accuracy')\n",
    "linear_svc_rfecv.fit(X,y)"
   ]
  },
  {
   "cell_type": "code",
   "execution_count": 32,
   "metadata": {
    "scrolled": true
   },
   "outputs": [
    {
     "data": {
      "text/plain": [
       "array([0.06923077, 0.29230769, 0.30769231, 0.37692308, 0.3775641 ,\n",
       "       0.40833333, 0.3775641 , 0.38525641, 0.38525641, 0.41666667,\n",
       "       0.41602564, 0.43269231, 0.45576923, 0.45576923, 0.47179487,\n",
       "       0.47948718, 0.46346154, 0.47115385, 0.45641026, 0.46474359,\n",
       "       0.44102564, 0.45641026, 0.45641026, 0.46410256, 0.48782051,\n",
       "       0.48782051, 0.47948718, 0.47115385, 0.45576923, 0.46346154,\n",
       "       0.46346154, 0.46346154, 0.47884615, 0.48653846, 0.48653846,\n",
       "       0.48653846, 0.49423077, 0.48653846, 0.50192308, 0.50961538,\n",
       "       0.50192308, 0.50192308, 0.50192308, 0.51025641, 0.525     ,\n",
       "       0.51730769, 0.51794872, 0.52628205, 0.52628205, 0.52628205,\n",
       "       0.53397436, 0.52628205, 0.53397436, 0.52628205, 0.52692308,\n",
       "       0.53461538, 0.53461538, 0.53461538, 0.53461538, 0.53461538,\n",
       "       0.55833333, 0.56602564, 0.56602564, 0.55833333, 0.55833333,\n",
       "       0.56666667, 0.56666667, 0.56666667, 0.55833333, 0.58205128,\n",
       "       0.56666667, 0.56602564, 0.57435897, 0.57435897, 0.58205128,\n",
       "       0.57371795, 0.57371795, 0.57371795, 0.58205128, 0.57371795,\n",
       "       0.59038462, 0.58205128, 0.58205128, 0.58205128, 0.57371795,\n",
       "       0.57371795, 0.57371795, 0.57371795, 0.57371795, 0.57371795,\n",
       "       0.58910256, 0.58910256, 0.58910256, 0.58910256, 0.58910256,\n",
       "       0.58910256, 0.58910256, 0.58910256, 0.58910256, 0.58910256,\n",
       "       0.58910256, 0.58910256, 0.58910256, 0.5974359 , 0.5974359 ,\n",
       "       0.60576923, 0.60576923, 0.61346154, 0.61346154, 0.60576923,\n",
       "       0.61346154, 0.61346154, 0.60576923, 0.61346154, 0.60576923,\n",
       "       0.60576923, 0.60576923, 0.60576923, 0.61346154, 0.61346154,\n",
       "       0.61346154, 0.61346154, 0.61346154, 0.61346154, 0.61346154,\n",
       "       0.61346154, 0.61346154, 0.61346154, 0.61346154, 0.61346154,\n",
       "       0.61346154, 0.61346154, 0.61346154, 0.62179487, 0.61346154,\n",
       "       0.61346154, 0.60576923, 0.62115385, 0.61346154, 0.62179487,\n",
       "       0.61346154, 0.61346154, 0.61346154, 0.62115385, 0.62115385,\n",
       "       0.62948718, 0.62884615, 0.63717949, 0.63717949, 0.62948718,\n",
       "       0.62948718, 0.62948718, 0.63782051, 0.63782051, 0.63012821,\n",
       "       0.63012821, 0.63782051, 0.63782051, 0.63782051, 0.63782051,\n",
       "       0.63782051, 0.64551282, 0.63782051, 0.63782051, 0.64551282,\n",
       "       0.64551282, 0.64551282, 0.64551282, 0.64551282, 0.64551282,\n",
       "       0.64551282, 0.64551282, 0.64551282, 0.65384615, 0.65384615,\n",
       "       0.64615385, 0.65384615, 0.64615385, 0.65384615, 0.65384615,\n",
       "       0.65384615, 0.65384615, 0.65384615, 0.64551282, 0.65384615,\n",
       "       0.65320513, 0.65320513, 0.64551282, 0.64551282, 0.64551282,\n",
       "       0.63782051, 0.64551282, 0.65320513, 0.64615385, 0.64615385,\n",
       "       0.65384615, 0.64551282, 0.64551282, 0.63782051, 0.64551282,\n",
       "       0.64615385, 0.64615385, 0.66153846, 0.66153846, 0.66153846,\n",
       "       0.65384615, 0.65384615, 0.65384615, 0.66153846, 0.66153846,\n",
       "       0.66153846, 0.66153846, 0.66987179, 0.65384615, 0.65384615,\n",
       "       0.66217949, 0.66217949, 0.65384615, 0.65384615, 0.66217949,\n",
       "       0.65384615, 0.65384615, 0.65448718, 0.64615385, 0.64615385,\n",
       "       0.65320513, 0.64615385, 0.65384615, 0.66153846, 0.65384615,\n",
       "       0.66153846, 0.66153846, 0.66153846, 0.64615385, 0.66153846,\n",
       "       0.66217949, 0.66217949, 0.66217949, 0.66987179, 0.66987179,\n",
       "       0.6775641 , 0.66923077, 0.66153846, 0.66153846, 0.66217949,\n",
       "       0.66217949, 0.66217949, 0.67051282, 0.67820513, 0.67820513,\n",
       "       0.67820513, 0.67884615, 0.67051282, 0.67051282, 0.67820513,\n",
       "       0.67820513, 0.67820513, 0.69423077, 0.69423077, 0.69423077,\n",
       "       0.69423077, 0.69423077, 0.68653846, 0.68653846, 0.68653846,\n",
       "       0.68653846, 0.68653846, 0.67884615, 0.67115385, 0.66346154,\n",
       "       0.6474359 , 0.6474359 , 0.6474359 , 0.6474359 , 0.6474359 ,\n",
       "       0.65512821, 0.65512821, 0.65512821, 0.6474359 , 0.65512821,\n",
       "       0.65512821, 0.65512821, 0.65512821, 0.65512821, 0.66282051,\n",
       "       0.66282051, 0.65512821, 0.65512821, 0.65512821, 0.65512821,\n",
       "       0.65512821, 0.65512821, 0.65512821, 0.66282051, 0.65512821,\n",
       "       0.65512821, 0.65512821, 0.65512821, 0.65512821, 0.66282051,\n",
       "       0.65512821, 0.65512821, 0.65512821, 0.65512821, 0.65512821,\n",
       "       0.65512821, 0.65512821, 0.65512821, 0.65512821, 0.65512821,\n",
       "       0.65512821, 0.65512821, 0.65512821, 0.6474359 , 0.63910256,\n",
       "       0.63910256, 0.64679487, 0.65512821, 0.65512821, 0.6474359 ,\n",
       "       0.65512821, 0.65512821, 0.6474359 , 0.6474359 , 0.65512821,\n",
       "       0.64679487, 0.65448718, 0.65448718, 0.66282051, 0.6474359 ,\n",
       "       0.6474359 , 0.6474359 , 0.6474359 , 0.6474359 , 0.65512821,\n",
       "       0.65512821, 0.66346154, 0.66346154, 0.66346154, 0.65512821,\n",
       "       0.66346154, 0.66346154, 0.66346154, 0.65512821, 0.65512821,\n",
       "       0.6474359 , 0.65512821, 0.65512821, 0.6474359 , 0.64679487,\n",
       "       0.63910256, 0.6474359 , 0.63974359, 0.6474359 , 0.6474359 ,\n",
       "       0.63974359, 0.63974359, 0.63974359, 0.63974359, 0.63141026,\n",
       "       0.63141026, 0.63141026, 0.63141026, 0.63974359, 0.6474359 ,\n",
       "       0.6474359 , 0.6474359 , 0.6474359 , 0.6474359 , 0.6474359 ,\n",
       "       0.6474359 , 0.65576923, 0.65576923, 0.65576923, 0.65576923,\n",
       "       0.66346154, 0.65576923, 0.65576923, 0.65576923, 0.65576923,\n",
       "       0.66346154, 0.66346154, 0.64807692, 0.65576923, 0.65576923,\n",
       "       0.64807692, 0.64807692, 0.64807692, 0.64807692, 0.64807692,\n",
       "       0.64807692, 0.64807692, 0.64807692, 0.64807692, 0.64807692,\n",
       "       0.64807692, 0.64807692, 0.64807692, 0.64807692, 0.64807692,\n",
       "       0.64807692, 0.64807692, 0.64807692, 0.64807692, 0.64807692,\n",
       "       0.64807692, 0.64807692, 0.64807692, 0.64807692, 0.64807692,\n",
       "       0.64807692])"
      ]
     },
     "execution_count": 32,
     "metadata": {},
     "output_type": "execute_result"
    }
   ],
   "source": [
    "linear_svc_rfecv.grid_scores_"
   ]
  },
  {
   "cell_type": "code",
   "execution_count": 33,
   "metadata": {},
   "outputs": [
    {
     "data": {
      "text/plain": [
       "array([ 1,  1,  1, ..., 37, 90,  1])"
      ]
     },
     "execution_count": 33,
     "metadata": {},
     "output_type": "execute_result"
    }
   ],
   "source": [
    "linear_svc_rfecv.ranking_"
   ]
  },
  {
   "cell_type": "code",
   "execution_count": 34,
   "metadata": {},
   "outputs": [
    {
     "data": {
      "text/plain": [
       "array([ True,  True,  True, ..., False, False,  True])"
      ]
     },
     "execution_count": 34,
     "metadata": {},
     "output_type": "execute_result"
    }
   ],
   "source": [
    "linear_svc_rfecv.support_"
   ]
  },
  {
   "cell_type": "code",
   "execution_count": 49,
   "metadata": {},
   "outputs": [],
   "source": [
    "linear_svc_support = os.path.join(models_dir, 'linear_svc_support.npy')\n",
    "np.save(linear_svc_support, linear_svc_rfecv.support_)"
   ]
  },
  {
   "cell_type": "code",
   "execution_count": 35,
   "metadata": {},
   "outputs": [
    {
     "data": {
      "image/png": "[encoded data removed]",
      "text/plain": [
       "<Figure size 432x288 with 1 Axes>"
      ]
     },
     "metadata": {
      "needs_background": "light"
     },
     "output_type": "display_data"
    }
   ],
   "source": [
    "plt.figure()\n",
    "plt.title('Feature Importance')\n",
    "plt.xlabel('Number of Features')\n",
    "plt.ylabel('Number of correct predictions')\n",
    "plt.plot(range(1, len(linear_svc_rfecv.grid_scores_)+1), linear_svc_rfecv.grid_scores_)\n",
    "plt.show()"
   ]
  },
  {
   "cell_type": "code",
   "execution_count": 36,
   "metadata": {},
   "outputs": [
    {
     "data": {
      "text/plain": [
       "((128, 2566), (128,))"
      ]
     },
     "execution_count": 36,
     "metadata": {},
     "output_type": "execute_result"
    }
   ],
   "source": [
    "linear_svc_feature_importance = linear_svc_rfecv.support_\n",
    "linear_svc_new_features = []\n",
    "\n",
    "for i,feature in enumerate(linear_svc_feature_importance):\n",
    "    if feature:\n",
    "        linear_svc_new_features.append(i)\n",
    "linear_svc_features = X[:,linear_svc_new_features]\n",
    "linear_svc_features.shape, y.shape"
   ]
  },
  {
   "cell_type": "code",
   "execution_count": 37,
   "metadata": {},
   "outputs": [
    {
     "data": {
      "text/plain": [
       "array([0.92307692, 0.69230769, 0.92307692, 0.84615385, 0.84615385,\n",
       "       0.61538462, 0.76923077, 0.76923077, 0.66666667, 0.75      ])"
      ]
     },
     "execution_count": 37,
     "metadata": {},
     "output_type": "execute_result"
    }
   ],
   "source": [
    "scores = cross_val_score(hog_linear_svc, linear_svc_features, y, scoring='accuracy', cv=10)\n",
    "scores"
   ]
  },
  {
   "cell_type": "code",
   "execution_count": 38,
   "metadata": {},
   "outputs": [
    {
     "data": {
      "text/plain": [
       "0.7801282051282052"
      ]
     },
     "execution_count": 38,
     "metadata": {},
     "output_type": "execute_result"
    }
   ],
   "source": [
    "scores.mean()"
   ]
  },
  {
   "cell_type": "code",
   "execution_count": 39,
   "metadata": {},
   "outputs": [
    {
     "data": {
      "text/plain": [
       "RFECV(cv=KFold(n_splits=10, random_state=None, shuffle=False),\n",
       "      estimator=SVC(C=0.1, break_ties=False, cache_size=200, class_weight=None,\n",
       "                    coef0=0.0, decision_function_shape='ovr', degree=3,\n",
       "                    gamma='scale', kernel='linear', max_iter=-1,\n",
       "                    probability=False, random_state=None, shrinking=True,\n",
       "                    tol=0.1, verbose=False),\n",
       "      min_features_to_select=1, n_jobs=None, scoring='accuracy', step=10,\n",
       "      verbose=0)"
      ]
     },
     "execution_count": 39,
     "metadata": {},
     "output_type": "execute_result"
    }
   ],
   "source": [
    "svc_rfecv = RFECV(estimator=hog_svc, step=10, cv=kfold, scoring='accuracy')\n",
    "svc_rfecv.fit(X,y)"
   ]
  },
  {
   "cell_type": "code",
   "execution_count": 41,
   "metadata": {
    "collapsed": true
   },
   "outputs": [
    {
     "data": {
      "text/plain": [
       "array([0.02307692, 0.38653846, 0.47179487, 0.50384615, 0.48589744,\n",
       "       0.5724359 , 0.58910256, 0.61282051, 0.58076923, 0.61346154,\n",
       "       0.59935897, 0.58205128, 0.59807692, 0.63846154, 0.61410256,\n",
       "       0.60576923, 0.60512821, 0.61346154, 0.61346154, 0.59679487,\n",
       "       0.60512821, 0.62051282, 0.62884615, 0.59679487, 0.62115385,\n",
       "       0.60512821, 0.62820513, 0.62051282, 0.61217949, 0.5974359 ,\n",
       "       0.60512821, 0.61410256, 0.60641026, 0.61410256, 0.60576923,\n",
       "       0.59871795, 0.60641026, 0.60641026, 0.59871795, 0.59038462,\n",
       "       0.59038462, 0.59038462, 0.59807692, 0.60576923, 0.59807692,\n",
       "       0.60576923, 0.60576923, 0.60576923, 0.60641026, 0.59871795,\n",
       "       0.59871795, 0.58269231, 0.59038462, 0.60576923, 0.61410256,\n",
       "       0.60576923, 0.59038462, 0.59038462, 0.59807692, 0.59807692,\n",
       "       0.60576923, 0.59807692, 0.59807692, 0.59871795, 0.59807692,\n",
       "       0.60576923, 0.59807692, 0.58974359, 0.59807692, 0.58974359,\n",
       "       0.59038462, 0.59807692, 0.60641026, 0.59807692, 0.59038462,\n",
       "       0.61410256, 0.59102564, 0.59871795, 0.60641026, 0.60641026,\n",
       "       0.62948718, 0.62179487, 0.61410256, 0.61410256, 0.6224359 ,\n",
       "       0.62948718, 0.63012821, 0.62179487, 0.63076923, 0.63076923,\n",
       "       0.6224359 , 0.62307692, 0.61538462, 0.63141026, 0.63141026,\n",
       "       0.62307692, 0.63076923, 0.63012821, 0.61474359, 0.60705128,\n",
       "       0.6224359 , 0.59935897, 0.61474359, 0.61474359, 0.60705128,\n",
       "       0.60705128, 0.6224359 , 0.6224359 , 0.60705128, 0.60641026,\n",
       "       0.6224359 , 0.6224359 , 0.63076923, 0.63846154, 0.62307692,\n",
       "       0.61538462, 0.61538462, 0.61538462, 0.59935897, 0.62307692,\n",
       "       0.62307692, 0.62307692, 0.63076923, 0.61538462, 0.63076923,\n",
       "       0.63076923, 0.60769231, 0.61538462, 0.62307692, 0.62307692,\n",
       "       0.62371795, 0.61538462, 0.61538462, 0.61538462, 0.61538462,\n",
       "       0.61538462, 0.60769231, 0.61538462, 0.61538462, 0.61538462,\n",
       "       0.61538462, 0.61538462, 0.61538462, 0.61538462, 0.61538462,\n",
       "       0.60705128, 0.60705128, 0.60705128, 0.60705128, 0.60705128,\n",
       "       0.60705128, 0.60705128, 0.61474359, 0.61474359, 0.61474359,\n",
       "       0.60705128, 0.61538462, 0.60705128, 0.60705128, 0.60769231,\n",
       "       0.59935897, 0.59166667, 0.61538462, 0.59166667, 0.60705128,\n",
       "       0.58333333, 0.60705128, 0.59935897, 0.59166667, 0.59935897,\n",
       "       0.59102564, 0.59102564, 0.59871795, 0.60705128, 0.61538462,\n",
       "       0.62307692, 0.60705128, 0.60705128, 0.59871795, 0.60705128,\n",
       "       0.61474359, 0.60641026, 0.61474359, 0.61474359, 0.62307692,\n",
       "       0.61474359, 0.60641026, 0.61474359, 0.61474359, 0.61474359,\n",
       "       0.61474359, 0.61474359, 0.61474359, 0.60641026, 0.61474359,\n",
       "       0.61474359, 0.60705128, 0.61474359, 0.61538462, 0.61474359,\n",
       "       0.62307692, 0.61538462, 0.60705128, 0.61474359, 0.61474359,\n",
       "       0.61474359, 0.60705128, 0.59935897, 0.59935897, 0.60705128,\n",
       "       0.61538462, 0.61538462, 0.60705128, 0.60705128, 0.61474359,\n",
       "       0.60705128, 0.60641026, 0.59935897, 0.59871795, 0.59102564,\n",
       "       0.60705128, 0.60705128, 0.61538462, 0.60705128, 0.60705128,\n",
       "       0.60705128, 0.61474359, 0.59935897, 0.61538462, 0.60769231,\n",
       "       0.60705128, 0.59102564, 0.60769231, 0.60769231, 0.61538462,\n",
       "       0.61474359, 0.60705128, 0.58333333, 0.60705128, 0.60705128,\n",
       "       0.59871795, 0.59871795, 0.60705128, 0.59102564, 0.60705128,\n",
       "       0.60705128, 0.61538462, 0.60705128, 0.61538462, 0.60705128,\n",
       "       0.60769231, 0.61538462, 0.61538462, 0.62307692, 0.61474359,\n",
       "       0.61474359, 0.62307692, 0.62307692, 0.62307692, 0.61538462,\n",
       "       0.61474359, 0.61474359, 0.61474359, 0.60705128, 0.62307692,\n",
       "       0.61474359, 0.61538462, 0.61538462, 0.59871795, 0.60769231,\n",
       "       0.62307692, 0.60769231, 0.60705128, 0.63076923, 0.61538462,\n",
       "       0.60769231, 0.61538462, 0.59102564, 0.60769231, 0.61538462,\n",
       "       0.60705128, 0.60705128, 0.60705128, 0.60705128, 0.60705128,\n",
       "       0.61538462, 0.59935897, 0.59935897, 0.60769231, 0.61538462,\n",
       "       0.60705128, 0.60705128, 0.61474359, 0.59935897, 0.61538462,\n",
       "       0.59935897, 0.60769231, 0.59935897, 0.61538462, 0.59935897,\n",
       "       0.59935897, 0.59935897, 0.6       , 0.61538462, 0.61538462,\n",
       "       0.59166667, 0.60769231, 0.60769231, 0.60769231, 0.60833333,\n",
       "       0.61602564, 0.6       , 0.60769231, 0.61538462, 0.60705128,\n",
       "       0.62371795, 0.60769231, 0.60833333, 0.60769231, 0.59166667,\n",
       "       0.59935897, 0.60705128, 0.60705128, 0.61538462, 0.61538462,\n",
       "       0.61538462, 0.60769231, 0.61538462, 0.61538462, 0.60705128,\n",
       "       0.60705128, 0.59871795, 0.59102564, 0.59871795, 0.61538462,\n",
       "       0.60705128, 0.61538462, 0.60705128, 0.60769231, 0.60769231,\n",
       "       0.60769231, 0.6       , 0.59935897, 0.59935897, 0.6       ,\n",
       "       0.59935897, 0.6       , 0.6       , 0.6       , 0.6       ,\n",
       "       0.60769231, 0.61602564, 0.58333333, 0.59102564, 0.59166667,\n",
       "       0.59102564, 0.6       , 0.6       , 0.59166667, 0.59166667,\n",
       "       0.59935897, 0.59935897, 0.59166667, 0.59166667, 0.60705128,\n",
       "       0.58333333, 0.59166667, 0.58333333, 0.59102564, 0.58333333,\n",
       "       0.58333333, 0.59102564, 0.59102564, 0.58333333, 0.58333333,\n",
       "       0.59102564, 0.59102564, 0.58333333, 0.59102564, 0.57564103,\n",
       "       0.57564103, 0.58333333, 0.58333333, 0.58397436, 0.59166667,\n",
       "       0.58333333, 0.59166667, 0.59166667, 0.58333333, 0.57564103,\n",
       "       0.59166667, 0.58397436, 0.59166667, 0.57628205, 0.58397436,\n",
       "       0.58397436, 0.58397436, 0.57564103, 0.58397436, 0.58397436,\n",
       "       0.59166667, 0.59230769, 0.57628205, 0.58397436, 0.59230769,\n",
       "       0.58397436, 0.6       , 0.59230769, 0.58397436, 0.58397436,\n",
       "       0.59230769])"
      ]
     },
     "execution_count": 41,
     "metadata": {},
     "output_type": "execute_result"
    }
   ],
   "source": [
    "svc_rfecv.grid_scores_"
   ]
  },
  {
   "cell_type": "code",
   "execution_count": 42,
   "metadata": {},
   "outputs": [
    {
     "data": {
      "text/plain": [
       "array([123, 137,   1, ..., 255, 210,  87])"
      ]
     },
     "execution_count": 42,
     "metadata": {},
     "output_type": "execute_result"
    }
   ],
   "source": [
    "svc_rfecv.ranking_"
   ]
  },
  {
   "cell_type": "code",
   "execution_count": 43,
   "metadata": {},
   "outputs": [
    {
     "data": {
      "text/plain": [
       "array([False, False,  True, ..., False, False, False])"
      ]
     },
     "execution_count": 43,
     "metadata": {},
     "output_type": "execute_result"
    }
   ],
   "source": [
    "svc_rfecv.support_"
   ]
  },
  {
   "cell_type": "code",
   "execution_count": 48,
   "metadata": {},
   "outputs": [],
   "source": [
    "svc_support = os.path.join(models_dir, 'svc_support.npy')\n",
    "np.save(svc_support, svc_rfecv.support_)"
   ]
  },
  {
   "cell_type": "code",
   "execution_count": 44,
   "metadata": {},
   "outputs": [
    {
     "data": {
      "image/png": "[encoded data removed]",
      "text/plain": [
       "<Figure size 432x288 with 1 Axes>"
      ]
     },
     "metadata": {
      "needs_background": "light"
     },
     "output_type": "display_data"
    }
   ],
   "source": [
    "plt.figure()\n",
    "plt.title('Feature Importance')\n",
    "plt.xlabel('Number of Features')\n",
    "plt.ylabel('Number of correct predictions')\n",
    "plt.plot(range(1, len(svc_rfecv.grid_scores_)+1), svc_rfecv.grid_scores_)\n",
    "plt.show()"
   ]
  },
  {
   "cell_type": "code",
   "execution_count": 45,
   "metadata": {},
   "outputs": [
    {
     "data": {
      "text/plain": [
       "((128, 126), (128,))"
      ]
     },
     "execution_count": 45,
     "metadata": {},
     "output_type": "execute_result"
    }
   ],
   "source": [
    "svc_feature_importance = svc_rfecv.support_\n",
    "svc_new_features = []\n",
    "\n",
    "for i,feature in enumerate(svc_feature_importance):\n",
    "    if feature:\n",
    "        svc_new_features.append(i)\n",
    "svc_features = X[:,svc_new_features]\n",
    "svc_features.shape, y.shape"
   ]
  },
  {
   "cell_type": "code",
   "execution_count": 46,
   "metadata": {},
   "outputs": [
    {
     "data": {
      "text/plain": [
       "array([1.        , 1.        , 1.        , 1.        , 1.        ,\n",
       "       1.        , 1.        , 1.        , 0.91666667, 1.        ])"
      ]
     },
     "execution_count": 46,
     "metadata": {},
     "output_type": "execute_result"
    }
   ],
   "source": [
    "scores = cross_val_score(hog_svc, svc_features, y, scoring='accuracy', cv=10)\n",
    "scores"
   ]
  },
  {
   "cell_type": "code",
   "execution_count": 47,
   "metadata": {},
   "outputs": [
    {
     "data": {
      "text/plain": [
       "0.9916666666666666"
      ]
     },
     "execution_count": 47,
     "metadata": {},
     "output_type": "execute_result"
    }
   ],
   "source": [
    "scores.mean()"
   ]
  },
  {
   "cell_type": "code",
   "execution_count": 60,
   "metadata": {},
   "outputs": [],
   "source": [
    "def train_model(model, features, labels):\n",
    "    start = time.time()\n",
    "    scores = cross_val_score(model, features, labels, scoring='accuracy', cv=10)\n",
    "    stop = time.time()\n",
    "    t = (stop - start)/10\n",
    "    return round(scores.mean(), 2), round(t, 4)"
   ]
  },
  {
   "cell_type": "code",
   "execution_count": 59,
   "metadata": {},
   "outputs": [
    {
     "data": {
      "text/plain": [
       "(0.73, 4.106458592414856)"
      ]
     },
     "execution_count": 59,
     "metadata": {},
     "output_type": "execute_result"
    }
   ],
   "source": [
    "rf_accuracy, rf_train_time = train_model(hog_random_forest, X, y)\n",
    "rf_accuracy, rf_train_time"
   ]
  },
  {
   "cell_type": "code",
   "execution_count": 61,
   "metadata": {},
   "outputs": [
    {
     "data": {
      "text/plain": [
       "(0.98, 0.0146)"
      ]
     },
     "execution_count": 61,
     "metadata": {},
     "output_type": "execute_result"
    }
   ],
   "source": [
    "lr_accuracy, lr_train_time = train_model(hog_logistic_regression, lr_features, y)\n",
    "lr_accuracy, lr_train_time"
   ]
  },
  {
   "cell_type": "code",
   "execution_count": 62,
   "metadata": {},
   "outputs": [
    {
     "data": {
      "text/plain": [
       "(0.74, 0.0282)"
      ]
     },
     "execution_count": 62,
     "metadata": {},
     "output_type": "execute_result"
    }
   ],
   "source": [
    "knn_accuracy, knn_train_time = train_model(hog_knearest_neighbors, knn_features, y)\n",
    "knn_accuracy, knn_train_time"
   ]
  },
  {
   "cell_type": "code",
   "execution_count": 63,
   "metadata": {},
   "outputs": [
    {
     "data": {
      "text/plain": [
       "(0.7, 0.0657)"
      ]
     },
     "execution_count": 63,
     "metadata": {},
     "output_type": "execute_result"
    }
   ],
   "source": [
    "linear_svc_accuracy, linear_svc_train_time = train_model(hog_linear_svc, X, y)\n",
    "linear_svc_accuracy, linear_svc_train_time"
   ]
  },
  {
   "cell_type": "code",
   "execution_count": 64,
   "metadata": {},
   "outputs": [
    {
     "data": {
      "text/plain": [
       "(0.98, 0.0162)"
      ]
     },
     "execution_count": 64,
     "metadata": {},
     "output_type": "execute_result"
    }
   ],
   "source": [
    "svc_accuracy, svc_train_time = train_model(hog_svc, svc_features, y)\n",
    "svc_accuracy, svc_train_time"
   ]
  },
  {
   "cell_type": "code",
   "execution_count": 65,
   "metadata": {},
   "outputs": [
    {
     "data": {
      "text/html": [
       "<div>\n",
       "<style scoped>\n",
       "    .dataframe tbody tr th:only-of-type {\n",
       "        vertical-align: middle;\n",
       "    }\n",
       "\n",
       "    .dataframe tbody tr th {\n",
       "        vertical-align: top;\n",
       "    }\n",
       "\n",
       "    .dataframe thead th {\n",
       "        text-align: right;\n",
       "    }\n",
       "</style>\n",
       "<table border=\"1\" class=\"dataframe\">\n",
       "  <thead>\n",
       "    <tr style=\"text-align: right;\">\n",
       "      <th></th>\n",
       "      <th>Model Name</th>\n",
       "      <th>Model Accuracy</th>\n",
       "      <th>Training Time</th>\n",
       "    </tr>\n",
       "  </thead>\n",
       "  <tbody>\n",
       "    <tr>\n",
       "      <th>4</th>\n",
       "      <td>Support Vector Classifier</td>\n",
       "      <td>0.98</td>\n",
       "      <td>0.016200</td>\n",
       "    </tr>\n",
       "    <tr>\n",
       "      <th>1</th>\n",
       "      <td>Logistic Regression</td>\n",
       "      <td>0.98</td>\n",
       "      <td>0.014600</td>\n",
       "    </tr>\n",
       "    <tr>\n",
       "      <th>2</th>\n",
       "      <td>K-Nearest Neighbor</td>\n",
       "      <td>0.74</td>\n",
       "      <td>0.028200</td>\n",
       "    </tr>\n",
       "    <tr>\n",
       "      <th>0</th>\n",
       "      <td>Random Forest</td>\n",
       "      <td>0.73</td>\n",
       "      <td>4.106459</td>\n",
       "    </tr>\n",
       "    <tr>\n",
       "      <th>3</th>\n",
       "      <td>Linear SVC</td>\n",
       "      <td>0.70</td>\n",
       "      <td>0.065700</td>\n",
       "    </tr>\n",
       "  </tbody>\n",
       "</table>\n",
       "</div>"
      ],
      "text/plain": [
       "                  Model Name  Model Accuracy  Training Time\n",
       "4  Support Vector Classifier            0.98       0.016200\n",
       "1        Logistic Regression            0.98       0.014600\n",
       "2         K-Nearest Neighbor            0.74       0.028200\n",
       "0              Random Forest            0.73       4.106459\n",
       "3                 Linear SVC            0.70       0.065700"
      ]
     },
     "execution_count": 65,
     "metadata": {},
     "output_type": "execute_result"
    }
   ],
   "source": [
    "results = {\n",
    "    'Model Name':model_names,\n",
    "    'Model Accuracy':[rf_accuracy, lr_accuracy, knn_accuracy, linear_svc_accuracy, svc_accuracy],\n",
    "    'Training Time':[rf_train_time, lr_train_time, knn_train_time, linear_svc_train_time, svc_train_time]\n",
    "}\n",
    "df = pd.DataFrame(results)\n",
    "df = df.sort_values(by=['Model Accuracy', 'Training Time'], ascending=False)\n",
    "df"
   ]
  },
  {
   "cell_type": "code",
   "execution_count": null,
   "metadata": {},
   "outputs": [],
   "source": [
    "#model perfomance, errors\n",
    "#robustness to noise, image augmentation"
   ]
  },
  {
   "cell_type": "code",
   "execution_count": null,
   "metadata": {},
   "outputs": [],
   "source": [
    "#These are our five best models. Next, we look at the errors each makes then ensemble them"
   ]
  },
  {
   "cell_type": "code",
   "execution_count": null,
   "metadata": {},
   "outputs": [],
   "source": [
    "def get_new_features(model, features,labels):\n",
    "    kfold = KFold(n_splits=10)\n",
    "    model_rfecv = RFECV(estimator=model, step=1, cv=kfold, scoring='accuracy')\n",
    "    model_results = model_rfecv.fit(features, labels) \n",
    "    model_grid_scores = model_rfecv.grid_scores_\n",
    "    model_ranking = knn_rfecv.ranking_\n",
    "    model_features_support = model_rfecv.support_\n",
    "    model_new_features = []\n",
    "    for i,feature in enumerate(model_features_support):\n",
    "        if feature:\n",
    "            model_new_features.append(i)\n",
    "    model_features = features[:,knn_new_features]\n",
    "    return model_features"
   ]
  }
 ],
 "metadata": {
  "kernelspec": {
   "display_name": "Python 3",
   "language": "python",
   "name": "python3"
  },
  "language_info": {
   "codemirror_mode": {
    "name": "ipython",
    "version": 3
   },
   "file_extension": ".py",
   "mimetype": "text/x-python",
   "name": "python",
   "nbconvert_exporter": "python",
   "pygments_lexer": "ipython3",
   "version": "3.7.6"
  }
 },
 "nbformat": 4,
 "nbformat_minor": 4
}
