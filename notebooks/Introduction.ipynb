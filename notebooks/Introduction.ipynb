{
 "cells": [
  {
   "cell_type": "code",
   "execution_count": null,
   "metadata": {},
   "outputs": [],
   "source": [
    "Project Title: Cassava Disease Analysis\n",
    "\n",
    "Duration: 4 weeks\n",
    "    \n",
    "Meetings twice every week for updates. 1 hour.\n",
    "We go through what I have done. Then I give you the plan for the next meetup.\n",
    "    \n",
    "Schedule:\n",
    "    1. Problem statement\n",
    "        What is the problem that we have identified. \n",
    "            Cassava disease detection. \n",
    "            Background on these diseases.\n",
    "            cassava bacterial blight(cbb), cassava brown streak disease(cbsd), \n",
    "            cassava green mite(cgm), cassava mosaic disease(cmd)\n",
    "        Who is it affecting? \n",
    "        How?\n",
    "        What is our solution?\n",
    "        How will we implement it?\n",
    "        Outcome\n",
    "    2. Data acquisition\n",
    "        What type of data?\n",
    "        Where did we find it?\n",
    "        How is it going to solve our problem?\n",
    "        Outcome: A dataset\n",
    "    3. Data exploration\n",
    "        We look through the data to gain insights.\n",
    "        What are the telling signs of a particular disease?\n",
    "        Outcome: The features that indicate particular diseases\n",
    "    4. Data preparation\n",
    "        Here we are concerned with generating features for our model \n",
    "        Ensure the features can be used with our model.\n",
    "        Outcome: Training and a test set\n",
    "    5. Modelling\n",
    "        We come up with five models\n",
    "        Choose the best three.\n",
    "        Outcome: Three of our best classifiers\n",
    "    6. Fine tuning\n",
    "        Hyper-parameter tuning\n",
    "        Model combination.\n",
    "        Outcome: Complete solution"
   ]
  },
  {
   "cell_type": "code",
   "execution_count": null,
   "metadata": {},
   "outputs": [],
   "source": [
    "Agenda:\n",
    "    1. Way forward\n",
    "    2. Environment set-up"
   ]
  },
  {
   "cell_type": "code",
   "execution_count": null,
   "metadata": {},
   "outputs": [],
   "source": [
    "1. Problem statement:\n",
    "    1. Define the problem\n",
    "    2. How will the solution be used? \n",
    "    3. What are the current solutions?\n",
    "    4. Type of problem:\n",
    "    5. How should perfomance be measured?\n",
    "    6. Is perfomance measure aligned with our objective?\n",
    "    7. What would be the minimum perfomance needed to achieve our objective?\n",
    "    8. What are comparable problems?\n",
    "    9. Is human expertise available?\n",
    "    10. How would you solve this problem manually?\n",
    "    11. List the assumptions made.\n",
    "    12. Verify assumptions if possible."
   ]
  },
  {
   "cell_type": "code",
   "execution_count": null,
   "metadata": {},
   "outputs": [],
   "source": [
    "2. Data acquisition\n",
    "    Automate as much as possible so that you can get fresh data\n",
    "    1. List the data and how much you need\n",
    "    2. Find and document where you can find that data\n",
    "    3. Check how much space it will take\n",
    "    4. Check legal obligations and get authorization if neccessary\n",
    "    5. Get access authorization\n",
    "    6. Create a workspace with enough storage space\n",
    "    7. Get the data\n",
    "    8. Convert the data to a form that you can easily manipulate\n",
    "    9. Ensure sensitive infirmation is deleted or protected.\n",
    "    10. Check the size and type of data\n",
    "    11. Sample a test set, put it aside and never look at it."
   ]
  },
  {
   "cell_type": "code",
   "execution_count": null,
   "metadata": {},
   "outputs": [],
   "source": [
    "3. Data exploration\n",
    "    Get insights from a field expert\n",
    "    1. Create a copy of the data for exploration(sampling it down to a manageable size)\n",
    "    2. Create a jupyter notebook to keep a record of your data exploration\n",
    "    3. Study each attribute and its characterictics:\n",
    "        Name\n",
    "        Type(categorical, int/float, bounded/unbounded, text, structured)\n",
    "        % missing values\n",
    "        Noisiness and type of noise(stochastic, outliers, rounding errors)\n",
    "        Possibly useful for the task\n",
    "        Type of distribution(Gaussian, Uniform, Logarithmic)\n",
    "    4. For supervised learning tasks, identify the target attributes\n",
    "    5. Visualize the data\n",
    "    6. Study the correlations between the attributes\n",
    "    7. Study how you would solve the problem manually\n",
    "    8. Identify the promising transformations you would want to apply\n",
    "    9. Identify and extract the data that would be useful\n",
    "    10. Document what you learnt"
   ]
  },
  {
   "cell_type": "code",
   "execution_count": 3,
   "metadata": {},
   "outputs": [
    {
     "name": "stdout",
     "output_type": "stream",
     "text": [
      "Collecting opencv-contrib-python==3.4.8.29\n",
      "  Downloading opencv_contrib_python-3.4.8.29-cp38-cp38-manylinux1_x86_64.whl (34.2 MB)\n",
      "\u001b[K     |████████████████████████████████| 34.2 MB 111 kB/s eta 0:00:01     |██████████████████              | 19.3 MB 691 kB/s eta 0:00:22\n",
      "\u001b[?25hCollecting numpy>=1.17.3\n",
      "  Downloading numpy-1.18.1-cp38-cp38-manylinux1_x86_64.whl (20.6 MB)\n",
      "\u001b[K     |████████████████████████████████| 20.6 MB 110 kB/s ta 0:00:012\n",
      "\u001b[?25hInstalling collected packages: numpy, opencv-contrib-python\n",
      "Successfully installed numpy-1.18.1 opencv-contrib-python-3.4.8.29\n"
     ]
    }
   ],
   "source": [
    "!pip install opencv-contrib-python==3.4.8.29"
   ]
  },
  {
   "cell_type": "code",
   "execution_count": 4,
   "metadata": {},
   "outputs": [
    {
     "name": "stdout",
     "output_type": "stream",
     "text": [
      "Found existing installation: opencv-contrib-python 3.4.8.29\n",
      "Uninstalling opencv-contrib-python-3.4.8.29:\n",
      "  Would remove:\n",
      "    /home/lyle/anaconda3/envs/computervision/lib/python3.8/site-packages/cv2/*\n",
      "    /home/lyle/anaconda3/envs/computervision/lib/python3.8/site-packages/opencv_contrib_python-3.4.8.29.dist-info/*\n",
      "Proceed (y/n)? ^C\n",
      "\u001b[31mERROR: Operation cancelled by user\u001b[0m\n"
     ]
    }
   ],
   "source": [
    "!pip uninstall opencv-contrib-python==3.4.8.29"
   ]
  },
  {
   "cell_type": "code",
   "execution_count": 5,
   "metadata": {},
   "outputs": [
    {
     "name": "stdout",
     "output_type": "stream",
     "text": [
      "\u001b[31mERROR: Could not find a version that satisfies the requirement opencv-contrib-python==3.2 (from versions: 3.4.8.29, 3.4.9.31, 4.1.2.30, 4.2.0.32)\u001b[0m\r\n",
      "\u001b[31mERROR: No matching distribution found for opencv-contrib-python==3.2\u001b[0m\r\n"
     ]
    }
   ],
   "source": [
    "!pip install opencv-contrib-python==3.2"
   ]
  },
  {
   "cell_type": "code",
   "execution_count": null,
   "metadata": {},
   "outputs": [],
   "source": []
  }
 ],
 "metadata": {
  "kernelspec": {
   "display_name": "Python 3",
   "language": "python",
   "name": "python3"
  },
  "language_info": {
   "codemirror_mode": {
    "name": "ipython",
    "version": 3
   },
   "file_extension": ".py",
   "mimetype": "text/x-python",
   "name": "python",
   "nbconvert_exporter": "python",
   "pygments_lexer": "ipython3",
   "version": "3.7.6"
  }
 },
 "nbformat": 4,
 "nbformat_minor": 2
}
