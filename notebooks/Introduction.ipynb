{
 "cells": [
  {
   "cell_type": "code",
   "execution_count": null,
   "metadata": {},
   "outputs": [],
   "source": [
    "Project Title: Maize Disease Analysis\n",
    "\n",
    "Duration: 4 weeks\n",
    "    from \n",
    "    \n",
    "Meetings once every week for updates. 1 hour.\n",
    "We go through what I have done. Then I give you the plan for the next meetup.\n",
    "    \n",
    "Schedule:\n",
    "    1. Problem statement\n",
    "        What is the problem that we have identified. \n",
    "            Maize disease detection. \n",
    "            Background on these diseases.\n",
    "            \n",
    "        Who is it affecting? \n",
    "        How?\n",
    "        What is our solution?\n",
    "        How will we implement it?\n",
    "        Outcome\n",
    "    2. Data acquisition\n",
    "        What type of data?\n",
    "        Where did we find it?\n",
    "        How is it going to solve our problem?\n",
    "        Outcome: A dataset\n",
    "    3. Data exploration\n",
    "        We look through the data to gain insights.\n",
    "        What are the telling signs of a particular disease?\n",
    "        Outcome: The features that indicate particular diseases\n",
    "    4. Data preparation\n",
    "        Here we are concerned with generating features for our model \n",
    "        Ensure the features can be used with our model.\n",
    "        Outcome: Training and a test set\n",
    "    5. Modelling\n",
    "        We come up with five models\n",
    "        Choose the best three.\n",
    "        Outcome: Three of our best classifiers\n",
    "    6. Fine tuning\n",
    "        Hyper-parameter tuning\n",
    "        Model combination.\n",
    "        Outcome: Complete solution"
   ]
  },
  {
   "cell_type": "code",
   "execution_count": null,
   "metadata": {},
   "outputs": [],
   "source": [
    "Agenda:\n",
    "    1. Way forward\n",
    "    2. Environment set-up"
   ]
  },
  {
   "cell_type": "code",
   "execution_count": null,
   "metadata": {},
   "outputs": [],
   "source": [
    "1. Problem statement:\n",
    "    1. Define the problem\n",
    "    2. How will the solution be used? \n",
    "    3. What are the current solutions?\n",
    "    4. Type of problem:\n",
    "    5. How should perfomance be measured?\n",
    "    6. Is perfomance measure aligned with our objective?\n",
    "    7. What would be the minimum perfomance needed to achieve our objective?\n",
    "    8. What are comparable problems?\n",
    "    9. Is human expertise available?\n",
    "    10. How would you solve this problem manually?\n",
    "    11. List the assumptions made.\n",
    "    12. Verify assumptions if possible."
   ]
  },
  {
   "cell_type": "code",
   "execution_count": null,
   "metadata": {},
   "outputs": [],
   "source": [
    "2. Data acquisition\n",
    "    Automate as much as possible so that you can get fresh data\n",
    "    1. List the data and how much you need\n",
    "    2. Find and document where you can find that data\n",
    "    3. Check how much space it will take\n",
    "    4. Check legal obligations and get authorization if neccessary\n",
    "    5. Get access authorization\n",
    "    6. Create a workspace with enough storage space\n",
    "    7. Get the data\n",
    "    8. Convert the data to a form that you can easily manipulate\n",
    "    9. Ensure sensitive infirmation is deleted or protected.\n",
    "    10. Check the size and type of data\n",
    "    11. Sample a test set, put it aside and never look at it."
   ]
  },
  {
   "cell_type": "code",
   "execution_count": null,
   "metadata": {},
   "outputs": [],
   "source": [
    "3. Data exploration\n",
    "    Get insights from a field expert\n",
    "    1. Create a copy of the data for exploration(sampling it down to a manageable size)\n",
    "    2. Create a jupyter notebook to keep a record of your data exploration\n",
    "    3. Study each attribute and its characterictics:\n",
    "        Name\n",
    "        Type(categorical, int/float, bounded/unbounded, text, structured)\n",
    "        % missing values\n",
    "        Noisiness and type of noise(stochastic, outliers, rounding errors)\n",
    "        Possibly useful for the task\n",
    "        Type of distribution(Gaussian, Uniform, Logarithmic)\n",
    "    4. For supervised learning tasks, identify the target attributes\n",
    "    5. Visualize the data\n",
    "    6. Study the correlations between the attributes\n",
    "    7. Study how you would solve the problem manually\n",
    "    8. Identify the promising transformations you would want to apply\n",
    "    9. Identify and extract the data that would be useful\n",
    "    10. Document what you learnt"
   ]
  },
  {
   "cell_type": "code",
   "execution_count": null,
   "metadata": {},
   "outputs": [],
   "source": [
    "4. Data preparation\n",
    "    1. Data cleaning\n",
    "        Fix or remove outliers\n",
    "        Fill in missing values(e.g with zero, mean, median) or drop their row or column\n",
    "    2. Feature selection\n",
    "        Drop the attributes that provide no useful information for the task\n",
    "    3. Feature engineering, where appropriate\n",
    "        Discretize continuous features\n",
    "        Decompose features(e.g categorical, date/time)\n",
    "        Add promising transformations of features( e.g log(x), sqrt(x), x^2)\n",
    "        Aggregate features into promising new features\n",
    "    4. Feature scaling\n",
    "        Standardize or normalize features"
   ]
  },
  {
   "cell_type": "code",
   "execution_count": null,
   "metadata": {},
   "outputs": [],
   "source": [
    "5. Short-list promising models\n",
    "    Sample a fraction of the data to train many different types of models\n",
    "    1. Train many quick and dirty models from different categories e.g linear,naive bayes,\n",
    "        svm, Random Forests using Standard parameters\n",
    "    2. Measure and compare their perfomance\n",
    "        For each model, use N-fold cross-validation and compute the mean and standard \n",
    "        deviation of the perfomance measure on the N-folds\n",
    "    3. Analyze the most significant variables of each algorithm\n",
    "    4. Analyze the type of errors that the models make\n",
    "        What would a human have used to avoid these errors?\n",
    "    5. Have a quick round of feature selection and engineering\n",
    "    6. Have one or two more quick iterations of the five previous steps\n",
    "    7. Short-list the three to five most promising models that make different types of\n",
    "        errors"
   ]
  },
  {
   "cell_type": "code",
   "execution_count": null,
   "metadata": {},
   "outputs": [],
   "source": [
    "6. Fine-Tune the system\n",
    "    Use as much data as possible for this step\n",
    "    1. Fine-tune the hyper-parameters using cross-validation\n",
    "        Treat your data transformation choices as hyperparameters, especially when you are \n",
    "        not sure sure about them(e.g should I replace missing values with zeros or with\n",
    "        the median value or just drop the rows)\n",
    "        Unless there are very few hyperparameters to explore, prefer random search over grid\n",
    "        search. If training is very long, you may prefer a Bayesian optimization approach\n",
    "        (e.g Gaussian process priors)\n",
    "    2. Try ensemble methods(combining your best models will often perform better than \n",
    "        running them individually)\n",
    "    3. Once you are confident about your final model, measure the perfomance on the test set \n",
    "        to estimate the generalization errors"
   ]
  },
  {
   "cell_type": "code",
   "execution_count": null,
   "metadata": {},
   "outputs": [],
   "source": [
    "7. Present your solution\n",
    "    1. Document what you have done\n",
    "    2. Create a nice presentation\n",
    "        Make sure to highlight the big picture first\n",
    "    3. Explain why your solution achieves the bussiness objective\n",
    "    4. Do not forget to present interesting points you noticed along the way\n",
    "        Describe what worked and what did not\n",
    "        List your assumptions and your systems limitations\n",
    "    5. Ensure your key findings are communicated through beautiful visualizations or \n",
    "        easy-t-remeber statements e.g(the median income is the number one predictor of \n",
    "        housing prices)"
   ]
  }
 ],
 "metadata": {
  "kernelspec": {
   "display_name": "Python 3",
   "language": "python",
   "name": "python3"
  },
  "language_info": {
   "codemirror_mode": {
    "name": "ipython",
    "version": 3
   },
   "file_extension": ".py",
   "mimetype": "text/x-python",
   "name": "python",
   "nbconvert_exporter": "python",
   "pygments_lexer": "ipython3",
   "version": "3.7.4"
  }
 },
 "nbformat": 4,
 "nbformat_minor": 2
}
