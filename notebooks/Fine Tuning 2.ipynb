{
 "cells": [
  {
   "cell_type": "code",
   "execution_count": 1,
   "metadata": {},
   "outputs": [],
   "source": [
    "#for array manipulations\n",
    "import numpy as np\n",
    "import pandas as pd\n",
    "#for image processing\n",
    "import cv2 \n",
    "#for displaying images\n",
    "import matplotlib.pyplot as plt\n",
    "#to display images in this notebook, not in a separate window\n",
    "%matplotlib inline\n",
    "import seaborn as sns\n",
    "#to access system resources such as directories\n",
    "import os\n",
    "#This wilallow us to get the training time of each model\n",
    "import time\n",
    "import glob"
   ]
  },
  {
   "cell_type": "code",
   "execution_count": 2,
   "metadata": {},
   "outputs": [],
   "source": [
    "from sklearn.ensemble import RandomForestClassifier\n",
    "from sklearn.linear_model import LogisticRegression\n",
    "from sklearn.naive_bayes import BernoulliNB\n",
    "from sklearn.neighbors import KNeighborsClassifier\n",
    "from sklearn.neural_network import MLPClassifier\n",
    "from sklearn.svm import LinearSVC, SVC\n",
    "from sklearn.tree import DecisionTreeClassifier\n",
    "from sklearn.metrics import (accuracy_score, auc, classification_report, confusion_matrix, recall_score,\n",
    "            f1_score, precision_score, precision_recall_curve, precision_recall_fscore_support)\n",
    "from sklearn.preprocessing import StandardScaler\n",
    "from sklearn.model_selection import train_test_split\n",
    "from sklearn.preprocessing import LabelEncoder\n",
    "\n",
    "from sklearn.feature_selection import RFECV\n",
    "from sklearn.model_selection import KFold\n",
    "from sklearn.model_selection import cross_val_score, cross_val_predict \n",
    "from sklearn.model_selection import GridSearchCV\n",
    "\n",
    "from sklearn.ensemble import VotingClassifier"
   ]
  },
  {
   "cell_type": "code",
   "execution_count": 3,
   "metadata": {},
   "outputs": [],
   "source": [
    "#set our base directory. This should point to the location of the plant-diseases folder\n",
    "base_dir = 'C:\\\\Users\\\\USER\\\\Documents\\\\GitHub\\\\maize-disease-detection'\n",
    "#This is where our data is stored\n",
    "data_folder = os.path.join(base_dir, 'data')\n",
    "#Points to the folder containing the maize diseseases data\n",
    "maize_data_folder = os.path.join(data_folder, 'maize')\n",
    "#Contains our test data in different folders\n",
    "test_data_folder = os.path.join(data_folder, 'test')\n",
    "#this will contain our models and other model related data\n",
    "models_dir = os.path.join(base_dir,'models')"
   ]
  },
  {
   "cell_type": "code",
   "execution_count": 4,
   "metadata": {},
   "outputs": [],
   "source": [
    "def extract_features_hog(image, feature_size=4096):\n",
    "    hog = cv2.HOGDescriptor()\n",
    "    features = hog.compute(image)\n",
    "    required_features = features[:feature_size].ravel()\n",
    "    return required_features"
   ]
  },
  {
   "cell_type": "code",
   "execution_count": 39,
   "metadata": {},
   "outputs": [],
   "source": [
    "def extract_features_hog(image, feature_size=4096):\n",
    "    hog = cv2.HOGDescriptor()\n",
    "    features = hog.compute(image)\n",
    "    required_features = features[:feature_size].ravel()\n",
    "    return required_features\n",
    "\n",
    "def extract_features():\n",
    "    features = []\n",
    "    labels = []\n",
    "    diasese_names = ['common_rust', 'healthy', 'leaf_spot', 'nothern_leaf_blight']\n",
    "    for i, folder in enumerate(diasese_names):\n",
    "        folder_path = os.path.join(maize_data_folder, diasese_names[i])\n",
    "        image_paths = glob.glob(folder_path+'/*.jpg')\n",
    "        for image_path in image_paths[:300]:\n",
    "            image = cv2.imread(image_path, cv2.IMREAD_COLOR)\n",
    "            image = cv2.cvtColor(image,cv2.COLOR_BGR2RGB)\n",
    "            image_features = extract_features_hog(image)\n",
    "            image_label = diasese_names[i]\n",
    "            features.append(image_features)\n",
    "            labels.append(image_label)\n",
    "    features = np.array(features)\n",
    "    labels = np.array(labels)\n",
    "    features = StandardScaler().fit_transform(features)\n",
    "    labels = LabelEncoder().fit_transform(labels)\n",
    "    #X_train, X_test, y_train, y_test = train_test_split(features, labels, test_size=0.3)\n",
    "    \n",
    "    return  features, labels\n",
    "\n",
    "def extract_test_features():\n",
    "    test_features = []\n",
    "    test_labels = []\n",
    "    diasese_names = ['common_rust', 'healthy', 'leaf_spot', 'nothern_leaf_blight']\n",
    "    for i, folder in enumerate(diasese_names):\n",
    "        folder_path = os.path.join(test_data_folder, diasese_names[i])\n",
    "        image_paths = glob.glob(folder_path+'/*.jpg')\n",
    "        for image_path in image_paths[:30]:\n",
    "            image = cv2.imread(image_path, cv2.IMREAD_COLOR)\n",
    "            image = cv2.cvtColor(image,cv2.COLOR_BGR2RGB)\n",
    "            image_features = extract_features_hog(image)\n",
    "            image_label = diasese_names[i]\n",
    "            test_features.append(image_features)\n",
    "            test_labels.append(image_label)\n",
    "    test_features = np.array(test_features)\n",
    "    test_labels = np.array(test_labels)\n",
    "    test_features = StandardScaler().fit_transform(test_features)\n",
    "    test_labels = LabelEncoder().fit_transform(test_labels)\n",
    "    #X_train, X_test, y_train, y_test = train_test_split(features, labels, test_size=0.3)\n",
    "    \n",
    "    return  test_features, test_labels\n",
    "\n",
    "#This method trains a modelon the new features\n",
    "def train_model(model, features, labels):\n",
    "    start = time.time()\n",
    "    scores = cross_val_score(model, features, labels, scoring='accuracy', cv=10)\n",
    "    stop = time.time()\n",
    "    t = (stop - start)/10\n",
    "    return round(scores.mean(), 2), round(t, 4)\n",
    "\n",
    "def test_model(model, features, labels):\n",
    "    predictions = cross_val_predict(model, features, labels, cv=10)\n",
    "    accuracy = accuracy_score(predictions, labels)\n",
    "    return round(accuracy, 2)"
   ]
  },
  {
   "cell_type": "code",
   "execution_count": 47,
   "metadata": {},
   "outputs": [],
   "source": [
    "#The Random Forest classifier after hyperparameter tuning\n",
    "hog_random_forest = RandomForestClassifier(bootstrap=False, ccp_alpha=0.0, class_weight=None,\n",
    "                       criterion='entropy', max_depth=None, max_features=100,\n",
    "                       max_leaf_nodes=None, max_samples=None,\n",
    "                       min_impurity_decrease=0.0, min_impurity_split=None,\n",
    "                       min_samples_leaf=1, min_samples_split=2,\n",
    "                       min_weight_fraction_leaf=0.0, n_estimators=300,\n",
    "                       n_jobs=None, oob_score=False, random_state=None,\n",
    "                       verbose=0, warm_start=False)\n",
    "#The Logistic Regression classifier after hyperparameter tuning\n",
    "hog_logistic_regression = LogisticRegression(C=0.5, class_weight=None, dual=False, fit_intercept=True,\n",
    "                   intercept_scaling=1, l1_ratio=None, max_iter=200,\n",
    "                   multi_class='auto', n_jobs=None, penalty='l2',\n",
    "                   random_state=None, solver='lbfgs', tol=0.1, verbose=0,\n",
    "                   warm_start=False)\n",
    "#The K-Nearest Neighbors classifier after hyperparameter tuning\n",
    "hog_knearest_neighbors = KNeighborsClassifier(algorithm='auto', leaf_size=30, metric='minkowski',\n",
    "                     metric_params=None, n_jobs=None, n_neighbors=2, p=1,\n",
    "                     weights='distance')\n",
    "#The Linear Support Vector classifier after hyperparameter tuning\n",
    "hog_linear_svc = LinearSVC(C=0.0001, class_weight=None, dual=True, fit_intercept=True,\n",
    "          intercept_scaling=1, loss='squared_hinge', max_iter=1000,\n",
    "          multi_class='ovr', penalty='l2', random_state=None, tol=0.01,\n",
    "          verbose=0)\n",
    "#The Support Vector classifier after hyperparameter tuning\n",
    "hog_svc = SVC(C=0.1, break_ties=False, cache_size=200, class_weight=None, coef0=0.0,\n",
    "    decision_function_shape='ovr', degree=3, gamma='scale', kernel='linear',\n",
    "    max_iter=-1, probability=True, random_state=None, shrinking=True, tol=0.1,\n",
    "    verbose=False)\n",
    "#A list of our models\n",
    "hog_models = [\n",
    "    hog_random_forest,\n",
    "    hog_logistic_regression,\n",
    "    hog_knearest_neighbors,\n",
    "    hog_linear_svc,\n",
    "    hog_svc\n",
    "]\n",
    "#A list of the names of our models\n",
    "model_names = [\n",
    "    'Random Forest',\n",
    "    'Logistic Regression',\n",
    "    'K-Nearest Neighbor',\n",
    "    'Linear SVC',\n",
    "    'Support Vector Classifier'\n",
    "]\n",
    "\n",
    "estimators = [\n",
    "    ('Random Forest', hog_random_forest),\n",
    "    ('Logistic Regression', hog_logistic_regression),\n",
    "    ('K-Nearest Neighbor', hog_knearest_neighbors),\n",
    "    #('Linear SVC', hog_linear_svc),\n",
    "    ('Support Vector Classifier', hog_svc)\n",
    "]"
   ]
  },
  {
   "cell_type": "code",
   "execution_count": 32,
   "metadata": {},
   "outputs": [],
   "source": [
    "features, labels = extract_features()"
   ]
  },
  {
   "cell_type": "code",
   "execution_count": 33,
   "metadata": {},
   "outputs": [
    {
     "data": {
      "text/plain": [
       "((1200, 4096), (1200,))"
      ]
     },
     "execution_count": 33,
     "metadata": {},
     "output_type": "execute_result"
    }
   ],
   "source": [
    "features.shape, labels.shape"
   ]
  },
  {
   "cell_type": "code",
   "execution_count": 40,
   "metadata": {},
   "outputs": [],
   "source": [
    "test_features, test_labels = extract_test_features()"
   ]
  },
  {
   "cell_type": "code",
   "execution_count": 41,
   "metadata": {},
   "outputs": [
    {
     "data": {
      "text/plain": [
       "((120, 4096), (120,))"
      ]
     },
     "execution_count": 41,
     "metadata": {},
     "output_type": "execute_result"
    }
   ],
   "source": [
    "test_features.shape, test_labels.shape"
   ]
  },
  {
   "cell_type": "code",
   "execution_count": 34,
   "metadata": {},
   "outputs": [
    {
     "data": {
      "text/plain": [
       "(0.63, 2.3112)"
      ]
     },
     "execution_count": 34,
     "metadata": {},
     "output_type": "execute_result"
    }
   ],
   "source": [
    "accuracy, train_time = train_model(hog_knearest_neighbors, features, labels)\n",
    "accuracy, train_time"
   ]
  },
  {
   "cell_type": "code",
   "execution_count": 35,
   "metadata": {},
   "outputs": [
    {
     "data": {
      "text/plain": [
       "(0.73, 2.3589)"
      ]
     },
     "execution_count": 35,
     "metadata": {},
     "output_type": "execute_result"
    }
   ],
   "source": [
    "accuracy, train_time = train_model(hog_logistic_regression, features, labels)\n",
    "accuracy, train_time"
   ]
  },
  {
   "cell_type": "code",
   "execution_count": 36,
   "metadata": {},
   "outputs": [
    {
     "data": {
      "text/plain": [
       "(0.72, 0.7747)"
      ]
     },
     "execution_count": 36,
     "metadata": {},
     "output_type": "execute_result"
    }
   ],
   "source": [
    "accuracy, train_time = train_model(hog_linear_svc, features, labels)\n",
    "accuracy, train_time"
   ]
  },
  {
   "cell_type": "code",
   "execution_count": 37,
   "metadata": {},
   "outputs": [
    {
     "data": {
      "text/plain": [
       "(0.73, 23.5523)"
      ]
     },
     "execution_count": 37,
     "metadata": {},
     "output_type": "execute_result"
    }
   ],
   "source": [
    "accuracy, train_time = train_model(hog_svc, features, labels)\n",
    "accuracy, train_time"
   ]
  },
  {
   "cell_type": "code",
   "execution_count": 38,
   "metadata": {},
   "outputs": [
    {
     "data": {
      "text/plain": [
       "(0.77, 68.5912)"
      ]
     },
     "execution_count": 38,
     "metadata": {},
     "output_type": "execute_result"
    }
   ],
   "source": [
    "accuracy, train_time = train_model(hog_random_forest, features, labels)\n",
    "accuracy, train_time"
   ]
  },
  {
   "cell_type": "code",
   "execution_count": 42,
   "metadata": {},
   "outputs": [
    {
     "data": {
      "text/plain": [
       "0.52"
      ]
     },
     "execution_count": 42,
     "metadata": {},
     "output_type": "execute_result"
    }
   ],
   "source": [
    "test_model(hog_knearest_neighbors, test_features, test_labels)"
   ]
  },
  {
   "cell_type": "code",
   "execution_count": 43,
   "metadata": {},
   "outputs": [
    {
     "data": {
      "text/plain": [
       "0.56"
      ]
     },
     "execution_count": 43,
     "metadata": {},
     "output_type": "execute_result"
    }
   ],
   "source": [
    "test_model(hog_logistic_regression, test_features, test_labels)"
   ]
  },
  {
   "cell_type": "code",
   "execution_count": 44,
   "metadata": {},
   "outputs": [
    {
     "data": {
      "text/plain": [
       "0.57"
      ]
     },
     "execution_count": 44,
     "metadata": {},
     "output_type": "execute_result"
    }
   ],
   "source": [
    "test_model(hog_linear_svc, test_features, test_labels)"
   ]
  },
  {
   "cell_type": "code",
   "execution_count": 45,
   "metadata": {},
   "outputs": [
    {
     "data": {
      "text/plain": [
       "0.57"
      ]
     },
     "execution_count": 45,
     "metadata": {},
     "output_type": "execute_result"
    }
   ],
   "source": [
    "test_model(hog_svc, test_features, test_labels)"
   ]
  },
  {
   "cell_type": "code",
   "execution_count": 46,
   "metadata": {},
   "outputs": [
    {
     "data": {
      "text/plain": [
       "0.67"
      ]
     },
     "execution_count": 46,
     "metadata": {},
     "output_type": "execute_result"
    }
   ],
   "source": [
    "test_model(hog_random_forest, test_features, test_labels)"
   ]
  },
  {
   "cell_type": "code",
   "execution_count": 48,
   "metadata": {},
   "outputs": [
    {
     "data": {
      "text/plain": [
       "0.69"
      ]
     },
     "execution_count": 48,
     "metadata": {},
     "output_type": "execute_result"
    }
   ],
   "source": [
    "voting_classifier = VotingClassifier(\n",
    "    estimators=estimators,\n",
    "    voting='soft'\n",
    ")\n",
    "voting_classifier.fit(features, labels)\n",
    "accuracy = voting_classifier.score(test_features, test_labels)\n",
    "round(accuracy, 2)"
   ]
  },
  {
   "cell_type": "code",
   "execution_count": 49,
   "metadata": {},
   "outputs": [
    {
     "data": {
      "text/plain": [
       "0.65"
      ]
     },
     "execution_count": 49,
     "metadata": {},
     "output_type": "execute_result"
    }
   ],
   "source": [
    "best_estimators = [\n",
    "    ('Random Forest', hog_random_forest),\n",
    "    ('Logistic Regression', hog_logistic_regression),\n",
    "    ('Support Vector Classifier', hog_svc)\n",
    "]\n",
    "voting_classifier = VotingClassifier(\n",
    "    estimators=best_estimators,\n",
    "    voting='soft'\n",
    ")\n",
    "voting_classifier.fit(features, labels)\n",
    "accuracy = voting_classifier.score(test_features, test_labels)\n",
    "round(accuracy, 2)"
   ]
  },
  {
   "cell_type": "code",
   "execution_count": null,
   "metadata": {},
   "outputs": [],
   "source": []
  }
 ],
 "metadata": {
  "kernelspec": {
   "display_name": "Python 3",
   "language": "python",
   "name": "python3"
  },
  "language_info": {
   "codemirror_mode": {
    "name": "ipython",
    "version": 3
   },
   "file_extension": ".py",
   "mimetype": "text/x-python",
   "name": "python",
   "nbconvert_exporter": "python",
   "pygments_lexer": "ipython3",
   "version": "3.7.6"
  }
 },
 "nbformat": 4,
 "nbformat_minor": 4
}
