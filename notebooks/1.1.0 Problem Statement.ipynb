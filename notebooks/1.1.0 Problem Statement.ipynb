{
 "cells": [
  {
   "cell_type": "code",
   "execution_count": null,
   "metadata": {},
   "outputs": [],
   "source": [
    "1. Problem statement:\n",
    "    1. Define the problem\n",
    "        Farmers are unable to detect diseases on their crops by just looking at them. This\n",
    "        leads to damages that costs them lots of money. Our solution is to use captured\n",
    "        photos of crops to tell whether or not they are diseased and if diseased, tell the\n",
    "        particular disease affecting the plant. The farmer can then purchase the right \n",
    "        medicine for their plants.\n",
    "    2. How will the solution be used? \n",
    "        To determine the health level of crops in farms, allowing farmers to take necessary\n",
    "        actions i.e apply pesticicides or insecticides\n",
    "    3. What are the current solutions?\n",
    "        Eye balling crops to determine whether or not they are infected.\n",
    "        Watching out for insects or pests that are associated with a certain disease\n",
    "    4. Type of problem:\n",
    "        supervised, classification\n",
    "    5. How should perfomance be measured?\n",
    "    6. Is perfomance measure aligned with our objective?\n",
    "        Objective is to determine whether or not a plant has a particular.\n",
    "    7. What would be the minimum perfomance needed to achieve our objective?\n",
    "        Compare to human accuracy.\n",
    "    8. What are comparable problems?\n",
    "    9. Is human expertise available?\n",
    "        Nope, used Google\n",
    "    10. How would you solve this problem manually?\n",
    "    11. List the assumptions made.\n",
    "            The plants suffer from a single disease\n",
    "            The disease manifests its symptoms on the leaves.\n",
    "            The farmer is able to acquire high quality photos that can be used by the \n",
    "            model.\n",
    "    12. Verify assumptions if possible."
   ]
  }
 ],
 "metadata": {
  "kernelspec": {
   "display_name": "Python 3",
   "language": "python",
   "name": "python3"
  },
  "language_info": {
   "codemirror_mode": {
    "name": "ipython",
    "version": 3
   },
   "file_extension": ".py",
   "mimetype": "text/x-python",
   "name": "python",
   "nbconvert_exporter": "python",
   "pygments_lexer": "ipython3",
   "version": "3.7.6"
  }
 },
 "nbformat": 4,
 "nbformat_minor": 2
}
