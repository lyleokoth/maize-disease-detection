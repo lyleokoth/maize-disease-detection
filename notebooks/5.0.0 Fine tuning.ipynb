{
 "cells": [
  {
   "cell_type": "code",
   "execution_count": null,
   "metadata": {},
   "outputs": [],
   "source": [
    "'''\n",
    "Data augmentation, noise addition\n",
    "Descriptors\n",
    "Model perfomance\n",
    "Fine tuning\n",
    "'''"
   ]
  },
  {
   "cell_type": "code",
   "execution_count": null,
   "metadata": {},
   "outputs": [],
   "source": []
  },
  {
   "cell_type": "code",
   "execution_count": null,
   "metadata": {},
   "outputs": [],
   "source": [
    "'''\n",
    "In this notebook, we load the training data, which the models had not seen before.\n",
    "For each model, we train it on the training set then test it on the test set. We obtai its perfomance based on the precision, \n",
    "recall, f1 score and the accuracy.\n",
    "We then ensemble the models to find the perfomance\n",
    "'''"
   ]
  },
  {
   "cell_type": "code",
   "execution_count": 1,
   "metadata": {},
   "outputs": [],
   "source": [
    "#for array manipulations\n",
    "import numpy as np\n",
    "import pandas as pd\n",
    "#for image processing\n",
    "import cv2 \n",
    "#for displaying images\n",
    "import matplotlib.pyplot as plt\n",
    "#to display images in this notebook, not in a separate window\n",
    "%matplotlib inline\n",
    "import seaborn as sns\n",
    "#to access system resources such as directories\n",
    "import os\n",
    "#This wilallow us to get the training time of each model\n",
    "import time"
   ]
  },
  {
   "cell_type": "code",
   "execution_count": 97,
   "metadata": {},
   "outputs": [],
   "source": [
    "from sklearn.ensemble import RandomForestClassifier\n",
    "from sklearn.linear_model import LogisticRegression\n",
    "from sklearn.naive_bayes import BernoulliNB\n",
    "from sklearn.neighbors import KNeighborsClassifier\n",
    "from sklearn.neural_network import MLPClassifier\n",
    "from sklearn.svm import LinearSVC, SVC\n",
    "from sklearn.tree import DecisionTreeClassifier\n",
    "from sklearn.metrics import (accuracy_score, auc, classification_report, confusion_matrix, recall_score,\n",
    "            f1_score, precision_score, precision_recall_curve, precision_recall_fscore_support)\n",
    "from sklearn.preprocessing import StandardScaler\n",
    "from sklearn.model_selection import train_test_split\n",
    "from sklearn.preprocessing import LabelEncoder\n",
    "\n",
    "from sklearn.feature_selection import RFECV\n",
    "from sklearn.model_selection import KFold\n",
    "from sklearn.model_selection import cross_val_score, cross_val_predict \n",
    "from sklearn.model_selection import GridSearchCV\n",
    "\n",
    "from sklearn.ensemble import VotingClassifier"
   ]
  },
  {
   "cell_type": "code",
   "execution_count": 98,
   "metadata": {},
   "outputs": [
    {
     "data": {
      "text/plain": [
       "'C:\\\\Users\\\\USER\\\\Documents\\\\GitHub\\\\maize-disease-detection\\\\notebooks'"
      ]
     },
     "execution_count": 98,
     "metadata": {},
     "output_type": "execute_result"
    }
   ],
   "source": [
    "#The notebooks folder\n",
    "os.getcwd()"
   ]
  },
  {
   "cell_type": "code",
   "execution_count": 99,
   "metadata": {},
   "outputs": [],
   "source": [
    "#set our base directory. This should point to the location of the plant-diseases folder\n",
    "base_dir = 'C:\\\\Users\\\\USER\\\\Documents\\\\GitHub\\\\maize-disease-detection'\n",
    "#This is where our data is stored\n",
    "data_folder = os.path.join(base_dir, 'data')\n",
    "#Points to the folder containing the maize diseseases data\n",
    "maize_data_folder = os.path.join(data_folder, 'maize')\n",
    "#Contains our test data in different folders\n",
    "test_data_folder = os.path.join(data_folder, 'test')\n",
    "#this will contain our models and other model related data\n",
    "models_dir = os.path.join(base_dir,'models')"
   ]
  },
  {
   "cell_type": "code",
   "execution_count": 6,
   "metadata": {},
   "outputs": [],
   "source": [
    "#This function loads 32 images of a particular disease\n",
    "def get_32(disease):\n",
    "    '''\n",
    "    This function loads 32 images from the given directory\n",
    "    inputs\n",
    "    ------\n",
    "        disease: string\n",
    "            Foder name that could be common_rust, healthy, leaf_spot, nothern_leaf_blight\n",
    "    outputs\n",
    "    ........\n",
    "        disease_images: list\n",
    "            A list of images for the selected disease\n",
    "    '''\n",
    "    #this list will contain the 20 images returned\n",
    "    disease_images = []\n",
    "    #path to the images\n",
    "    disease_images_path = os.path.join(maize_data_folder, disease)\n",
    "    for image_path in os.listdir(disease_images_path):\n",
    "        image_path = os.path.join(disease_images_path, image_path)\n",
    "        image = cv2.imread(image_path, cv2.IMREAD_COLOR)\n",
    "        image = cv2.cvtColor(image,cv2.COLOR_BGR2RGB)\n",
    "        disease_images.append(image)\n",
    "    return disease_images\n",
    "\n",
    "#This function loads 32 images of a particular disease\n",
    "def get_test_images(disease):\n",
    "    '''\n",
    "    disease:\n",
    "        A string that could be common_rust, healthy, leaf_spot, nothern_leaf_blight\n",
    "    ........\n",
    "    disease_images:\n",
    "        A list of images for the selected disease\n",
    "    '''\n",
    "    #this list will contain the 20 images returned\n",
    "    disease_images = []\n",
    "    #path to the images\n",
    "    disease_images_path = os.path.join(test_data_folder, disease)\n",
    "    for image_path in os.listdir(disease_images_path)[:30]:\n",
    "        image_path = os.path.join(disease_images_path, image_path)\n",
    "        image = cv2.imread(image_path, cv2.IMREAD_COLOR)\n",
    "        image = cv2.cvtColor(image,cv2.COLOR_BGR2RGB)\n",
    "        disease_images.append(image)\n",
    "    return disease_images\n",
    "\n",
    "#This function will help us plot 10 images\n",
    "def plot_images(images, title):\n",
    "    '''\n",
    "    images: List\n",
    "        List of images\n",
    "    title: String\n",
    "        Title for each image i.e name of disease\n",
    "    '''\n",
    "    plt.figure(figsize=(15,6))\n",
    "    for i in range(10):\n",
    "        plt.subplot(2,5, i+1)\n",
    "        plt.imshow(images[i])\n",
    "        plt.title(title)\n",
    "        plt.xticks([])\n",
    "        plt.yticks([])\n",
    "    plt.show()\n",
    "    \n",
    "#This function generates ORB features\n",
    "def extract_features_orb(image, vector_size=32):\n",
    "    try:\n",
    "        feature_generator = cv2.ORB_create()\n",
    "        orb_keypoints = feature_generator.detect(image)\n",
    "        orb_keypoints = orb_keypoints[:32]\n",
    "        orb_keypoints, orb_descriptors = feature_generator.compute(image, orb_keypoints)\n",
    "        orb_descriptors = orb_descriptors.flatten()\n",
    "        #The descriptor vector size is 128\n",
    "        needed_size = (vector_size*128)\n",
    "        if orb_descriptors.size < needed_size:\n",
    "            #If we have less than 32 keypoints, add zeros to the end of our vector\n",
    "            orb_descriptors = np.concatenate([orb_descriptors, np.zeros(needed_size - orb_descriptors.size)])\n",
    "    except cv2.error as e:\n",
    "        print(f'Error: {e}')\n",
    "        return None\n",
    "    return orb_descriptors\n",
    "\n",
    "#This function generates KAZE features\n",
    "def extract_features_kaze(image, vector_size=32):\n",
    "    try:\n",
    "        feature_generator = cv2.KAZE_create()\n",
    "        kaze_keypoints = feature_generator.detect(image)\n",
    "        kaze_keypoints = kaze_keypoints[:32]\n",
    "        kaze_keypoints, kaze_descriptors = feature_generator.compute(image, kaze_keypoints)\n",
    "        kaze_descriptors = kaze_descriptors.flatten()\n",
    "        #The descriptor vector size is 128\n",
    "        needed_size = (vector_size*128)\n",
    "        if kaze_descriptors.size < needed_size:\n",
    "            #If we have less than 32 keypoints, add zeros to the end of our vector\n",
    "            kaze_descriptors = np.concatenate([kaze_descriptors, np.zeros(needed_size - kaze_descriptors.size)])\n",
    "    except cv2.error as e:\n",
    "        print(f'Error: {e}')\n",
    "        return None\n",
    "    return kaze_descriptors\n",
    "\n",
    "def extract_features_hog(image, feature_size=4096):\n",
    "    hog = cv2.HOGDescriptor()\n",
    "    features = hog.compute(image)\n",
    "    required_features = features[:feature_size].ravel()\n",
    "    return required_features\n",
    "\n",
    "#Let us extraxt KAZE features\n",
    "def extract_features(algorithm=0):\n",
    "    '''\n",
    "    Algorithm:\n",
    "        1 for ORB\n",
    "        0 for KAZE\n",
    "        2 for HOG\n",
    "    '''\n",
    "    #Now let us perform these steps for all the 32 images loaded\n",
    "    #This will contain all our images\n",
    "    all_images = []\n",
    "    #This will contain all our labels\n",
    "    all_labels = []\n",
    "    labels = ['common_rust', 'healthy', 'leaf_spot', 'nothern_leaf_blight']\n",
    "    for i, image_folder in enumerate([common_rust_images, healthy_images, leaf_spot_images, nothern_leaf_blight_images]):\n",
    "        for image in image_folder:\n",
    "            all_images.append(image)\n",
    "            all_labels.append(labels[i])\n",
    "    features, labels = [], []\n",
    "    for i, image in enumerate(all_images):\n",
    "        image_features = []\n",
    "        try:\n",
    "            if algorithm == 1:\n",
    "                image_features = extract_features_orb(image)\n",
    "            elif algorithm == 0:\n",
    "                image_features = extract_features_kaze(image)\n",
    "            else:\n",
    "                image_features = extract_features_hog(image)\n",
    "            image_label = all_labels[i]\n",
    "            features.append(image_features)\n",
    "            labels.append(image_label)\n",
    "        except AttributeError as e:\n",
    "            print(e)\n",
    "    features = np.array(features)\n",
    "    labels = np.array(labels)\n",
    "    features = StandardScaler().fit_transform(features)\n",
    "    labels = LabelEncoder().fit_transform(labels)\n",
    "    X_train, X_test, y_train, y_test = train_test_split(features, labels, test_size=0.3)\n",
    "    \n",
    "    return X_train, X_test, y_train, y_test\n",
    "\n",
    "#Let us extraxt KAZE features\n",
    "def extract_features2(algorithm=0):\n",
    "    '''\n",
    "    Algorithm:\n",
    "        1 for ORB\n",
    "        0 for KAZE\n",
    "        2 for HOG\n",
    "    '''\n",
    "    #Now let us perform these steps for all the 32 images loaded\n",
    "    #This will contain all our images\n",
    "    all_images = []\n",
    "    #This will contain all our labels\n",
    "    all_labels = []\n",
    "    labels = ['common_rust', 'healthy', 'leaf_spot', 'nothern_leaf_blight']\n",
    "    for i, image_folder in enumerate([common_rust_images, healthy_images, leaf_spot_images, nothern_leaf_blight_images]):\n",
    "        for image in image_folder:\n",
    "            all_images.append(image)\n",
    "            all_labels.append(labels[i])\n",
    "    features, labels = [], []\n",
    "    for i, image in enumerate(all_images):\n",
    "        image_features = []\n",
    "        try:\n",
    "            if algorithm == 1:\n",
    "                image_features = extract_features_orb(image)\n",
    "            elif algorithm == 0:\n",
    "                image_features = extract_features_kaze(image)\n",
    "            else:\n",
    "                image_features = extract_features_hog(image)\n",
    "            image_label = all_labels[i]\n",
    "            features.append(image_features)\n",
    "            labels.append(image_label)\n",
    "        except AttributeError as e:\n",
    "            print(e)\n",
    "    features = np.array(features)\n",
    "    labels = np.array(labels)\n",
    "    features = StandardScaler().fit_transform(features)\n",
    "    labels = LabelEncoder().fit_transform(labels)\n",
    "    \n",
    "    return features, labels\n",
    "\n",
    "#Let us extraxt KAZE features\n",
    "def extract_test_features2(algorithm=2):\n",
    "    '''\n",
    "    Algorithm:\n",
    "        1 for ORB\n",
    "        0 for KAZE\n",
    "        2 for HOG\n",
    "    '''\n",
    "    #Now let us perform these steps for all the 32 images loaded\n",
    "    #This will contain all our images\n",
    "    all_images = []\n",
    "    #This will contain all our labels\n",
    "    all_labels = []\n",
    "    labels = ['common_rust', 'healthy', 'leaf_spot', 'nothern_leaf_blight']\n",
    "    for i, image_folder in enumerate([common_rust_test_images, healthy_test_images, leaf_spot_test_images, nothern_leaf_blight_test_images]):\n",
    "        for image in image_folder:\n",
    "            all_images.append(image)\n",
    "            all_labels.append(labels[i])\n",
    "    features, labels = [], []\n",
    "    for i, image in enumerate(all_images):\n",
    "        image_features = []\n",
    "        try:\n",
    "            if algorithm == 1:\n",
    "                image_features = extract_features_orb(image)\n",
    "            elif algorithm == 0:\n",
    "                image_features = extract_features_kaze(image)\n",
    "            else:\n",
    "                image_features = extract_features_hog(image)\n",
    "            image_label = all_labels[i]\n",
    "            features.append(image_features)\n",
    "            labels.append(image_label)\n",
    "        except AttributeError as e:\n",
    "            print(e)\n",
    "    features = np.array(features)\n",
    "    labels = np.array(labels)\n",
    "    features = StandardScaler().fit_transform(features)\n",
    "    labels = LabelEncoder().fit_transform(labels)\n",
    "    \n",
    "    return features, labels\n",
    "\n",
    "#This method gives us a rough idea about the accuracy of the base models and their raining times\n",
    "def train_base_models(X_train, y_train, X_test, y_test):\n",
    "    '''\n",
    "    '''\n",
    "    model_accuracy = []\n",
    "    train_time = []\n",
    "    model_names = []\n",
    "    for i, classifier in enumerate(models):\n",
    "        try:\n",
    "            #Let us train the model and get the training time\n",
    "            start_time = time.time()\n",
    "            classifier.fit(X_train, y_train)\n",
    "            stop_time = time.time()\n",
    "            train_time.append(stop_time - start_time)\n",
    "            predictions = classifier.predict(X_test)\n",
    "            accuracy = accuracy_score(y_test, predictions)\n",
    "            model_accuracy.append(round(accuracy, 3))\n",
    "            model_names.append(names[i])\n",
    "            print(f'{names[i]}: {round(accuracy, 3)}')\n",
    "        except Exception as e:\n",
    "            print(f'Could not train {names[i]} because of {e}')\n",
    "    df = pd.DataFrame({'Model':model_names, 'Accuracy':model_accuracy, 'Train Time':train_time})\n",
    "    df = df.sort_values(by=['Accuracy'], ascending=False)\n",
    "    return df\n",
    "\n",
    "#This method gives us a rough idea about the accuracy of the base models and their raining times\n",
    "def train_base_models2(features, labels):\n",
    "    '''\n",
    "    '''\n",
    "    #We use cross-validation\n",
    "    model_accuracy = []\n",
    "    train_time = []\n",
    "    model_names = []\n",
    "    \n",
    "    for i, classifier in enumerate(models):\n",
    "        try:\n",
    "            #Let us train the model and get the training time\n",
    "            start_time = time.time()\n",
    "            scores = cross_val_score(classifier, features, labels, scoring='accuracy', cv=10)\n",
    "            stop_time = time.time()\n",
    "            train_time.append(stop_time - start_time)\n",
    "            model_accuracy.append(round(np.mean(scores), 3))\n",
    "            model_names.append(names[i])\n",
    "            print(f'{names[i]}: {round(np.mean(scores), 3)}')\n",
    "        except Exception as e:\n",
    "            print(f'Could not train {names[i]} because of {e}')\n",
    "    df = pd.DataFrame({'Model':model_names, 'Accuracy':model_accuracy, 'Train Time':train_time})\n",
    "    df = df.sort_values(by=['Accuracy'], ascending=False)\n",
    "    return df\n",
    "\n",
    "#This function returns the model perfomance on kaze data\n",
    "def kaze_results(algorithm=0):\n",
    "    models_names = []\n",
    "    model_perfomance = []\n",
    "    train_time = []\n",
    "    for i, model in enumerate(kaze_models):\n",
    "        start = time.time()\n",
    "        scores = cross_val_score(model, X,y, scoring='accuracy', cv=10)\n",
    "        stop = time.time()\n",
    "        models_names.append(model_names[i])\n",
    "        model_perfomance.append(round(scores.mean(), 2))\n",
    "        train_time.append((stop - start)/10)\n",
    "    df = pd.DataFrame({'Model Name':models_names, 'Model Accuracy':model_perfomance, 'Training time':train_time})\n",
    "    df = df.sort_values(by=['Model Accuracy'], ascending=False)\n",
    "    return df\n",
    "\n",
    "#This function returns the model perfomance on hog data\n",
    "def hog_results(X,y):\n",
    "    models_names = []\n",
    "    model_perfomance = []\n",
    "    train_time = []\n",
    "    for i, model in enumerate(hog_models):\n",
    "        start = time.time()\n",
    "        scores = cross_val_score(model, X, y, scoring='accuracy', cv=10)\n",
    "        stop = time.time()\n",
    "        models_names.append(model_names[i])\n",
    "        model_perfomance.append(round(scores.mean(), 2))\n",
    "        train_time.append((stop - start)/10)\n",
    "    df = pd.DataFrame({'Model Name':models_names, 'Model Accuracy':model_perfomance, 'Training Time':train_time})\n",
    "    df = df.sort_values(by=['Model Accuracy', 'Training Time'], ascending=False)\n",
    "    return df\n",
    "\n",
    "#This method generates new features for our training\n",
    "def get_new_features(model, features, labels):\n",
    "    kfold = KFold(n_splits=10)\n",
    "    model_rfecv = RFECV(estimator=model, step=1, cv=kfold, scoring='accuracy')\n",
    "    model_results = model_rfecv.fit(features, labels) \n",
    "    model_grid_scores = model_rfecv.grid_scores_\n",
    "    model_ranking = model_rfecv.ranking_\n",
    "    model_features_support = model_rfecv.support_\n",
    "    model_new_features = []\n",
    "    for i,feature in enumerate(model_features_support):\n",
    "        if feature:\n",
    "            model_new_features.append(i)\n",
    "    model_features = features[:,model_new_features]\n",
    "    return model_features\n",
    "\n",
    "\n",
    "#This method generates new features for our training\n",
    "def get_new_features2(np_file_name, features):\n",
    "    features_path = os.path.join(models_dir, np_file_name)\n",
    "    model_features_support = np.load(features_path)\n",
    "    model_new_features = []\n",
    "    for i,feature in enumerate(model_features_support):\n",
    "        if feature:\n",
    "            model_new_features.append(i)\n",
    "    model_features = features[:,model_new_features]\n",
    "    return model_features\n",
    "\n",
    "#This method trains a modelon the new features\n",
    "def train_model(model, features, labels):\n",
    "    start = time.time()\n",
    "    scores = cross_val_score(model, features, labels, scoring='accuracy', cv=10)\n",
    "    stop = time.time()\n",
    "    t = (stop - start)/10\n",
    "    return round(scores.mean(), 2), round(t, 4)"
   ]
  },
  {
   "cell_type": "code",
   "execution_count": 7,
   "metadata": {},
   "outputs": [],
   "source": [
    "#Here we load 32 images for each disease category, used for model training\n",
    "common_rust_images = get_32('common_rust')\n",
    "healthy_images = get_32('healthy')\n",
    "leaf_spot_images = get_32('leaf_spot')\n",
    "nothern_leaf_blight_images = get_32('nothern_leaf_blight')"
   ]
  },
  {
   "cell_type": "code",
   "execution_count": 8,
   "metadata": {},
   "outputs": [],
   "source": [
    "#Here we load 30 images for each disease category, used for model testing\n",
    "common_rust_test_images = get_test_images('common_rust')\n",
    "healthy_test_images = get_test_images('healthy')\n",
    "leaf_spot_test_images = get_test_images('leaf_spot')\n",
    "nothern_leaf_blight_test_images = get_test_images('nothern_leaf_blight')"
   ]
  },
  {
   "cell_type": "code",
   "execution_count": 83,
   "metadata": {},
   "outputs": [],
   "source": [
    "#The Random Forest classifier after hyperparameter tuning\n",
    "hog_random_forest = RandomForestClassifier(bootstrap=False, ccp_alpha=0.0, class_weight=None,\n",
    "                       criterion='entropy', max_depth=None, max_features=100,\n",
    "                       max_leaf_nodes=None, max_samples=None,\n",
    "                       min_impurity_decrease=0.0, min_impurity_split=None,\n",
    "                       min_samples_leaf=1, min_samples_split=2,\n",
    "                       min_weight_fraction_leaf=0.0, n_estimators=300,\n",
    "                       n_jobs=None, oob_score=False, random_state=None,\n",
    "                       verbose=0, warm_start=False)\n",
    "#The Logistic Regression classifier after hyperparameter tuning\n",
    "hog_logistic_regression = LogisticRegression(C=0.5, class_weight=None, dual=False, fit_intercept=True,\n",
    "                   intercept_scaling=1, l1_ratio=None, max_iter=200,\n",
    "                   multi_class='auto', n_jobs=None, penalty='l2',\n",
    "                   random_state=None, solver='lbfgs', tol=0.1, verbose=0,\n",
    "                   warm_start=False)\n",
    "#The K-Nearest Neighbors classifier after hyperparameter tuning\n",
    "hog_knearest_neighbors = KNeighborsClassifier(algorithm='auto', leaf_size=30, metric='minkowski',\n",
    "                     metric_params=None, n_jobs=None, n_neighbors=2, p=1,\n",
    "                     weights='distance')\n",
    "#The Linear Support Vector classifier after hyperparameter tuning\n",
    "hog_linear_svc = LinearSVC(C=0.0001, class_weight=None, dual=True, fit_intercept=True,\n",
    "          intercept_scaling=1, loss='squared_hinge', max_iter=1000,\n",
    "          multi_class='ovr', penalty='l2', random_state=None, tol=0.01,\n",
    "          verbose=0)\n",
    "#The Support Vector classifier after hyperparameter tuning\n",
    "hog_svc = SVC(C=0.1, break_ties=False, cache_size=200, class_weight=None, coef0=0.0,\n",
    "    decision_function_shape='ovr', degree=3, gamma='scale', kernel='linear',\n",
    "    max_iter=-1, probability=True, random_state=None, shrinking=True, tol=0.1,\n",
    "    verbose=False)\n",
    "#A list of our models\n",
    "hog_models = [\n",
    "    hog_random_forest,\n",
    "    hog_logistic_regression,\n",
    "    hog_knearest_neighbors,\n",
    "    hog_linear_svc,\n",
    "    hog_svc\n",
    "]\n",
    "#A list of the names of our models\n",
    "model_names = [\n",
    "    'Random Forest',\n",
    "    'Logistic Regression',\n",
    "    'K-Nearest Neighbor',\n",
    "    'Linear SVC',\n",
    "    'Support Vector Classifier'\n",
    "]"
   ]
  },
  {
   "cell_type": "code",
   "execution_count": 10,
   "metadata": {},
   "outputs": [
    {
     "data": {
      "text/plain": [
       "((128, 4096), (128,))"
      ]
     },
     "execution_count": 10,
     "metadata": {},
     "output_type": "execute_result"
    }
   ],
   "source": [
    "#Extract features from the loaded images using hog\n",
    "X, y = extract_features2(algorithm=2)\n",
    "#128 instances each with 4096 features\n",
    "X.shape, y.shape"
   ]
  },
  {
   "cell_type": "code",
   "execution_count": 11,
   "metadata": {},
   "outputs": [
    {
     "data": {
      "text/plain": [
       "((120, 4096), (120,))"
      ]
     },
     "execution_count": 11,
     "metadata": {},
     "output_type": "execute_result"
    }
   ],
   "source": [
    "#Extract features from the loaded test images\n",
    "test_features, test_labels = extract_test_features2()\n",
    "#120 instances each with 4096 features\n",
    "test_features.shape, test_labels.shape"
   ]
  },
  {
   "cell_type": "code",
   "execution_count": 12,
   "metadata": {},
   "outputs": [
    {
     "data": {
      "text/plain": [
       "(128, 796)"
      ]
     },
     "execution_count": 12,
     "metadata": {},
     "output_type": "execute_result"
    }
   ],
   "source": [
    "#Selected features for logistic regression model training, after feature selection\n",
    "lr_features = get_new_features2('lr_support.npy', X)\n",
    "lr_features.shape"
   ]
  },
  {
   "cell_type": "code",
   "execution_count": 13,
   "metadata": {},
   "outputs": [
    {
     "data": {
      "text/plain": [
       "(120, 796)"
      ]
     },
     "execution_count": 13,
     "metadata": {},
     "output_type": "execute_result"
    }
   ],
   "source": [
    "#Selected features for logistic regression model testing, after feature selection\n",
    "lr_test_features = get_new_features2('lr_support.npy', test_features)\n",
    "lr_test_features.shape"
   ]
  },
  {
   "cell_type": "code",
   "execution_count": 14,
   "metadata": {},
   "outputs": [
    {
     "data": {
      "text/plain": [
       "(128, 2566)"
      ]
     },
     "execution_count": 14,
     "metadata": {},
     "output_type": "execute_result"
    }
   ],
   "source": [
    "#Selected features for linear support vector model training, after feature selection\n",
    "linear_svc_features = get_new_features2('linear_svc_support.npy', X)\n",
    "linear_svc_features.shape"
   ]
  },
  {
   "cell_type": "code",
   "execution_count": 15,
   "metadata": {},
   "outputs": [
    {
     "data": {
      "text/plain": [
       "(120, 2566)"
      ]
     },
     "execution_count": 15,
     "metadata": {},
     "output_type": "execute_result"
    }
   ],
   "source": [
    "#Selected features for linear support vector model testing, after feature selection\n",
    "linear_svc_test_features = get_new_features2('linear_svc_support.npy', test_features)\n",
    "linear_svc_test_features.shape"
   ]
  },
  {
   "cell_type": "code",
   "execution_count": 84,
   "metadata": {},
   "outputs": [
    {
     "data": {
      "text/plain": [
       "(128, 126)"
      ]
     },
     "execution_count": 84,
     "metadata": {},
     "output_type": "execute_result"
    }
   ],
   "source": [
    "#Selected features for support vector model training, after feature selection\n",
    "svc_features = get_new_features2('svc_support.npy', X)\n",
    "svc_features.shape"
   ]
  },
  {
   "cell_type": "code",
   "execution_count": 85,
   "metadata": {},
   "outputs": [
    {
     "data": {
      "text/plain": [
       "(120, 126)"
      ]
     },
     "execution_count": 85,
     "metadata": {},
     "output_type": "execute_result"
    }
   ],
   "source": [
    "#Selected features for support vector model testing, after feature selection\n",
    "svc_test_features = get_new_features2('svc_support.npy', test_features)\n",
    "svc_test_features.shape"
   ]
  },
  {
   "cell_type": "code",
   "execution_count": null,
   "metadata": {},
   "outputs": [],
   "source": [
    "'''\n",
    "For each model, we are going to:\n",
    "1. Train it\n",
    "2. Find the training time\n",
    "3. Test it:\n",
    "4. Discover the type of errors it makes\n",
    "5. Find out its robustness to noise:\n",
    "    We will add noise to the images as well as transform them and find out how well the model does\n",
    "6. Choose the best 3 and ensemble them\n",
    "'''"
   ]
  },
  {
   "cell_type": "code",
   "execution_count": 18,
   "metadata": {},
   "outputs": [
    {
     "data": {
      "text/plain": [
       "0.2376"
      ]
     },
     "execution_count": 18,
     "metadata": {},
     "output_type": "execute_result"
    }
   ],
   "source": [
    "'''\n",
    "We start with Logistic Regression\n",
    "1. Train time\n",
    "2. Accuracy\n",
    "'''\n",
    "#Train the model and determine the traiing time\n",
    "start = time.time()\n",
    "hog_logistic_regression.fit(lr_features, y)\n",
    "stop = time.time()\n",
    "train_time = round((stop - start), 4)\n",
    "train_time"
   ]
  },
  {
   "cell_type": "code",
   "execution_count": 19,
   "metadata": {},
   "outputs": [
    {
     "data": {
      "text/plain": [
       "0.6083333333333333"
      ]
     },
     "execution_count": 19,
     "metadata": {},
     "output_type": "execute_result"
    }
   ],
   "source": [
    "#Test the model accuracy on the test set\n",
    "predictions = cross_val_predict(hog_logistic_regression, lr_test_features, test_labels, cv=10)\n",
    "accuracy_score(predictions, test_labels)"
   ]
  },
  {
   "cell_type": "code",
   "execution_count": 20,
   "metadata": {},
   "outputs": [],
   "source": [
    "'''\n",
    "Here we just modified this function to return al the features and labels\n",
    "'''\n",
    "def extract_features_z(algorithm=0):\n",
    "    '''\n",
    "    Algorithm:\n",
    "        1 for ORB\n",
    "        0 for KAZE\n",
    "        2 for HOG\n",
    "    '''\n",
    "    #Now let us perform these steps for all the 32 images loaded\n",
    "    #This will contain all our images\n",
    "    all_images = []\n",
    "    #This will contain all our labels\n",
    "    all_labels = []\n",
    "    labels = ['common_rust', 'healthy', 'leaf_spot', 'nothern_leaf_blight']\n",
    "    for i, image_folder in enumerate([common_rust_images, healthy_images, leaf_spot_images, nothern_leaf_blight_images]):\n",
    "        for image in image_folder:\n",
    "            all_images.append(image)\n",
    "            all_labels.append(labels[i])\n",
    "    features, labels = [], []\n",
    "    for i, image in enumerate(all_images):\n",
    "        image_features = []\n",
    "        try:\n",
    "            if algorithm == 1:\n",
    "                image_features = extract_features_orb(image)\n",
    "            elif algorithm == 0:\n",
    "                image_features = extract_features_kaze(image)\n",
    "            else:\n",
    "                image_features = extract_features_hog(image)\n",
    "            image_label = all_labels[i]\n",
    "            features.append(image_features)\n",
    "            labels.append(image_label)\n",
    "        except AttributeError as e:\n",
    "            print(e)\n",
    "    features = np.array(features)\n",
    "    labels = np.array(labels)\n",
    "    features = StandardScaler().fit_transform(features)\n",
    "    \n",
    "    return features, labels\n",
    "\n",
    "#The features and labels\n",
    "a, b = extract_features_z()\n",
    "#We create an encoder\n",
    "encoder = LabelEncoder()\n",
    "#Fit it to the labels\n",
    "z = encoder.fit_transform(b)\n",
    "#Used the trained encoder to decode the labels, i.e come from 0,1,2 to common_rust, healthy, leaf_spot\n",
    "decoded_predictions = encoder.inverse_transform(predictions)\n",
    "decoded_test_labels = encoder.inverse_transform(test_labels)"
   ]
  },
  {
   "cell_type": "code",
   "execution_count": 21,
   "metadata": {},
   "outputs": [
    {
     "data": {
      "text/plain": [
       "array([[24,  2,  0,  1],\n",
       "       [ 3, 16,  4,  8],\n",
       "       [ 3,  4, 18,  6],\n",
       "       [ 0,  8,  8, 15]], dtype=int64)"
      ]
     },
     "execution_count": 21,
     "metadata": {},
     "output_type": "execute_result"
    }
   ],
   "source": [
    "#Confusion matrix. This shows us the models errors\n",
    "cm = confusion_matrix(decoded_predictions, decoded_test_labels, \n",
    "                      labels=['common_rust', 'healthy', 'leaf_spot', 'nothern_leaf_blight'])\n",
    "cm"
   ]
  },
  {
   "cell_type": "code",
   "execution_count": 22,
   "metadata": {},
   "outputs": [
    {
     "data": {
      "image/png": "[encoded data removed]",
      "text/plain": [
       "<Figure size 864x864 with 1 Axes>"
      ]
     },
     "metadata": {
      "needs_background": "light"
     },
     "output_type": "display_data"
    }
   ],
   "source": [
    "plt.figure(figsize=(12,12))\n",
    "sns.heatmap(cm, annot=True, cbar=False)\n",
    "plt.title('Confusion Matrix Visualization')\n",
    "plt.ylabel('True Values')\n",
    "plt.xlabel('Predicted Values')\n",
    "plt.show()"
   ]
  },
  {
   "cell_type": "code",
   "execution_count": null,
   "metadata": {},
   "outputs": [],
   "source": []
  },
  {
   "cell_type": "code",
   "execution_count": null,
   "metadata": {},
   "outputs": [],
   "source": [
    "'''\n",
    "From our encoder;\n",
    "    0 is for common_rust\n",
    "    1 is for healthy\n",
    "    2 is for leaf_spot\n",
    "    3 is for nothern_leaf_blight\n",
    "'''"
   ]
  },
  {
   "cell_type": "code",
   "execution_count": 23,
   "metadata": {},
   "outputs": [
    {
     "data": {
      "text/plain": [
       "0.62"
      ]
     },
     "execution_count": 23,
     "metadata": {},
     "output_type": "execute_result"
    }
   ],
   "source": [
    "#The models precision\n",
    "precision = precision_score(test_labels, predictions, average='weighted')\n",
    "round(precision, 2)"
   ]
  },
  {
   "cell_type": "code",
   "execution_count": 24,
   "metadata": {},
   "outputs": [
    {
     "data": {
      "text/plain": [
       "0.62"
      ]
     },
     "execution_count": 24,
     "metadata": {},
     "output_type": "execute_result"
    }
   ],
   "source": [
    "#The models recall\n",
    "recall = precision_score(test_labels, predictions, average='weighted')\n",
    "round(recall, 2)"
   ]
  },
  {
   "cell_type": "code",
   "execution_count": 25,
   "metadata": {},
   "outputs": [
    {
     "data": {
      "text/plain": [
       "0.61"
      ]
     },
     "execution_count": 25,
     "metadata": {},
     "output_type": "execute_result"
    }
   ],
   "source": [
    "#The f1 score\n",
    "f_score = f1_score(test_labels, predictions, average='weighted')\n",
    "round(f_score, 2)"
   ]
  },
  {
   "cell_type": "code",
   "execution_count": 26,
   "metadata": {},
   "outputs": [
    {
     "name": "stdout",
     "output_type": "stream",
     "text": [
      "                     precision    recall  f1-score   support\n",
      "\n",
      "        common_rust       0.89      0.80      0.84        30\n",
      "            healthy       0.52      0.53      0.52        30\n",
      "          leaf_spot       0.58      0.60      0.59        30\n",
      "nothern_leaf_blight       0.48      0.50      0.49        30\n",
      "\n",
      "           accuracy                           0.61       120\n",
      "          macro avg       0.62      0.61      0.61       120\n",
      "       weighted avg       0.62      0.61      0.61       120\n",
      "\n"
     ]
    }
   ],
   "source": [
    "print(classification_report(decoded_test_labels, decoded_predictions,  \n",
    "                      labels=['common_rust', 'healthy', 'leaf_spot', 'nothern_leaf_blight']))"
   ]
  },
  {
   "cell_type": "code",
   "execution_count": 27,
   "metadata": {},
   "outputs": [
    {
     "data": {
      "text/plain": [
       "0.2097"
      ]
     },
     "execution_count": 27,
     "metadata": {},
     "output_type": "execute_result"
    }
   ],
   "source": [
    "start = time.time()\n",
    "hog_knearest_neighbors.fit(X,y)\n",
    "stop = time.time()\n",
    "train_time = round((stop - start), 4)\n",
    "train_time"
   ]
  },
  {
   "cell_type": "code",
   "execution_count": 28,
   "metadata": {},
   "outputs": [
    {
     "data": {
      "text/plain": [
       "0.525"
      ]
     },
     "execution_count": 28,
     "metadata": {},
     "output_type": "execute_result"
    }
   ],
   "source": [
    "#Accuracy on the test set\n",
    "predictions = cross_val_predict(hog_knearest_neighbors, test_features, test_labels, cv=10)\n",
    "accuracy_score(predictions, test_labels)"
   ]
  },
  {
   "cell_type": "code",
   "execution_count": 29,
   "metadata": {},
   "outputs": [
    {
     "data": {
      "text/plain": [
       "array([[22,  1,  1,  3],\n",
       "       [ 2, 20, 12, 13],\n",
       "       [ 2,  5, 10,  3],\n",
       "       [ 4,  4,  7, 11]], dtype=int64)"
      ]
     },
     "execution_count": 29,
     "metadata": {},
     "output_type": "execute_result"
    }
   ],
   "source": [
    "decoded_predictions = encoder.inverse_transform(predictions)\n",
    "decoded_test_labels = encoder.inverse_transform(test_labels)\n",
    "\n",
    "#Confusion matrix\n",
    "cm = confusion_matrix(decoded_predictions, decoded_test_labels, \n",
    "                      labels=['common_rust', 'healthy', 'leaf_spot', 'nothern_leaf_blight'])\n",
    "cm"
   ]
  },
  {
   "cell_type": "code",
   "execution_count": 30,
   "metadata": {},
   "outputs": [
    {
     "data": {
      "image/png": "[encoded data removed]",
      "text/plain": [
       "<Figure size 864x864 with 1 Axes>"
      ]
     },
     "metadata": {
      "needs_background": "light"
     },
     "output_type": "display_data"
    }
   ],
   "source": [
    "plt.figure(figsize=(12,12))\n",
    "sns.heatmap(cm, annot=True, cbar=False)\n",
    "plt.title('Confusion Matrix Visualization')\n",
    "plt.ylabel('True Values')\n",
    "plt.xlabel('Predicted Values')\n",
    "plt.show()"
   ]
  },
  {
   "cell_type": "code",
   "execution_count": 31,
   "metadata": {},
   "outputs": [
    {
     "data": {
      "text/plain": [
       "0.54"
      ]
     },
     "execution_count": 31,
     "metadata": {},
     "output_type": "execute_result"
    }
   ],
   "source": [
    "\n",
    "precision = precision_score(test_labels, predictions, average='weighted')\n",
    "round(precision, 2)"
   ]
  },
  {
   "cell_type": "code",
   "execution_count": 32,
   "metadata": {},
   "outputs": [
    {
     "data": {
      "text/plain": [
       "0.54"
      ]
     },
     "execution_count": 32,
     "metadata": {},
     "output_type": "execute_result"
    }
   ],
   "source": [
    "\n",
    "recall = precision_score(test_labels, predictions, average='weighted')\n",
    "round(recall, 2)"
   ]
  },
  {
   "cell_type": "code",
   "execution_count": 33,
   "metadata": {},
   "outputs": [
    {
     "data": {
      "text/plain": [
       "0.52"
      ]
     },
     "execution_count": 33,
     "metadata": {},
     "output_type": "execute_result"
    }
   ],
   "source": [
    "f_score = f1_score(test_labels, predictions, average='weighted')\n",
    "round(f_score, 2)"
   ]
  },
  {
   "cell_type": "code",
   "execution_count": 34,
   "metadata": {},
   "outputs": [
    {
     "name": "stdout",
     "output_type": "stream",
     "text": [
      "                     precision    recall  f1-score   support\n",
      "\n",
      "        common_rust       0.81      0.73      0.77        30\n",
      "            healthy       0.43      0.67      0.52        30\n",
      "          leaf_spot       0.50      0.33      0.40        30\n",
      "nothern_leaf_blight       0.42      0.37      0.39        30\n",
      "\n",
      "           accuracy                           0.53       120\n",
      "          macro avg       0.54      0.52      0.52       120\n",
      "       weighted avg       0.54      0.53      0.52       120\n",
      "\n"
     ]
    }
   ],
   "source": [
    "print(classification_report(decoded_test_labels, decoded_predictions,  \n",
    "                      labels=['common_rust', 'healthy', 'leaf_spot', 'nothern_leaf_blight']))"
   ]
  },
  {
   "cell_type": "code",
   "execution_count": 48,
   "metadata": {},
   "outputs": [
    {
     "data": {
      "text/plain": [
       "0.078"
      ]
     },
     "execution_count": 48,
     "metadata": {},
     "output_type": "execute_result"
    }
   ],
   "source": [
    "start = time.time()\n",
    "hog_linear_svc.fit(X,y)\n",
    "stop = time.time()\n",
    "train_time = round((stop - start), 4)\n",
    "train_time"
   ]
  },
  {
   "cell_type": "code",
   "execution_count": 49,
   "metadata": {},
   "outputs": [
    {
     "data": {
      "text/plain": [
       "0.6083333333333333"
      ]
     },
     "execution_count": 49,
     "metadata": {},
     "output_type": "execute_result"
    }
   ],
   "source": [
    "#Accuracy on the test set\n",
    "predictions = cross_val_predict(hog_linear_svc, linear_svc_test_features, test_labels, cv=10)\n",
    "accuracy_score(predictions, test_labels)"
   ]
  },
  {
   "cell_type": "code",
   "execution_count": 50,
   "metadata": {},
   "outputs": [
    {
     "data": {
      "text/plain": [
       "array([[24,  1,  2,  2],\n",
       "       [ 4, 16,  5,  7],\n",
       "       [ 1,  4, 15,  3],\n",
       "       [ 1,  9,  8, 18]], dtype=int64)"
      ]
     },
     "execution_count": 50,
     "metadata": {},
     "output_type": "execute_result"
    }
   ],
   "source": [
    "decoded_predictions = encoder.inverse_transform(predictions)\n",
    "decoded_test_labels = encoder.inverse_transform(test_labels)\n",
    "\n",
    "#Confusion matrix\n",
    "cm = confusion_matrix(decoded_predictions, decoded_test_labels, \n",
    "                      labels=['common_rust', 'healthy', 'leaf_spot', 'nothern_leaf_blight'])\n",
    "cm"
   ]
  },
  {
   "cell_type": "code",
   "execution_count": 51,
   "metadata": {},
   "outputs": [
    {
     "data": {
      "image/png": "[encoded data removed]",
      "text/plain": [
       "<Figure size 864x864 with 1 Axes>"
      ]
     },
     "metadata": {
      "needs_background": "light"
     },
     "output_type": "display_data"
    }
   ],
   "source": [
    "plt.figure(figsize=(12,12))\n",
    "sns.heatmap(cm, annot=True, cbar=False)\n",
    "plt.title('Confusion Matrix Visualization')\n",
    "plt.ylabel('True Values')\n",
    "plt.xlabel('Predicted Values')\n",
    "plt.show()"
   ]
  },
  {
   "cell_type": "code",
   "execution_count": 52,
   "metadata": {},
   "outputs": [
    {
     "data": {
      "text/plain": [
       "0.62"
      ]
     },
     "execution_count": 52,
     "metadata": {},
     "output_type": "execute_result"
    }
   ],
   "source": [
    "\n",
    "precision = precision_score(test_labels, predictions, average='weighted')\n",
    "round(precision, 2)"
   ]
  },
  {
   "cell_type": "code",
   "execution_count": 53,
   "metadata": {},
   "outputs": [
    {
     "data": {
      "text/plain": [
       "0.62"
      ]
     },
     "execution_count": 53,
     "metadata": {},
     "output_type": "execute_result"
    }
   ],
   "source": [
    "\n",
    "recall = precision_score(test_labels, predictions, average='weighted')\n",
    "round(recall, 2)"
   ]
  },
  {
   "cell_type": "code",
   "execution_count": 54,
   "metadata": {},
   "outputs": [
    {
     "data": {
      "text/plain": [
       "0.61"
      ]
     },
     "execution_count": 54,
     "metadata": {},
     "output_type": "execute_result"
    }
   ],
   "source": [
    "f_score = f1_score(test_labels, predictions, average='weighted')\n",
    "round(f_score, 2)"
   ]
  },
  {
   "cell_type": "code",
   "execution_count": 55,
   "metadata": {},
   "outputs": [
    {
     "name": "stdout",
     "output_type": "stream",
     "text": [
      "                     precision    recall  f1-score   support\n",
      "\n",
      "        common_rust       0.83      0.80      0.81        30\n",
      "            healthy       0.50      0.53      0.52        30\n",
      "          leaf_spot       0.65      0.50      0.57        30\n",
      "nothern_leaf_blight       0.50      0.60      0.55        30\n",
      "\n",
      "           accuracy                           0.61       120\n",
      "          macro avg       0.62      0.61      0.61       120\n",
      "       weighted avg       0.62      0.61      0.61       120\n",
      "\n"
     ]
    }
   ],
   "source": [
    "print(classification_report(decoded_test_labels, decoded_predictions,  \n",
    "                      labels=['common_rust', 'healthy', 'leaf_spot', 'nothern_leaf_blight']))"
   ]
  },
  {
   "cell_type": "code",
   "execution_count": 86,
   "metadata": {},
   "outputs": [
    {
     "data": {
      "text/plain": [
       "0.4167"
      ]
     },
     "execution_count": 86,
     "metadata": {},
     "output_type": "execute_result"
    }
   ],
   "source": [
    "start = time.time()\n",
    "hog_svc.fit(X,y)\n",
    "stop = time.time()\n",
    "train_time = round((stop - start), 4)\n",
    "train_time"
   ]
  },
  {
   "cell_type": "code",
   "execution_count": 87,
   "metadata": {},
   "outputs": [
    {
     "data": {
      "text/plain": [
       "0.5"
      ]
     },
     "execution_count": 87,
     "metadata": {},
     "output_type": "execute_result"
    }
   ],
   "source": [
    "#Accuracy on the test set\n",
    "predictions = cross_val_predict(hog_svc, svc_test_features, test_labels, cv=10)\n",
    "accuracy_score(predictions, test_labels)"
   ]
  },
  {
   "cell_type": "code",
   "execution_count": 88,
   "metadata": {},
   "outputs": [
    {
     "data": {
      "text/plain": [
       "array([[24,  2,  1,  2],\n",
       "       [ 3, 15,  5,  9],\n",
       "       [ 1,  7, 13, 11],\n",
       "       [ 2,  6, 11,  8]], dtype=int64)"
      ]
     },
     "execution_count": 88,
     "metadata": {},
     "output_type": "execute_result"
    }
   ],
   "source": [
    "decoded_predictions = encoder.inverse_transform(predictions)\n",
    "decoded_test_labels = encoder.inverse_transform(test_labels)\n",
    "\n",
    "#Confusion matrix\n",
    "cm = confusion_matrix(decoded_predictions, decoded_test_labels, \n",
    "                      labels=['common_rust', 'healthy', 'leaf_spot', 'nothern_leaf_blight'])\n",
    "cm"
   ]
  },
  {
   "cell_type": "code",
   "execution_count": 89,
   "metadata": {},
   "outputs": [
    {
     "data": {
      "image/png": "[encoded data removed]",
      "text/plain": [
       "<Figure size 864x864 with 1 Axes>"
      ]
     },
     "metadata": {
      "needs_background": "light"
     },
     "output_type": "display_data"
    }
   ],
   "source": [
    "plt.figure(figsize=(12,12))\n",
    "sns.heatmap(cm, annot=True, cbar=False)\n",
    "plt.title('Confusion Matrix Visualization')\n",
    "plt.ylabel('True Values')\n",
    "plt.xlabel('Predicted Values')\n",
    "plt.show()"
   ]
  },
  {
   "cell_type": "code",
   "execution_count": 90,
   "metadata": {},
   "outputs": [
    {
     "data": {
      "text/plain": [
       "0.5"
      ]
     },
     "execution_count": 90,
     "metadata": {},
     "output_type": "execute_result"
    }
   ],
   "source": [
    "\n",
    "precision = precision_score(test_labels, predictions, average='weighted')\n",
    "round(precision, 2)"
   ]
  },
  {
   "cell_type": "code",
   "execution_count": 91,
   "metadata": {},
   "outputs": [
    {
     "data": {
      "text/plain": [
       "0.5"
      ]
     },
     "execution_count": 91,
     "metadata": {},
     "output_type": "execute_result"
    }
   ],
   "source": [
    "\n",
    "recall = precision_score(test_labels, predictions, average='weighted')\n",
    "round(recall, 2)"
   ]
  },
  {
   "cell_type": "code",
   "execution_count": 92,
   "metadata": {},
   "outputs": [
    {
     "data": {
      "text/plain": [
       "0.5"
      ]
     },
     "execution_count": 92,
     "metadata": {},
     "output_type": "execute_result"
    }
   ],
   "source": [
    "f_score = f1_score(test_labels, predictions, average='weighted')\n",
    "round(f_score, 2)"
   ]
  },
  {
   "cell_type": "code",
   "execution_count": 93,
   "metadata": {},
   "outputs": [
    {
     "name": "stdout",
     "output_type": "stream",
     "text": [
      "                     precision    recall  f1-score   support\n",
      "\n",
      "        common_rust       0.83      0.80      0.81        30\n",
      "            healthy       0.47      0.50      0.48        30\n",
      "          leaf_spot       0.41      0.43      0.42        30\n",
      "nothern_leaf_blight       0.30      0.27      0.28        30\n",
      "\n",
      "           accuracy                           0.50       120\n",
      "          macro avg       0.50      0.50      0.50       120\n",
      "       weighted avg       0.50      0.50      0.50       120\n",
      "\n"
     ]
    }
   ],
   "source": [
    "print(classification_report(decoded_test_labels, decoded_predictions,  \n",
    "                      labels=['common_rust', 'healthy', 'leaf_spot', 'nothern_leaf_blight']))"
   ]
  },
  {
   "cell_type": "code",
   "execution_count": 66,
   "metadata": {},
   "outputs": [
    {
     "data": {
      "text/plain": [
       "4.6561"
      ]
     },
     "execution_count": 66,
     "metadata": {},
     "output_type": "execute_result"
    }
   ],
   "source": [
    "start = time.time()\n",
    "hog_random_forest.fit(X,y)\n",
    "stop = time.time()\n",
    "train_time = round((stop - start), 4)\n",
    "train_time"
   ]
  },
  {
   "cell_type": "code",
   "execution_count": 67,
   "metadata": {},
   "outputs": [
    {
     "data": {
      "text/plain": [
       "0.65"
      ]
     },
     "execution_count": 67,
     "metadata": {},
     "output_type": "execute_result"
    }
   ],
   "source": [
    "#Accuracy on the test set\n",
    "predictions = cross_val_predict(hog_random_forest, test_features, test_labels, cv=10)\n",
    "accuracy_score(predictions, test_labels)"
   ]
  },
  {
   "cell_type": "code",
   "execution_count": 68,
   "metadata": {},
   "outputs": [
    {
     "data": {
      "text/plain": [
       "array([[25,  1,  0,  1],\n",
       "       [ 1, 18,  5,  6],\n",
       "       [ 0,  3, 18,  6],\n",
       "       [ 4,  8,  7, 17]], dtype=int64)"
      ]
     },
     "execution_count": 68,
     "metadata": {},
     "output_type": "execute_result"
    }
   ],
   "source": [
    "decoded_predictions = encoder.inverse_transform(predictions)\n",
    "decoded_test_labels = encoder.inverse_transform(test_labels)\n",
    "\n",
    "#Confusion matrix\n",
    "cm = confusion_matrix(decoded_predictions, decoded_test_labels, \n",
    "                      labels=['common_rust', 'healthy', 'leaf_spot', 'nothern_leaf_blight'])\n",
    "cm"
   ]
  },
  {
   "cell_type": "code",
   "execution_count": 69,
   "metadata": {},
   "outputs": [
    {
     "data": {
      "image/png": "[encoded data removed]",
      "text/plain": [
       "<Figure size 864x864 with 1 Axes>"
      ]
     },
     "metadata": {
      "needs_background": "light"
     },
     "output_type": "display_data"
    }
   ],
   "source": [
    "plt.figure(figsize=(12,12))\n",
    "sns.heatmap(cm, annot=True, cbar=False)\n",
    "plt.title('Confusion Matrix Visualization')\n",
    "plt.ylabel('True Values')\n",
    "plt.xlabel('Predicted Values')\n",
    "plt.show()"
   ]
  },
  {
   "cell_type": "code",
   "execution_count": 70,
   "metadata": {},
   "outputs": [
    {
     "data": {
      "text/plain": [
       "0.67"
      ]
     },
     "execution_count": 70,
     "metadata": {},
     "output_type": "execute_result"
    }
   ],
   "source": [
    "\n",
    "precision = precision_score(test_labels, predictions, average='weighted')\n",
    "round(precision, 2)"
   ]
  },
  {
   "cell_type": "code",
   "execution_count": 71,
   "metadata": {},
   "outputs": [
    {
     "data": {
      "text/plain": [
       "0.67"
      ]
     },
     "execution_count": 71,
     "metadata": {},
     "output_type": "execute_result"
    }
   ],
   "source": [
    "\n",
    "recall = precision_score(test_labels, predictions, average='weighted')\n",
    "round(recall, 2)"
   ]
  },
  {
   "cell_type": "code",
   "execution_count": 72,
   "metadata": {},
   "outputs": [
    {
     "data": {
      "text/plain": [
       "0.66"
      ]
     },
     "execution_count": 72,
     "metadata": {},
     "output_type": "execute_result"
    }
   ],
   "source": [
    "f_score = f1_score(test_labels, predictions, average='weighted')\n",
    "round(f_score, 2)"
   ]
  },
  {
   "cell_type": "code",
   "execution_count": 73,
   "metadata": {},
   "outputs": [
    {
     "name": "stdout",
     "output_type": "stream",
     "text": [
      "                     precision    recall  f1-score   support\n",
      "\n",
      "        common_rust       0.93      0.83      0.88        30\n",
      "            healthy       0.60      0.60      0.60        30\n",
      "          leaf_spot       0.67      0.60      0.63        30\n",
      "nothern_leaf_blight       0.47      0.57      0.52        30\n",
      "\n",
      "           accuracy                           0.65       120\n",
      "          macro avg       0.67      0.65      0.66       120\n",
      "       weighted avg       0.67      0.65      0.66       120\n",
      "\n"
     ]
    }
   ],
   "source": [
    "print(classification_report(decoded_test_labels, decoded_predictions,  \n",
    "                      labels=['common_rust', 'healthy', 'leaf_spot', 'nothern_leaf_blight']))"
   ]
  },
  {
   "cell_type": "code",
   "execution_count": null,
   "metadata": {},
   "outputs": [],
   "source": [
    "'''\n",
    "These models perform very badly on the test set. This shows that the models do not generalize well and likely overfit\n",
    "on the training data. To deal with this, we will increse the traiing data in the next notebook\n",
    "'''"
   ]
  },
  {
   "cell_type": "code",
   "execution_count": null,
   "metadata": {},
   "outputs": [],
   "source": [
    "'''\n",
    "Let us ensemble the modles and find the perfomance\n",
    "'''"
   ]
  },
  {
   "cell_type": "code",
   "execution_count": 74,
   "metadata": {},
   "outputs": [],
   "source": [
    "from sklearn.ensemble import VotingClassifier"
   ]
  },
  {
   "cell_type": "code",
   "execution_count": 95,
   "metadata": {},
   "outputs": [],
   "source": [
    "estimators = [\n",
    "    ('Random Forest', hog_random_forest),\n",
    "    ('Logistic Regression', hog_logistic_regression),\n",
    "    ('K-Nearest Neighbor', hog_knearest_neighbors),\n",
    "    #('Linear SVC', hog_linear_svc),\n",
    "    ('Support Vector Classifier', hog_svc)\n",
    "]"
   ]
  },
  {
   "cell_type": "code",
   "execution_count": 96,
   "metadata": {},
   "outputs": [
    {
     "data": {
      "text/plain": [
       "0.58"
      ]
     },
     "execution_count": 96,
     "metadata": {},
     "output_type": "execute_result"
    }
   ],
   "source": [
    "voting_classifier = VotingClassifier(\n",
    "    estimators=estimators,\n",
    "    voting='soft'\n",
    ")\n",
    "voting_classifier.fit(X,y)\n",
    "accuracy = voting_classifier.score(test_features, test_labels)\n",
    "round(accuracy, 2)"
   ]
  },
  {
   "cell_type": "code",
   "execution_count": null,
   "metadata": {},
   "outputs": [],
   "source": [
    "#Stil performs poorly"
   ]
  }
 ],
 "metadata": {
  "kernelspec": {
   "display_name": "Python 3",
   "language": "python",
   "name": "python3"
  },
  "language_info": {
   "codemirror_mode": {
    "name": "ipython",
    "version": 3
   },
   "file_extension": ".py",
   "mimetype": "text/x-python",
   "name": "python",
   "nbconvert_exporter": "python",
   "pygments_lexer": "ipython3",
   "version": "3.7.6"
  }
 },
 "nbformat": 4,
 "nbformat_minor": 2
}
